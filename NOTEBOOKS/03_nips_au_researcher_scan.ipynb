{
 "cells": [
  {
   "cell_type": "markdown",
   "metadata": {},
   "source": [
    "Now that we have the datasets refreshed with 2017 data, let's repeat last year's analysis with a more specific intent to see who in Australia has been contributing to nips"
   ]
  },
  {
   "cell_type": "markdown",
   "metadata": {},
   "source": [
    "## Admin and imports"
   ]
  },
  {
   "cell_type": "code",
   "execution_count": 37,
   "metadata": {
    "collapsed": true
   },
   "outputs": [],
   "source": [
    "from bs4 import BeautifulSoup\n",
    "import json\n",
    "import os, sys\n",
    "import pandas as pd; import numpy as np\n",
    "import re\n",
    "import requests\n",
    "import subprocess\n",
    "from datetime import  datetime, date, timedelta\n",
    "import seaborn as sns"
   ]
  },
  {
   "cell_type": "markdown",
   "metadata": {},
   "source": [
    "## Import dataset"
   ]
  },
  {
   "cell_type": "code",
   "execution_count": 2,
   "metadata": {
    "collapsed": false
   },
   "outputs": [
    {
     "data": {
      "text/plain": [
       "((9787, 1), (7241, 6), (20843, 2))"
      ]
     },
     "execution_count": 2,
     "metadata": {},
     "output_type": "execute_result"
    }
   ],
   "source": [
    "df_auth = pd.read_json('output/authors.json')\n",
    "df_paper = pd.read_json('output/papers.json')\n",
    "df_pa = pd.read_json('output/paper_authors.json')\n",
    "df_auth.shape, df_paper.shape, df_pa.shape"
   ]
  },
  {
   "cell_type": "markdown",
   "metadata": {},
   "source": [
    "## filter for country specific papers and authors"
   ]
  },
  {
   "cell_type": "markdown",
   "metadata": {},
   "source": [
    "### Mark all papers likely from Australian authors"
   ]
  },
  {
   "cell_type": "code",
   "execution_count": 3,
   "metadata": {
    "collapsed": true
   },
   "outputs": [],
   "source": [
    "df_paper['paper_length'] = df_paper['paper_text'].str.split().apply(len)"
   ]
  },
  {
   "cell_type": "code",
   "execution_count": 4,
   "metadata": {
    "collapsed": true
   },
   "outputs": [],
   "source": [
    "# get the first 500 words of the paper text\n",
    "df_paper['paper_text_500_words'] = df_paper['paper_text'].apply(lambda x: ' '.join(x.split()[:500]))"
   ]
  },
  {
   "cell_type": "code",
   "execution_count": 6,
   "metadata": {
    "collapsed": false
   },
   "outputs": [],
   "source": [
    "# from an initial inspection of papers last year, I had noticed that authors from a particular country\n",
    "# features the name of the country somewhere - either after the university or in the abstract. So my guess\n",
    "# is that we can mine the first 500 words of a paper to see whether that paper by an Ozzie author. \n",
    "# obviously, there's huge chances of there being false positives, but what's the downside? I'll read an \n",
    "# additional paper from the top conference in my field?\n",
    "df_paper['country_paper'] = np.where(df_paper['paper_text_500_words'].str.upper().str.contains('AUSTRALIA'),1,0)"
   ]
  },
  {
   "cell_type": "code",
   "execution_count": 24,
   "metadata": {
    "collapsed": false
   },
   "outputs": [
    {
     "data": {
      "text/plain": [
       "0    7077\n",
       "1     164\n",
       "Name: country_paper, dtype: int64"
      ]
     },
     "execution_count": 24,
     "metadata": {},
     "output_type": "execute_result"
    }
   ],
   "source": [
    "df_paper['country_paper'].value_counts()"
   ]
  },
  {
   "cell_type": "markdown",
   "metadata": {},
   "source": [
    "Last year, i had gotten 154 papers with the same criterion. So safe to say that ~10 papers have been submitted in 2017. This will be a good litmus test."
   ]
  },
  {
   "cell_type": "code",
   "execution_count": 14,
   "metadata": {
    "collapsed": false
   },
   "outputs": [
    {
     "data": {
      "text/plain": [
       "<matplotlib.axes._subplots.AxesSubplot at 0x197e690b8>"
      ]
     },
     "execution_count": 14,
     "metadata": {},
     "output_type": "execute_result"
    },
    {
     "data": {
      "image/png": "[encoded data removed]",
      "text/plain": [
       "<matplotlib.figure.Figure at 0x197e0b160>"
      ]
     },
     "metadata": {},
     "output_type": "display_data"
    }
   ],
   "source": [
    "import matplotlib; import matplotlib.pyplot as plt\n",
    "%matplotlib inline\n",
    "plt.style.use('ggplot'); fig = plt.figure(figsize=(16,4));ax = fig.add_subplot(111)\n",
    "df_paper.loc[df_paper.country_paper==1,'year'].hist(bins=32)"
   ]
  },
  {
   "cell_type": "markdown",
   "metadata": {},
   "source": [
    "Interesting to see a fairly steady research contribution inspite of the hype machine surrounding AI over the past few years. I know that in Australia, more people have been joining AI industry as well as more roles/jobs have been opening up. Is this gap at the top AI talent not being filled by premium AI researchers in the country?"
   ]
  },
  {
   "cell_type": "code",
   "execution_count": 23,
   "metadata": {
    "collapsed": false
   },
   "outputs": [
    {
     "data": {
      "text/plain": [
       "(496, 7)"
      ]
     },
     "execution_count": 23,
     "metadata": {},
     "output_type": "execute_result"
    }
   ],
   "source": [
    "# get authors into the ozi dataset\n",
    "df_ozi = pd.merge(left=df_paper[df_paper.country_paper == 1], right=df_pa, left_index=True, right_on='paper_id',suffixes=('_papers', '_key'))\n",
    "df_ozi = pd.merge(left = df_ozi, right = df_auth, how='left',left_on='author_id', right_index=True,suffixes=('_country', '_author'))\n",
    "df_ozi.drop(['event_type','abstract','country_paper','paper_id','author_id'], axis = 1, inplace = True)\n",
    "df_ozi.shape"
   ]
  },
  {
   "cell_type": "code",
   "execution_count": 22,
   "metadata": {
    "collapsed": false
   },
   "outputs": [
    {
     "data": {
      "text/plain": [
       "(496, 7)"
      ]
     },
     "execution_count": 22,
     "metadata": {},
     "output_type": "execute_result"
    }
   ],
   "source": [
    "df_ozi.shape"
   ]
  },
  {
   "cell_type": "markdown",
   "metadata": {},
   "source": [
    "## Some exploratory analysis"
   ]
  },
  {
   "cell_type": "code",
   "execution_count": 26,
   "metadata": {
    "collapsed": false
   },
   "outputs": [
    {
     "data": {
      "text/plain": [
       "Poster       31\n",
       "Spotlight     5\n",
       "Oral          1\n",
       "Name: event_type, dtype: int64"
      ]
     },
     "execution_count": 26,
     "metadata": {},
     "output_type": "execute_result"
    }
   ],
   "source": [
    "df_paper[df_paper.country_paper==1].event_type.value_counts()"
   ]
  },
  {
   "cell_type": "markdown",
   "metadata": {},
   "source": [
    "I found in previous years' analysis that the conference **oral presentations** are single track, there are no oral presentations scheduled at the same time as one another. There are **spotlight** sessions which are several 5 minute presentations back to back in roughly the same length of slot that one oral presentation would get. The **poster** sessions are one big, loud, overcrowded science fair type thing held in the evenings of the main conference."
   ]
  },
  {
   "cell_type": "code",
   "execution_count": 38,
   "metadata": {
    "collapsed": false,
    "scrolled": true
   },
   "outputs": [
    {
     "data": {
      "text/plain": [
       "[]"
      ]
     },
     "execution_count": 38,
     "metadata": {},
     "output_type": "execute_result"
    },
    {
     "data": {
      "image/png": "[encoded data removed]",
      "text/plain": [
       "<matplotlib.figure.Figure at 0x11255b860>"
      ]
     },
     "metadata": {},
     "output_type": "display_data"
    }
   ],
   "source": [
    "# how big are the papers?\n",
    "fig, ax = plt.subplots()\n",
    "sns.kdeplot(df_paper.loc[df_paper.country_paper != 1,'paper_length'], shade=True, ax = ax, clip=(0,10000))\n",
    "sns.kdeplot(df_paper.loc[df_paper.country_paper == 1,'paper_length'], shade=True, ax = ax)\n",
    "ax.legend(labels=['papers NOT from AUS','papers from AUS'], loc = 'best')\n",
    "ax.yaxis.set_ticklabels([])"
   ]
  },
  {
   "cell_type": "markdown",
   "metadata": {},
   "source": [
    "A lot of papers are either 3K or 5.5K words...The density distribution in Australia and elsewhere is surprising. Is this one of nips requirements?"
   ]
  },
  {
   "cell_type": "markdown",
   "metadata": {},
   "source": [
    "## Lets impute university affiliations"
   ]
  },
  {
   "cell_type": "code",
   "execution_count": 41,
   "metadata": {
    "collapsed": true
   },
   "outputs": [],
   "source": [
    "# create a list of unis that you want to one-hot encode. When you refactor this, it can be a user input\n",
    "list_of_unis = ['NICTA','Data61','National ICT Australia','CSIRO','Australian National University','University of Sydney',\n",
    "                'Deakin University','University of New South Wales','University of Technology Sydney',\n",
    "                'University of Queensland','Curtin University of Technology','University of Adelaide',\n",
    "                'Sydney University','UNSW','University of Melbourne','Univ. of Sydney','University of Newcastle']"
   ]
  },
  {
   "cell_type": "code",
   "execution_count": null,
   "metadata": {
    "collapsed": true
   },
   "outputs": [],
   "source": [
    "df_ozi['affiliation'] = ''\n",
    "for uni in list_of_unis:\n",
    "    df_ozzie['affiliation'] = np.where(df_ozzie.paper_text_500_words.str.contains(uni),uni,df_ozzie['affiliation'])"
   ]
  },
  {
   "cell_type": "code",
   "execution_count": null,
   "metadata": {
    "collapsed": true
   },
   "outputs": [],
   "source": []
  },
  {
   "cell_type": "code",
   "execution_count": null,
   "metadata": {
    "collapsed": true
   },
   "outputs": [],
   "source": []
  },
  {
   "cell_type": "code",
   "execution_count": null,
   "metadata": {
    "collapsed": true
   },
   "outputs": [],
   "source": []
  },
  {
   "cell_type": "code",
   "execution_count": 35,
   "metadata": {
    "collapsed": false
   },
   "outputs": [
    {
     "name": "stdout",
     "output_type": "stream",
     "text": [
      "125 authors for analysis\n"
     ]
    },
    {
     "data": {
      "text/plain": [
       "Justin Domke            5\n",
       "Mark D. Reid            4\n",
       "Xinhua Zhang            4\n",
       "Robert C. Williamson    4\n",
       "Richard Nock            4\n",
       "Xianghang Liu           3\n",
       "Aaron Defazio           3\n",
       "Ian Reid                3\n",
       "Tib?rio S. Caetano      3\n",
       "Chunhua Shen            3\n",
       "Tong Zhang              2\n",
       "Aditya Menon            2\n",
       "Weidong Cai             2\n",
       "Trung Le                2\n",
       "Heng Huang              2\n",
       "Tu Nguyen               2\n",
       "Peng Lin                2\n",
       "Mathieu Salzmann        2\n",
       "Dale Schuurmans         2\n",
       "James Petterson         2\n",
       "Name: name, dtype: int64"
      ]
     },
     "execution_count": 35,
     "metadata": {},
     "output_type": "execute_result"
    }
   ],
   "source": [
    "# a few names of authors since 2010\n",
    "print ('{} authors for analysis'.format(df_ozi.loc[df_ozi.year > 2010,'name'].value_counts().shape[0]))\n",
    "df_ozi.loc[df_ozi.year > 2010,'name'].value_counts().head(20)       "
   ]
  },
  {
   "cell_type": "code",
   "execution_count": 40,
   "metadata": {
    "collapsed": false
   },
   "outputs": [
    {
     "data": {
      "text/plain": [
       "name                  year\n",
       "Ian Reid              2017    2\n",
       "Tong Zhang            2017    2\n",
       "Zac Cranko            2017    1\n",
       "Heng Huang            2017    1\n",
       "Lyle Palmer           2017    1\n",
       "Lizhen Qu             2017    1\n",
       "Lijie Fan             2017    1\n",
       "Junzhou Huang         2017    1\n",
       "Hung Vu               2017    1\n",
       "Hongdong Li           2017    1\n",
       "Hong Chen             2017    1\n",
       "Gustavo Carneiro      2017    1\n",
       "Mehrtash Harandi      2017    1\n",
       "Fuchun Sun            2017    1\n",
       "Dinh Phung            2017    1\n",
       "Dinggang Shen         2017    1\n",
       "David Rubin           2017    1\n",
       "Carl Jidling          2017    1\n",
       "Alessandra Sutti      2017    1\n",
       "Adrian Wills          2017    1\n",
       "Mathieu Salzmann      2017    1\n",
       "Murray Height         2017    1\n",
       "Xiaoqian Wang         2017    1\n",
       "Thomas B. Sch?n       2017    1\n",
       "Wenbing Huang         2017    1\n",
       "Weidong Cai           2017    1\n",
       "Tu Nguyen             2017    1\n",
       "Trung Pham            2017    1\n",
       "Trung Le              2017    1\n",
       "Toan Tran             2017    1\n",
       "Thomas Dorin          2017    1\n",
       "Svetha Venkatesh      2017    1\n",
       "Niklas Wahlstr?m      2017    1\n",
       "Sunil Gupta           2017    1\n",
       "Santu Rana            2017    1\n",
       "Robert C. Williamson  2017    1\n",
       "Richard Nock          2017    1\n",
       "Pratibha Vellanki     2017    1\n",
       "Paul Sanders          2017    1\n",
       "Pan Ji                2017    1\n",
       "Aditya K. Menon       2017    1\n",
       "Name: title, dtype: int64"
      ]
     },
     "execution_count": 40,
     "metadata": {},
     "output_type": "execute_result"
    }
   ],
   "source": [
    "# SO WHO PUBLISHED THIS YEAR?\n",
    "df_ozi[df_ozi.year == 2017].groupby(by=['name','year']).count()['title'].sort_values(ascending = False)"
   ]
  },
  {
   "cell_type": "code",
   "execution_count": null,
   "metadata": {
    "collapsed": true
   },
   "outputs": [],
   "source": []
  }
 ],
 "metadata": {
  "anaconda-cloud": {},
  "kernelspec": {
   "display_name": "Python [conda env:vivpy34]",
   "language": "python",
   "name": "conda-env-vivpy34-py"
  },
  "language_info": {
   "codemirror_mode": {
    "name": "ipython",
    "version": 3
   },
   "file_extension": ".py",
   "mimetype": "text/x-python",
   "name": "python",
   "nbconvert_exporter": "python",
   "pygments_lexer": "ipython3",
   "version": "3.4.5"
  }
 },
 "nbformat": 4,
 "nbformat_minor": 2
}
