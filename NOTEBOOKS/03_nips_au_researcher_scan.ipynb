{
 "cells": [
  {
   "cell_type": "markdown",
   "metadata": {},
   "source": [
    "Now that we have the datasets refreshed with 2017 data, let's repeat last year's analysis with a more specific intent to see who in Australia has been contributing to nips"
   ]
  },
  {
   "cell_type": "markdown",
   "metadata": {},
   "source": [
    "## Admin and imports"
   ]
  },
  {
   "cell_type": "code",
   "execution_count": 1,
   "metadata": {
    "collapsed": true
   },
   "outputs": [],
   "source": [
    "from bs4 import BeautifulSoup\n",
    "import json\n",
    "import os, sys\n",
    "import pandas as pd; import numpy as np\n",
    "import re\n",
    "import requests\n",
    "import subprocess\n",
    "from datetime import  datetime, date, timedelta\n",
    "import seaborn as sns"
   ]
  },
  {
   "cell_type": "markdown",
   "metadata": {},
   "source": [
    "## Import dataset"
   ]
  },
  {
   "cell_type": "code",
   "execution_count": 2,
   "metadata": {
    "collapsed": false
   },
   "outputs": [
    {
     "data": {
      "text/plain": [
       "((9787, 1), (7241, 6), (20843, 2))"
      ]
     },
     "execution_count": 2,
     "metadata": {},
     "output_type": "execute_result"
    }
   ],
   "source": [
    "df_auth = pd.read_json('output/authors.json')\n",
    "df_paper = pd.read_json('output/papers.json')\n",
    "df_pa = pd.read_json('output/paper_authors.json')\n",
    "df_auth.shape, df_paper.shape, df_pa.shape"
   ]
  },
  {
   "cell_type": "markdown",
   "metadata": {},
   "source": [
    "## filter for country specific papers and authors"
   ]
  },
  {
   "cell_type": "markdown",
   "metadata": {},
   "source": [
    "### Mark all papers likely from Australian authors"
   ]
  },
  {
   "cell_type": "code",
   "execution_count": 3,
   "metadata": {
    "collapsed": true
   },
   "outputs": [],
   "source": [
    "df_paper['paper_length'] = df_paper['paper_text'].str.split().apply(len)"
   ]
  },
  {
   "cell_type": "code",
   "execution_count": 4,
   "metadata": {
    "collapsed": true
   },
   "outputs": [],
   "source": [
    "# get the first 500 words of the paper text\n",
    "df_paper['paper_text_500_words'] = df_paper['paper_text'].apply(lambda x: ' '.join(x.split()[:500]))"
   ]
  },
  {
   "cell_type": "code",
   "execution_count": 5,
   "metadata": {
    "collapsed": false
   },
   "outputs": [],
   "source": [
    "# from an initial inspection of papers last year, I had noticed that authors from a particular country\n",
    "# features the name of the country somewhere - either after the university or in the abstract. So my guess\n",
    "# is that we can mine the first 500 words of a paper to see whether that paper by an Ozzie author. \n",
    "# obviously, there's huge chances of there being false positives, but what's the downside? I'll read an \n",
    "# additional paper from the top conference in my field?\n",
    "df_paper['country_paper'] = np.where(df_paper['paper_text_500_words'].str.upper().str.contains('AUSTRALIA'),1,0)"
   ]
  },
  {
   "cell_type": "code",
   "execution_count": 6,
   "metadata": {
    "collapsed": false
   },
   "outputs": [
    {
     "data": {
      "text/plain": [
       "0    7077\n",
       "1     164\n",
       "Name: country_paper, dtype: int64"
      ]
     },
     "execution_count": 6,
     "metadata": {},
     "output_type": "execute_result"
    }
   ],
   "source": [
    "df_paper['country_paper'].value_counts()"
   ]
  },
  {
   "cell_type": "markdown",
   "metadata": {},
   "source": [
    "Last year, i had gotten 154 papers with the same criterion. So safe to say that ~10 papers have been submitted in 2017. This will be a good litmus test."
   ]
  },
  {
   "cell_type": "code",
   "execution_count": 7,
   "metadata": {
    "collapsed": false
   },
   "outputs": [
    {
     "data": {
      "text/plain": [
       "<matplotlib.axes._subplots.AxesSubplot at 0x10e9c13c8>"
      ]
     },
     "execution_count": 7,
     "metadata": {},
     "output_type": "execute_result"
    },
    {
     "data": {
      "image/png": "[encoded data removed]",
      "text/plain": [
       "<matplotlib.figure.Figure at 0x10e0f9278>"
      ]
     },
     "metadata": {},
     "output_type": "display_data"
    }
   ],
   "source": [
    "import matplotlib; import matplotlib.pyplot as plt\n",
    "%matplotlib inline\n",
    "plt.style.use('ggplot'); fig = plt.figure(figsize=(16,4));ax = fig.add_subplot(111)\n",
    "df_paper.loc[df_paper.country_paper==1,'year'].hist(bins=32)"
   ]
  },
  {
   "cell_type": "markdown",
   "metadata": {},
   "source": [
    "Interesting to see a fairly steady research contribution inspite of the hype machine surrounding AI over the past few years. I know that in Australia, more people have been joining AI industry as well as more roles/jobs have been opening up. Is this gap at the top AI talent not being filled by premium AI researchers in the country?"
   ]
  },
  {
   "cell_type": "code",
   "execution_count": 8,
   "metadata": {
    "collapsed": false
   },
   "outputs": [
    {
     "data": {
      "text/plain": [
       "(496, 7)"
      ]
     },
     "execution_count": 8,
     "metadata": {},
     "output_type": "execute_result"
    }
   ],
   "source": [
    "# get authors into the ozi dataset\n",
    "df_ozi = pd.merge(left=df_paper[df_paper.country_paper == 1], right=df_pa, left_index=True, right_on='paper_id',suffixes=('_papers', '_key'))\n",
    "df_ozi = pd.merge(left = df_ozi, right = df_auth, how='left',left_on='author_id', right_index=True,suffixes=('_country', '_author'))\n",
    "df_ozi.drop(['event_type','abstract','country_paper','paper_id','author_id'], axis = 1, inplace = True)\n",
    "df_ozi.shape"
   ]
  },
  {
   "cell_type": "code",
   "execution_count": 9,
   "metadata": {
    "collapsed": false
   },
   "outputs": [
    {
     "data": {
      "text/plain": [
       "(496, 7)"
      ]
     },
     "execution_count": 9,
     "metadata": {},
     "output_type": "execute_result"
    }
   ],
   "source": [
    "df_ozi.shape"
   ]
  },
  {
   "cell_type": "markdown",
   "metadata": {},
   "source": [
    "## Some exploratory analysis"
   ]
  },
  {
   "cell_type": "code",
   "execution_count": 10,
   "metadata": {
    "collapsed": false
   },
   "outputs": [
    {
     "data": {
      "text/plain": [
       "Poster       31\n",
       "Spotlight     5\n",
       "Oral          1\n",
       "Name: event_type, dtype: int64"
      ]
     },
     "execution_count": 10,
     "metadata": {},
     "output_type": "execute_result"
    }
   ],
   "source": [
    "df_paper[df_paper.country_paper==1].event_type.value_counts()"
   ]
  },
  {
   "cell_type": "markdown",
   "metadata": {},
   "source": [
    "I found in previous years' analysis that the conference **oral presentations** are single track, there are no oral presentations scheduled at the same time as one another. There are **spotlight** sessions which are several 5 minute presentations back to back in roughly the same length of slot that one oral presentation would get. The **poster** sessions are one big, loud, overcrowded science fair type thing held in the evenings of the main conference."
   ]
  },
  {
   "cell_type": "code",
   "execution_count": 11,
   "metadata": {
    "collapsed": false,
    "scrolled": true
   },
   "outputs": [
    {
     "data": {
      "text/plain": [
       "[]"
      ]
     },
     "execution_count": 11,
     "metadata": {},
     "output_type": "execute_result"
    },
    {
     "data": {
      "image/png": "[encoded data removed]",
      "text/plain": [
       "<matplotlib.figure.Figure at 0x10e9aa748>"
      ]
     },
     "metadata": {},
     "output_type": "display_data"
    }
   ],
   "source": [
    "# how big are the papers?\n",
    "fig, ax = plt.subplots()\n",
    "sns.kdeplot(df_paper.loc[df_paper.country_paper != 1,'paper_length'], shade=True, ax = ax, clip=(0,10000))\n",
    "sns.kdeplot(df_paper.loc[df_paper.country_paper == 1,'paper_length'], shade=True, ax = ax)\n",
    "ax.legend(labels=['papers NOT from AUS','papers from AUS'], loc = 'best')\n",
    "ax.yaxis.set_ticklabels([])"
   ]
  },
  {
   "cell_type": "markdown",
   "metadata": {},
   "source": [
    "A lot of papers are either 3K or 5.5K words...The density distribution in Australia and elsewhere is surprising. Is this one of nips requirements?"
   ]
  },
  {
   "cell_type": "markdown",
   "metadata": {},
   "source": [
    "## Lets impute university affiliations"
   ]
  },
  {
   "cell_type": "code",
   "execution_count": 12,
   "metadata": {
    "collapsed": true
   },
   "outputs": [],
   "source": [
    "# create a list of unis that you want to one-hot encode. When you refactor this, it can be a user input\n",
    "list_of_unis = ['NICTA','Data61','CSIRO','Australian National University','University of Sydney',\n",
    "                'Deakin University','University of Technology Sydney',\n",
    "                'University of Queensland','Curtin University of Technology','University of Adelaide',\n",
    "                'UNSW','University of Melbourne','University of Newcastle']"
   ]
  },
  {
   "cell_type": "code",
   "execution_count": 13,
   "metadata": {
    "collapsed": false
   },
   "outputs": [],
   "source": [
    "for uni in list_of_unis:\n",
    "    if uni=='University of Sydney':\n",
    "        alternate_words = \"|Univ. of Sydney\"\n",
    "    elif uni=='UNSW':\n",
    "        alternate_words = \"|University of New South Wales\"\n",
    "    elif uni=='University of Sydney':\n",
    "        alternate_words = \"|Sydney University\"\n",
    "    elif uni=='NICTA':\n",
    "        alternate_words = \"|National ICT Australia\"\n",
    "        \n",
    "    df_ozi[uni] = df_ozi.paper_text_500_words.str.upper().str.contains((uni+alternate_words).upper())"
   ]
  },
  {
   "cell_type": "markdown",
   "metadata": {},
   "source": [
    "## Test"
   ]
  },
  {
   "cell_type": "code",
   "execution_count": 14,
   "metadata": {
    "collapsed": false
   },
   "outputs": [
    {
     "data": {
      "text/html": [
       "<div>\n",
       "<table border=\"1\" class=\"dataframe\">\n",
       "  <thead>\n",
       "    <tr style=\"text-align: right;\">\n",
       "      <th></th>\n",
       "      <th>paper_text</th>\n",
       "      <th>pdf_name</th>\n",
       "      <th>title</th>\n",
       "      <th>year</th>\n",
       "      <th>paper_length</th>\n",
       "      <th>paper_text_500_words</th>\n",
       "      <th>name</th>\n",
       "      <th>NICTA</th>\n",
       "      <th>Data61</th>\n",
       "      <th>CSIRO</th>\n",
       "      <th>Australian National University</th>\n",
       "      <th>University of Sydney</th>\n",
       "      <th>Deakin University</th>\n",
       "      <th>University of Technology Sydney</th>\n",
       "      <th>University of Queensland</th>\n",
       "      <th>Curtin University of Technology</th>\n",
       "      <th>University of Adelaide</th>\n",
       "      <th>UNSW</th>\n",
       "      <th>University of Melbourne</th>\n",
       "      <th>University of Newcastle</th>\n",
       "    </tr>\n",
       "  </thead>\n",
       "  <tbody>\n",
       "    <tr>\n",
       "      <th>16145</th>\n",
       "      <td>Infinite Hidden Semi-Markov Modulated Interact...</td>\n",
       "      <td>6243-infinite-hidden-semi-markov-modulated-int...</td>\n",
       "      <td>Infinite Hidden Semi-Markov Modulated Interact...</td>\n",
       "      <td>2016</td>\n",
       "      <td>5639</td>\n",
       "      <td>Infinite Hidden Semi-Markov Modulated Interact...</td>\n",
       "      <td>Fang Chen</td>\n",
       "      <td>False</td>\n",
       "      <td>True</td>\n",
       "      <td>True</td>\n",
       "      <td>False</td>\n",
       "      <td>False</td>\n",
       "      <td>False</td>\n",
       "      <td>False</td>\n",
       "      <td>False</td>\n",
       "      <td>False</td>\n",
       "      <td>False</td>\n",
       "      <td>True</td>\n",
       "      <td>True</td>\n",
       "      <td>True</td>\n",
       "    </tr>\n",
       "    <tr>\n",
       "      <th>16144</th>\n",
       "      <td>Infinite Hidden Semi-Markov Modulated Interact...</td>\n",
       "      <td>6243-infinite-hidden-semi-markov-modulated-int...</td>\n",
       "      <td>Infinite Hidden Semi-Markov Modulated Interact...</td>\n",
       "      <td>2016</td>\n",
       "      <td>5639</td>\n",
       "      <td>Infinite Hidden Semi-Markov Modulated Interact...</td>\n",
       "      <td>Ting Guo</td>\n",
       "      <td>False</td>\n",
       "      <td>True</td>\n",
       "      <td>True</td>\n",
       "      <td>False</td>\n",
       "      <td>False</td>\n",
       "      <td>False</td>\n",
       "      <td>False</td>\n",
       "      <td>False</td>\n",
       "      <td>False</td>\n",
       "      <td>False</td>\n",
       "      <td>True</td>\n",
       "      <td>True</td>\n",
       "      <td>True</td>\n",
       "    </tr>\n",
       "    <tr>\n",
       "      <th>16143</th>\n",
       "      <td>Infinite Hidden Semi-Markov Modulated Interact...</td>\n",
       "      <td>6243-infinite-hidden-semi-markov-modulated-int...</td>\n",
       "      <td>Infinite Hidden Semi-Markov Modulated Interact...</td>\n",
       "      <td>2016</td>\n",
       "      <td>5639</td>\n",
       "      <td>Infinite Hidden Semi-Markov Modulated Interact...</td>\n",
       "      <td>Peng Lin</td>\n",
       "      <td>False</td>\n",
       "      <td>True</td>\n",
       "      <td>True</td>\n",
       "      <td>False</td>\n",
       "      <td>False</td>\n",
       "      <td>False</td>\n",
       "      <td>False</td>\n",
       "      <td>False</td>\n",
       "      <td>False</td>\n",
       "      <td>False</td>\n",
       "      <td>True</td>\n",
       "      <td>True</td>\n",
       "      <td>True</td>\n",
       "    </tr>\n",
       "    <tr>\n",
       "      <th>16142</th>\n",
       "      <td>Infinite Hidden Semi-Markov Modulated Interact...</td>\n",
       "      <td>6243-infinite-hidden-semi-markov-modulated-int...</td>\n",
       "      <td>Infinite Hidden Semi-Markov Modulated Interact...</td>\n",
       "      <td>2016</td>\n",
       "      <td>5639</td>\n",
       "      <td>Infinite Hidden Semi-Markov Modulated Interact...</td>\n",
       "      <td>Peng Lin</td>\n",
       "      <td>False</td>\n",
       "      <td>True</td>\n",
       "      <td>True</td>\n",
       "      <td>False</td>\n",
       "      <td>False</td>\n",
       "      <td>False</td>\n",
       "      <td>False</td>\n",
       "      <td>False</td>\n",
       "      <td>False</td>\n",
       "      <td>False</td>\n",
       "      <td>True</td>\n",
       "      <td>True</td>\n",
       "      <td>True</td>\n",
       "    </tr>\n",
       "    <tr>\n",
       "      <th>16141</th>\n",
       "      <td>Infinite Hidden Semi-Markov Modulated Interact...</td>\n",
       "      <td>6243-infinite-hidden-semi-markov-modulated-int...</td>\n",
       "      <td>Infinite Hidden Semi-Markov Modulated Interact...</td>\n",
       "      <td>2016</td>\n",
       "      <td>5639</td>\n",
       "      <td>Infinite Hidden Semi-Markov Modulated Interact...</td>\n",
       "      <td>matt zhang</td>\n",
       "      <td>False</td>\n",
       "      <td>True</td>\n",
       "      <td>True</td>\n",
       "      <td>False</td>\n",
       "      <td>False</td>\n",
       "      <td>False</td>\n",
       "      <td>False</td>\n",
       "      <td>False</td>\n",
       "      <td>False</td>\n",
       "      <td>False</td>\n",
       "      <td>True</td>\n",
       "      <td>True</td>\n",
       "      <td>True</td>\n",
       "    </tr>\n",
       "    <tr>\n",
       "      <th>16140</th>\n",
       "      <td>Infinite Hidden Semi-Markov Modulated Interact...</td>\n",
       "      <td>6243-infinite-hidden-semi-markov-modulated-int...</td>\n",
       "      <td>Infinite Hidden Semi-Markov Modulated Interact...</td>\n",
       "      <td>2016</td>\n",
       "      <td>5639</td>\n",
       "      <td>Infinite Hidden Semi-Markov Modulated Interact...</td>\n",
       "      <td>Yang Wang</td>\n",
       "      <td>False</td>\n",
       "      <td>True</td>\n",
       "      <td>True</td>\n",
       "      <td>False</td>\n",
       "      <td>False</td>\n",
       "      <td>False</td>\n",
       "      <td>False</td>\n",
       "      <td>False</td>\n",
       "      <td>False</td>\n",
       "      <td>False</td>\n",
       "      <td>True</td>\n",
       "      <td>True</td>\n",
       "      <td>True</td>\n",
       "    </tr>\n",
       "    <tr>\n",
       "      <th>16139</th>\n",
       "      <td>Infinite Hidden Semi-Markov Modulated Interact...</td>\n",
       "      <td>6243-infinite-hidden-semi-markov-modulated-int...</td>\n",
       "      <td>Infinite Hidden Semi-Markov Modulated Interact...</td>\n",
       "      <td>2016</td>\n",
       "      <td>5639</td>\n",
       "      <td>Infinite Hidden Semi-Markov Modulated Interact...</td>\n",
       "      <td>Yang Wang</td>\n",
       "      <td>False</td>\n",
       "      <td>True</td>\n",
       "      <td>True</td>\n",
       "      <td>False</td>\n",
       "      <td>False</td>\n",
       "      <td>False</td>\n",
       "      <td>False</td>\n",
       "      <td>False</td>\n",
       "      <td>False</td>\n",
       "      <td>False</td>\n",
       "      <td>True</td>\n",
       "      <td>True</td>\n",
       "      <td>True</td>\n",
       "    </tr>\n",
       "    <tr>\n",
       "      <th>13368</th>\n",
       "      <td>(Almost) No Label No Cry\\n\\nGiorgio Patrini1,2...</td>\n",
       "      <td>5453-almost-no-label-no-cry.pdf</td>\n",
       "      <td>(Almost) No Label No Cry</td>\n",
       "      <td>2014</td>\n",
       "      <td>6630</td>\n",
       "      <td>(Almost) No Label No Cry Giorgio Patrini1,2 , ...</td>\n",
       "      <td>Tiberio Caetano</td>\n",
       "      <td>True</td>\n",
       "      <td>False</td>\n",
       "      <td>False</td>\n",
       "      <td>True</td>\n",
       "      <td>False</td>\n",
       "      <td>False</td>\n",
       "      <td>False</td>\n",
       "      <td>False</td>\n",
       "      <td>False</td>\n",
       "      <td>False</td>\n",
       "      <td>True</td>\n",
       "      <td>True</td>\n",
       "      <td>True</td>\n",
       "    </tr>\n",
       "    <tr>\n",
       "      <th>13369</th>\n",
       "      <td>(Almost) No Label No Cry\\n\\nGiorgio Patrini1,2...</td>\n",
       "      <td>5453-almost-no-label-no-cry.pdf</td>\n",
       "      <td>(Almost) No Label No Cry</td>\n",
       "      <td>2014</td>\n",
       "      <td>6630</td>\n",
       "      <td>(Almost) No Label No Cry Giorgio Patrini1,2 , ...</td>\n",
       "      <td>Paul Rivera</td>\n",
       "      <td>True</td>\n",
       "      <td>False</td>\n",
       "      <td>False</td>\n",
       "      <td>True</td>\n",
       "      <td>False</td>\n",
       "      <td>False</td>\n",
       "      <td>False</td>\n",
       "      <td>False</td>\n",
       "      <td>False</td>\n",
       "      <td>False</td>\n",
       "      <td>True</td>\n",
       "      <td>True</td>\n",
       "      <td>True</td>\n",
       "    </tr>\n",
       "    <tr>\n",
       "      <th>13367</th>\n",
       "      <td>(Almost) No Label No Cry\\n\\nGiorgio Patrini1,2...</td>\n",
       "      <td>5453-almost-no-label-no-cry.pdf</td>\n",
       "      <td>(Almost) No Label No Cry</td>\n",
       "      <td>2014</td>\n",
       "      <td>6630</td>\n",
       "      <td>(Almost) No Label No Cry Giorgio Patrini1,2 , ...</td>\n",
       "      <td>Giorgio Patrini</td>\n",
       "      <td>True</td>\n",
       "      <td>False</td>\n",
       "      <td>False</td>\n",
       "      <td>True</td>\n",
       "      <td>False</td>\n",
       "      <td>False</td>\n",
       "      <td>False</td>\n",
       "      <td>False</td>\n",
       "      <td>False</td>\n",
       "      <td>False</td>\n",
       "      <td>True</td>\n",
       "      <td>True</td>\n",
       "      <td>True</td>\n",
       "    </tr>\n",
       "    <tr>\n",
       "      <th>13366</th>\n",
       "      <td>(Almost) No Label No Cry\\n\\nGiorgio Patrini1,2...</td>\n",
       "      <td>5453-almost-no-label-no-cry.pdf</td>\n",
       "      <td>(Almost) No Label No Cry</td>\n",
       "      <td>2014</td>\n",
       "      <td>6630</td>\n",
       "      <td>(Almost) No Label No Cry Giorgio Patrini1,2 , ...</td>\n",
       "      <td>Richard Nock</td>\n",
       "      <td>True</td>\n",
       "      <td>False</td>\n",
       "      <td>False</td>\n",
       "      <td>True</td>\n",
       "      <td>False</td>\n",
       "      <td>False</td>\n",
       "      <td>False</td>\n",
       "      <td>False</td>\n",
       "      <td>False</td>\n",
       "      <td>False</td>\n",
       "      <td>True</td>\n",
       "      <td>True</td>\n",
       "      <td>True</td>\n",
       "    </tr>\n",
       "    <tr>\n",
       "      <th>12907</th>\n",
       "      <td>Projecting Markov Random Field Parameters for\\...</td>\n",
       "      <td>5315-projecting-markov-random-field-parameters...</td>\n",
       "      <td>Projecting Markov Random Field Parameters for ...</td>\n",
       "      <td>2014</td>\n",
       "      <td>5122</td>\n",
       "      <td>Projecting Markov Random Field Parameters for ...</td>\n",
       "      <td>Xianghang Liu</td>\n",
       "      <td>True</td>\n",
       "      <td>False</td>\n",
       "      <td>False</td>\n",
       "      <td>True</td>\n",
       "      <td>False</td>\n",
       "      <td>False</td>\n",
       "      <td>False</td>\n",
       "      <td>False</td>\n",
       "      <td>False</td>\n",
       "      <td>False</td>\n",
       "      <td>True</td>\n",
       "      <td>True</td>\n",
       "      <td>True</td>\n",
       "    </tr>\n",
       "    <tr>\n",
       "      <th>12906</th>\n",
       "      <td>Projecting Markov Random Field Parameters for\\...</td>\n",
       "      <td>5315-projecting-markov-random-field-parameters...</td>\n",
       "      <td>Projecting Markov Random Field Parameters for ...</td>\n",
       "      <td>2014</td>\n",
       "      <td>5122</td>\n",
       "      <td>Projecting Markov Random Field Parameters for ...</td>\n",
       "      <td>Justin Domke</td>\n",
       "      <td>True</td>\n",
       "      <td>False</td>\n",
       "      <td>False</td>\n",
       "      <td>True</td>\n",
       "      <td>False</td>\n",
       "      <td>False</td>\n",
       "      <td>False</td>\n",
       "      <td>False</td>\n",
       "      <td>False</td>\n",
       "      <td>False</td>\n",
       "      <td>True</td>\n",
       "      <td>True</td>\n",
       "      <td>True</td>\n",
       "    </tr>\n",
       "    <tr>\n",
       "      <th>11761</th>\n",
       "      <td>Projecting Ising Model Parameters for Fast Mix...</td>\n",
       "      <td>4964-projecting-ising-model-parameters-for-fas...</td>\n",
       "      <td>Projecting Ising Model Parameters for Fast Mixing</td>\n",
       "      <td>2013</td>\n",
       "      <td>5093</td>\n",
       "      <td>Projecting Ising Model Parameters for Fast Mix...</td>\n",
       "      <td>Xianghang Liu</td>\n",
       "      <td>True</td>\n",
       "      <td>False</td>\n",
       "      <td>False</td>\n",
       "      <td>True</td>\n",
       "      <td>False</td>\n",
       "      <td>False</td>\n",
       "      <td>False</td>\n",
       "      <td>False</td>\n",
       "      <td>False</td>\n",
       "      <td>False</td>\n",
       "      <td>True</td>\n",
       "      <td>True</td>\n",
       "      <td>True</td>\n",
       "    </tr>\n",
       "    <tr>\n",
       "      <th>11760</th>\n",
       "      <td>Projecting Ising Model Parameters for Fast Mix...</td>\n",
       "      <td>4964-projecting-ising-model-parameters-for-fas...</td>\n",
       "      <td>Projecting Ising Model Parameters for Fast Mixing</td>\n",
       "      <td>2013</td>\n",
       "      <td>5093</td>\n",
       "      <td>Projecting Ising Model Parameters for Fast Mix...</td>\n",
       "      <td>Justin Domke</td>\n",
       "      <td>True</td>\n",
       "      <td>False</td>\n",
       "      <td>False</td>\n",
       "      <td>True</td>\n",
       "      <td>False</td>\n",
       "      <td>False</td>\n",
       "      <td>False</td>\n",
       "      <td>False</td>\n",
       "      <td>False</td>\n",
       "      <td>False</td>\n",
       "      <td>True</td>\n",
       "      <td>True</td>\n",
       "      <td>True</td>\n",
       "    </tr>\n",
       "    <tr>\n",
       "      <th>10597</th>\n",
       "      <td>Learning as MAP Inference in Discrete\\nGraphic...</td>\n",
       "      <td>4605-learning-as-map-inference-in-discrete-gra...</td>\n",
       "      <td>Learning as MAP Inference in Discrete Graphica...</td>\n",
       "      <td>2012</td>\n",
       "      <td>5469</td>\n",
       "      <td>Learning as MAP Inference in Discrete Graphica...</td>\n",
       "      <td>Xianghang Liu</td>\n",
       "      <td>True</td>\n",
       "      <td>False</td>\n",
       "      <td>False</td>\n",
       "      <td>False</td>\n",
       "      <td>True</td>\n",
       "      <td>False</td>\n",
       "      <td>False</td>\n",
       "      <td>False</td>\n",
       "      <td>False</td>\n",
       "      <td>False</td>\n",
       "      <td>True</td>\n",
       "      <td>False</td>\n",
       "      <td>False</td>\n",
       "    </tr>\n",
       "    <tr>\n",
       "      <th>10596</th>\n",
       "      <td>Learning as MAP Inference in Discrete\\nGraphic...</td>\n",
       "      <td>4605-learning-as-map-inference-in-discrete-gra...</td>\n",
       "      <td>Learning as MAP Inference in Discrete Graphica...</td>\n",
       "      <td>2012</td>\n",
       "      <td>5469</td>\n",
       "      <td>Learning as MAP Inference in Discrete Graphica...</td>\n",
       "      <td>James Petterson</td>\n",
       "      <td>True</td>\n",
       "      <td>False</td>\n",
       "      <td>False</td>\n",
       "      <td>False</td>\n",
       "      <td>True</td>\n",
       "      <td>False</td>\n",
       "      <td>False</td>\n",
       "      <td>False</td>\n",
       "      <td>False</td>\n",
       "      <td>False</td>\n",
       "      <td>True</td>\n",
       "      <td>False</td>\n",
       "      <td>False</td>\n",
       "    </tr>\n",
       "    <tr>\n",
       "      <th>10595</th>\n",
       "      <td>Learning as MAP Inference in Discrete\\nGraphic...</td>\n",
       "      <td>4605-learning-as-map-inference-in-discrete-gra...</td>\n",
       "      <td>Learning as MAP Inference in Discrete Graphica...</td>\n",
       "      <td>2012</td>\n",
       "      <td>5469</td>\n",
       "      <td>Learning as MAP Inference in Discrete Graphica...</td>\n",
       "      <td>Tib?rio S. Caetano</td>\n",
       "      <td>True</td>\n",
       "      <td>False</td>\n",
       "      <td>False</td>\n",
       "      <td>False</td>\n",
       "      <td>True</td>\n",
       "      <td>False</td>\n",
       "      <td>False</td>\n",
       "      <td>False</td>\n",
       "      <td>False</td>\n",
       "      <td>False</td>\n",
       "      <td>True</td>\n",
       "      <td>False</td>\n",
       "      <td>False</td>\n",
       "    </tr>\n",
       "    <tr>\n",
       "      <th>10071</th>\n",
       "      <td>Generalized Lasso based Approximation of Spars...</td>\n",
       "      <td>4441-generalized-lasso-based-approximation-of-...</td>\n",
       "      <td>Generalized Lasso based Approximation of Spars...</td>\n",
       "      <td>2011</td>\n",
       "      <td>5549</td>\n",
       "      <td>Generalized Lasso based Approximation of Spars...</td>\n",
       "      <td>Shin'ichi Satoh</td>\n",
       "      <td>True</td>\n",
       "      <td>False</td>\n",
       "      <td>False</td>\n",
       "      <td>False</td>\n",
       "      <td>False</td>\n",
       "      <td>False</td>\n",
       "      <td>False</td>\n",
       "      <td>False</td>\n",
       "      <td>False</td>\n",
       "      <td>False</td>\n",
       "      <td>True</td>\n",
       "      <td>True</td>\n",
       "      <td>True</td>\n",
       "    </tr>\n",
       "    <tr>\n",
       "      <th>10070</th>\n",
       "      <td>Generalized Lasso based Approximation of Spars...</td>\n",
       "      <td>4441-generalized-lasso-based-approximation-of-...</td>\n",
       "      <td>Generalized Lasso based Approximation of Spars...</td>\n",
       "      <td>2011</td>\n",
       "      <td>5549</td>\n",
       "      <td>Generalized Lasso based Approximation of Spars...</td>\n",
       "      <td>Nobuyuki Morioka</td>\n",
       "      <td>True</td>\n",
       "      <td>False</td>\n",
       "      <td>False</td>\n",
       "      <td>False</td>\n",
       "      <td>False</td>\n",
       "      <td>False</td>\n",
       "      <td>False</td>\n",
       "      <td>False</td>\n",
       "      <td>False</td>\n",
       "      <td>False</td>\n",
       "      <td>True</td>\n",
       "      <td>True</td>\n",
       "      <td>True</td>\n",
       "    </tr>\n",
       "  </tbody>\n",
       "</table>\n",
       "</div>"
      ],
      "text/plain": [
       "                                              paper_text  \\\n",
       "16145  Infinite Hidden Semi-Markov Modulated Interact...   \n",
       "16144  Infinite Hidden Semi-Markov Modulated Interact...   \n",
       "16143  Infinite Hidden Semi-Markov Modulated Interact...   \n",
       "16142  Infinite Hidden Semi-Markov Modulated Interact...   \n",
       "16141  Infinite Hidden Semi-Markov Modulated Interact...   \n",
       "16140  Infinite Hidden Semi-Markov Modulated Interact...   \n",
       "16139  Infinite Hidden Semi-Markov Modulated Interact...   \n",
       "13368  (Almost) No Label No Cry\\n\\nGiorgio Patrini1,2...   \n",
       "13369  (Almost) No Label No Cry\\n\\nGiorgio Patrini1,2...   \n",
       "13367  (Almost) No Label No Cry\\n\\nGiorgio Patrini1,2...   \n",
       "13366  (Almost) No Label No Cry\\n\\nGiorgio Patrini1,2...   \n",
       "12907  Projecting Markov Random Field Parameters for\\...   \n",
       "12906  Projecting Markov Random Field Parameters for\\...   \n",
       "11761  Projecting Ising Model Parameters for Fast Mix...   \n",
       "11760  Projecting Ising Model Parameters for Fast Mix...   \n",
       "10597  Learning as MAP Inference in Discrete\\nGraphic...   \n",
       "10596  Learning as MAP Inference in Discrete\\nGraphic...   \n",
       "10595  Learning as MAP Inference in Discrete\\nGraphic...   \n",
       "10071  Generalized Lasso based Approximation of Spars...   \n",
       "10070  Generalized Lasso based Approximation of Spars...   \n",
       "\n",
       "                                                pdf_name  \\\n",
       "16145  6243-infinite-hidden-semi-markov-modulated-int...   \n",
       "16144  6243-infinite-hidden-semi-markov-modulated-int...   \n",
       "16143  6243-infinite-hidden-semi-markov-modulated-int...   \n",
       "16142  6243-infinite-hidden-semi-markov-modulated-int...   \n",
       "16141  6243-infinite-hidden-semi-markov-modulated-int...   \n",
       "16140  6243-infinite-hidden-semi-markov-modulated-int...   \n",
       "16139  6243-infinite-hidden-semi-markov-modulated-int...   \n",
       "13368                    5453-almost-no-label-no-cry.pdf   \n",
       "13369                    5453-almost-no-label-no-cry.pdf   \n",
       "13367                    5453-almost-no-label-no-cry.pdf   \n",
       "13366                    5453-almost-no-label-no-cry.pdf   \n",
       "12907  5315-projecting-markov-random-field-parameters...   \n",
       "12906  5315-projecting-markov-random-field-parameters...   \n",
       "11761  4964-projecting-ising-model-parameters-for-fas...   \n",
       "11760  4964-projecting-ising-model-parameters-for-fas...   \n",
       "10597  4605-learning-as-map-inference-in-discrete-gra...   \n",
       "10596  4605-learning-as-map-inference-in-discrete-gra...   \n",
       "10595  4605-learning-as-map-inference-in-discrete-gra...   \n",
       "10071  4441-generalized-lasso-based-approximation-of-...   \n",
       "10070  4441-generalized-lasso-based-approximation-of-...   \n",
       "\n",
       "                                                   title  year  paper_length  \\\n",
       "16145  Infinite Hidden Semi-Markov Modulated Interact...  2016          5639   \n",
       "16144  Infinite Hidden Semi-Markov Modulated Interact...  2016          5639   \n",
       "16143  Infinite Hidden Semi-Markov Modulated Interact...  2016          5639   \n",
       "16142  Infinite Hidden Semi-Markov Modulated Interact...  2016          5639   \n",
       "16141  Infinite Hidden Semi-Markov Modulated Interact...  2016          5639   \n",
       "16140  Infinite Hidden Semi-Markov Modulated Interact...  2016          5639   \n",
       "16139  Infinite Hidden Semi-Markov Modulated Interact...  2016          5639   \n",
       "13368                           (Almost) No Label No Cry  2014          6630   \n",
       "13369                           (Almost) No Label No Cry  2014          6630   \n",
       "13367                           (Almost) No Label No Cry  2014          6630   \n",
       "13366                           (Almost) No Label No Cry  2014          6630   \n",
       "12907  Projecting Markov Random Field Parameters for ...  2014          5122   \n",
       "12906  Projecting Markov Random Field Parameters for ...  2014          5122   \n",
       "11761  Projecting Ising Model Parameters for Fast Mixing  2013          5093   \n",
       "11760  Projecting Ising Model Parameters for Fast Mixing  2013          5093   \n",
       "10597  Learning as MAP Inference in Discrete Graphica...  2012          5469   \n",
       "10596  Learning as MAP Inference in Discrete Graphica...  2012          5469   \n",
       "10595  Learning as MAP Inference in Discrete Graphica...  2012          5469   \n",
       "10071  Generalized Lasso based Approximation of Spars...  2011          5549   \n",
       "10070  Generalized Lasso based Approximation of Spars...  2011          5549   \n",
       "\n",
       "                                    paper_text_500_words                name  \\\n",
       "16145  Infinite Hidden Semi-Markov Modulated Interact...           Fang Chen   \n",
       "16144  Infinite Hidden Semi-Markov Modulated Interact...            Ting Guo   \n",
       "16143  Infinite Hidden Semi-Markov Modulated Interact...            Peng Lin   \n",
       "16142  Infinite Hidden Semi-Markov Modulated Interact...            Peng Lin   \n",
       "16141  Infinite Hidden Semi-Markov Modulated Interact...          matt zhang   \n",
       "16140  Infinite Hidden Semi-Markov Modulated Interact...           Yang Wang   \n",
       "16139  Infinite Hidden Semi-Markov Modulated Interact...           Yang Wang   \n",
       "13368  (Almost) No Label No Cry Giorgio Patrini1,2 , ...     Tiberio Caetano   \n",
       "13369  (Almost) No Label No Cry Giorgio Patrini1,2 , ...         Paul Rivera   \n",
       "13367  (Almost) No Label No Cry Giorgio Patrini1,2 , ...     Giorgio Patrini   \n",
       "13366  (Almost) No Label No Cry Giorgio Patrini1,2 , ...        Richard Nock   \n",
       "12907  Projecting Markov Random Field Parameters for ...       Xianghang Liu   \n",
       "12906  Projecting Markov Random Field Parameters for ...        Justin Domke   \n",
       "11761  Projecting Ising Model Parameters for Fast Mix...       Xianghang Liu   \n",
       "11760  Projecting Ising Model Parameters for Fast Mix...        Justin Domke   \n",
       "10597  Learning as MAP Inference in Discrete Graphica...       Xianghang Liu   \n",
       "10596  Learning as MAP Inference in Discrete Graphica...     James Petterson   \n",
       "10595  Learning as MAP Inference in Discrete Graphica...  Tib?rio S. Caetano   \n",
       "10071  Generalized Lasso based Approximation of Spars...     Shin'ichi Satoh   \n",
       "10070  Generalized Lasso based Approximation of Spars...    Nobuyuki Morioka   \n",
       "\n",
       "       NICTA Data61  CSIRO Australian National University  \\\n",
       "16145  False   True   True                          False   \n",
       "16144  False   True   True                          False   \n",
       "16143  False   True   True                          False   \n",
       "16142  False   True   True                          False   \n",
       "16141  False   True   True                          False   \n",
       "16140  False   True   True                          False   \n",
       "16139  False   True   True                          False   \n",
       "13368   True  False  False                           True   \n",
       "13369   True  False  False                           True   \n",
       "13367   True  False  False                           True   \n",
       "13366   True  False  False                           True   \n",
       "12907   True  False  False                           True   \n",
       "12906   True  False  False                           True   \n",
       "11761   True  False  False                           True   \n",
       "11760   True  False  False                           True   \n",
       "10597   True  False  False                          False   \n",
       "10596   True  False  False                          False   \n",
       "10595   True  False  False                          False   \n",
       "10071   True  False  False                          False   \n",
       "10070   True  False  False                          False   \n",
       "\n",
       "      University of Sydney Deakin University University of Technology Sydney  \\\n",
       "16145                False             False                           False   \n",
       "16144                False             False                           False   \n",
       "16143                False             False                           False   \n",
       "16142                False             False                           False   \n",
       "16141                False             False                           False   \n",
       "16140                False             False                           False   \n",
       "16139                False             False                           False   \n",
       "13368                False             False                           False   \n",
       "13369                False             False                           False   \n",
       "13367                False             False                           False   \n",
       "13366                False             False                           False   \n",
       "12907                False             False                           False   \n",
       "12906                False             False                           False   \n",
       "11761                False             False                           False   \n",
       "11760                False             False                           False   \n",
       "10597                 True             False                           False   \n",
       "10596                 True             False                           False   \n",
       "10595                 True             False                           False   \n",
       "10071                False             False                           False   \n",
       "10070                False             False                           False   \n",
       "\n",
       "      University of Queensland Curtin University of Technology  \\\n",
       "16145                    False                           False   \n",
       "16144                    False                           False   \n",
       "16143                    False                           False   \n",
       "16142                    False                           False   \n",
       "16141                    False                           False   \n",
       "16140                    False                           False   \n",
       "16139                    False                           False   \n",
       "13368                    False                           False   \n",
       "13369                    False                           False   \n",
       "13367                    False                           False   \n",
       "13366                    False                           False   \n",
       "12907                    False                           False   \n",
       "12906                    False                           False   \n",
       "11761                    False                           False   \n",
       "11760                    False                           False   \n",
       "10597                    False                           False   \n",
       "10596                    False                           False   \n",
       "10595                    False                           False   \n",
       "10071                    False                           False   \n",
       "10070                    False                           False   \n",
       "\n",
       "      University of Adelaide  UNSW University of Melbourne  \\\n",
       "16145                  False  True                    True   \n",
       "16144                  False  True                    True   \n",
       "16143                  False  True                    True   \n",
       "16142                  False  True                    True   \n",
       "16141                  False  True                    True   \n",
       "16140                  False  True                    True   \n",
       "16139                  False  True                    True   \n",
       "13368                  False  True                    True   \n",
       "13369                  False  True                    True   \n",
       "13367                  False  True                    True   \n",
       "13366                  False  True                    True   \n",
       "12907                  False  True                    True   \n",
       "12906                  False  True                    True   \n",
       "11761                  False  True                    True   \n",
       "11760                  False  True                    True   \n",
       "10597                  False  True                   False   \n",
       "10596                  False  True                   False   \n",
       "10595                  False  True                   False   \n",
       "10071                  False  True                    True   \n",
       "10070                  False  True                    True   \n",
       "\n",
       "      University of Newcastle  \n",
       "16145                    True  \n",
       "16144                    True  \n",
       "16143                    True  \n",
       "16142                    True  \n",
       "16141                    True  \n",
       "16140                    True  \n",
       "16139                    True  \n",
       "13368                    True  \n",
       "13369                    True  \n",
       "13367                    True  \n",
       "13366                    True  \n",
       "12907                    True  \n",
       "12906                    True  \n",
       "11761                    True  \n",
       "11760                    True  \n",
       "10597                   False  \n",
       "10596                   False  \n",
       "10595                   False  \n",
       "10071                    True  \n",
       "10070                    True  "
      ]
     },
     "execution_count": 14,
     "metadata": {},
     "output_type": "execute_result"
    }
   ],
   "source": [
    "df_ozi[(df_ozi.year>2010) & (df_ozi['UNSW']==True)].sort_values(['year'],ascending=[False])"
   ]
  },
  {
   "cell_type": "markdown",
   "metadata": {
    "collapsed": true
   },
   "source": [
    "## Get papers"
   ]
  },
  {
   "cell_type": "code",
   "execution_count": 18,
   "metadata": {
    "collapsed": false
   },
   "outputs": [],
   "source": [
    "df_paper.loc[df_paper.country_paper==1,['year','title','pdf_name']].sort_values(['year','title'],ascending=[False,True]).to_csv('aus_papers.csv',index=False)"
   ]
  },
  {
   "cell_type": "code",
   "execution_count": null,
   "metadata": {
    "collapsed": true
   },
   "outputs": [],
   "source": []
  },
  {
   "cell_type": "code",
   "execution_count": null,
   "metadata": {
    "collapsed": true
   },
   "outputs": [],
   "source": []
  },
  {
   "cell_type": "code",
   "execution_count": null,
   "metadata": {
    "collapsed": false
   },
   "outputs": [],
   "source": [
    "# a few names of authors since 2010\n",
    "print ('{} authors for analysis'.format(df_ozi.loc[df_ozi.year > 2010,'name'].value_counts().shape[0]))\n",
    "df_ozi.loc[df_ozi.year > 2010,'name'].value_counts().head(20)       "
   ]
  },
  {
   "cell_type": "code",
   "execution_count": null,
   "metadata": {
    "collapsed": false
   },
   "outputs": [],
   "source": [
    "# SO WHO PUBLISHED THIS YEAR?\n",
    "df_ozi[df_ozi.year == 2017].groupby(by=['name','year']).count()['title'].sort_values(ascending = False)"
   ]
  },
  {
   "cell_type": "code",
   "execution_count": null,
   "metadata": {
    "collapsed": true
   },
   "outputs": [],
   "source": []
  }
 ],
 "metadata": {
  "anaconda-cloud": {},
  "kernelspec": {
   "display_name": "Python [conda env:vivpy34]",
   "language": "python",
   "name": "conda-env-vivpy34-py"
  },
  "language_info": {
   "codemirror_mode": {
    "name": "ipython",
    "version": 3
   },
   "file_extension": ".py",
   "mimetype": "text/x-python",
   "name": "python",
   "nbconvert_exporter": "python",
   "pygments_lexer": "ipython3",
   "version": "3.4.5"
  }
 },
 "nbformat": 4,
 "nbformat_minor": 2
}
