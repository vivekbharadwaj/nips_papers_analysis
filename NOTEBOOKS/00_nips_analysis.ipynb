{
 "cells": [
  {
   "cell_type": "markdown",
   "metadata": {},
   "source": [
    "**Neural Information Processing Systems (NIPS)** is a multi-track machine learning and computational neuroscience conference that includes invited talks, demonstrations, symposia and oral and poster presentations of refereed papers. \n",
    "\n",
    "I've been longing to start my research in AI - specifically in the cusp of machine learning and computational/ systems neuroscience, which is exactly the field that NIPS plays in. Availability of this dataset is a blessing, because I can now better understand \n",
    "- who are the players contributing to cutting-edge research in this area within the Australian research community,\n",
    "- which unis are doing more than the others, \n",
    "- who are the up-and-comers versus the long-timers, \n",
    "- which pairs of researchers are the biggest collaborators,\n",
    "- which areas are they playing in, and how has it been changing over the years\n",
    "- which benchmark datasets have they been using mostly\n",
    "\n",
    "\n",
    "Am fully cognisant of the fact that this view is pretty myopic. For starters, there are other conferences such as ICML etc, other journal publications which may not get featured or accepted into NIPS, or perhaps may involve private research that may not be amenable to publishing. However, this analysis can certainly be used directionally, I think haha. \n",
    "\n",
    "I've downloaded the data from the Kaggle NIPS dataset uploaded by Ben Hamner here (https://github.com/benhamner/nips-papers).  "
   ]
  },
  {
   "cell_type": "markdown",
   "metadata": {},
   "source": [
    "## Admin stuff"
   ]
  },
  {
   "cell_type": "code",
   "execution_count": 1,
   "metadata": {
    "collapsed": false
   },
   "outputs": [
    {
     "name": "stderr",
     "output_type": "stream",
     "text": [
      "C:\\Users\\M042266\\.conda\\envs\\nips_papers_analysis\\lib\\site-packages\\IPython\\html.py:14: ShimWarning: The `IPython.html` package has been deprecated. You should import from `notebook` instead. `IPython.html.widgets` has moved to `ipywidgets`.\n",
      "  \"`IPython.html.widgets` has moved to `ipywidgets`.\", ShimWarning)\n"
     ]
    }
   ],
   "source": [
    "import sqlite3\n",
    "import os\n",
    "import sys\n",
    "import matplotlib.pyplot as plt\n",
    "%matplotlib inline\n",
    "import seaborn as sns\n",
    "sns.set()\n",
    "sns.set(style=\"darkgrid\")\n",
    "import pandas as pd\n",
    "import numpy as np\n",
    "\n",
    "from datetime import datetime\n",
    "\n",
    "# Load the \"autoreload\" extension\n",
    "%load_ext autoreload\n",
    "\n",
    "# always reload modules marked with \"%aimport\"\n",
    "%reload_ext autoreload"
   ]
  },
  {
   "cell_type": "code",
   "execution_count": 2,
   "metadata": {
    "collapsed": false
   },
   "outputs": [],
   "source": [
    "# python-dotenv to load up all the entries in this file as environment variables so they are accessible with os.environ.get.\n",
    "from dotenv import load_dotenv, find_dotenv\n",
    "\n",
    "# find .env automagically by walking up directories until it's found\n",
    "dotenv_path = find_dotenv()\n",
    "\n",
    "# find root directory path\n",
    "project_root_path = os.path.dirname(find_dotenv())"
   ]
  },
  {
   "cell_type": "code",
   "execution_count": 3,
   "metadata": {
    "collapsed": true
   },
   "outputs": [],
   "source": [
    "# creating a path for DATA directory\n",
    "data_dir = os.path.join(project_root_path, 'DATA')"
   ]
  },
  {
   "cell_type": "markdown",
   "metadata": {},
   "source": [
    "## Connect to database"
   ]
  },
  {
   "cell_type": "markdown",
   "metadata": {},
   "source": [
    "The github link above has a script for extracting nips papers data from the www. Thats like teaching us how to fish. This time however, I just want to eat the fish. Ben has also extracted the data in csv and sqlite db format here (https://www.kaggle.com/benhamner/nips-2015-papers). \n",
    "\n",
    "I tried playing around with the csvs and they were a bit sluggish due to size. So I'm going to be using the sqlite db that I've downloaded into my data directory."
   ]
  },
  {
   "cell_type": "code",
   "execution_count": 4,
   "metadata": {
    "collapsed": true
   },
   "outputs": [],
   "source": [
    "# create a pathway to the database\n",
    "database_path = os.path.join(data_dir, 'database.sqlite')"
   ]
  },
  {
   "cell_type": "code",
   "execution_count": 5,
   "metadata": {
    "collapsed": true
   },
   "outputs": [],
   "source": [
    "cnx = sqlite3.connect(database_path)"
   ]
  },
  {
   "cell_type": "markdown",
   "metadata": {},
   "source": [
    "## Query the database"
   ]
  },
  {
   "cell_type": "markdown",
   "metadata": {},
   "source": [
    "### Querying the Papers table"
   ]
  },
  {
   "cell_type": "code",
   "execution_count": 6,
   "metadata": {
    "collapsed": false
   },
   "outputs": [],
   "source": [
    "df_papers = pd.read_sql(\"Select * from papers;\", cnx)"
   ]
  },
  {
   "cell_type": "code",
   "execution_count": 7,
   "metadata": {
    "collapsed": false
   },
   "outputs": [
    {
     "data": {
      "text/html": [
       "<div>\n",
       "<table border=\"1\" class=\"dataframe\">\n",
       "  <thead>\n",
       "    <tr style=\"text-align: right;\">\n",
       "      <th></th>\n",
       "      <th>id</th>\n",
       "      <th>year</th>\n",
       "      <th>title</th>\n",
       "      <th>event_type</th>\n",
       "      <th>pdf_name</th>\n",
       "      <th>abstract</th>\n",
       "      <th>paper_text</th>\n",
       "    </tr>\n",
       "  </thead>\n",
       "  <tbody>\n",
       "    <tr>\n",
       "      <th>0</th>\n",
       "      <td>1</td>\n",
       "      <td>1987</td>\n",
       "      <td>Self-Organization of Associative Database and ...</td>\n",
       "      <td></td>\n",
       "      <td>1-self-organization-of-associative-database-an...</td>\n",
       "      <td>Abstract Missing</td>\n",
       "      <td>767\\n\\nSELF-ORGANIZATION OF ASSOCIATIVE DATABA...</td>\n",
       "    </tr>\n",
       "    <tr>\n",
       "      <th>1</th>\n",
       "      <td>2</td>\n",
       "      <td>1987</td>\n",
       "      <td>The Capacity of the Kanerva Associative Memory...</td>\n",
       "      <td></td>\n",
       "      <td>2-the-capacity-of-the-kanerva-associative-memo...</td>\n",
       "      <td>Abstract Missing</td>\n",
       "      <td>184\\n\\nTHE CAPACITY OF THE KANERVA ASSOCIATIVE...</td>\n",
       "    </tr>\n",
       "    <tr>\n",
       "      <th>2</th>\n",
       "      <td>3</td>\n",
       "      <td>1987</td>\n",
       "      <td>Supervised Learning of Probability Distributio...</td>\n",
       "      <td></td>\n",
       "      <td>3-supervised-learning-of-probability-distribut...</td>\n",
       "      <td>Abstract Missing</td>\n",
       "      <td>52\\n\\nSupervised Learning of Probability Distr...</td>\n",
       "    </tr>\n",
       "    <tr>\n",
       "      <th>3</th>\n",
       "      <td>4</td>\n",
       "      <td>1987</td>\n",
       "      <td>Constrained Differential Optimization</td>\n",
       "      <td></td>\n",
       "      <td>4-constrained-differential-optimization.pdf</td>\n",
       "      <td>Abstract Missing</td>\n",
       "      <td>612\\n\\nConstrained Differential Optimization\\n...</td>\n",
       "    </tr>\n",
       "    <tr>\n",
       "      <th>4</th>\n",
       "      <td>5</td>\n",
       "      <td>1987</td>\n",
       "      <td>Towards an Organizing Principle for a Layered ...</td>\n",
       "      <td></td>\n",
       "      <td>5-towards-an-organizing-principle-for-a-layere...</td>\n",
       "      <td>Abstract Missing</td>\n",
       "      <td>485\\n\\nTOWARDS AN ORGANIZING PRINCIPLE FOR\\nA ...</td>\n",
       "    </tr>\n",
       "  </tbody>\n",
       "</table>\n",
       "</div>"
      ],
      "text/plain": [
       "   id  year                                              title event_type  \\\n",
       "0   1  1987  Self-Organization of Associative Database and ...              \n",
       "1   2  1987  The Capacity of the Kanerva Associative Memory...              \n",
       "2   3  1987  Supervised Learning of Probability Distributio...              \n",
       "3   4  1987              Constrained Differential Optimization              \n",
       "4   5  1987  Towards an Organizing Principle for a Layered ...              \n",
       "\n",
       "                                            pdf_name          abstract  \\\n",
       "0  1-self-organization-of-associative-database-an...  Abstract Missing   \n",
       "1  2-the-capacity-of-the-kanerva-associative-memo...  Abstract Missing   \n",
       "2  3-supervised-learning-of-probability-distribut...  Abstract Missing   \n",
       "3        4-constrained-differential-optimization.pdf  Abstract Missing   \n",
       "4  5-towards-an-organizing-principle-for-a-layere...  Abstract Missing   \n",
       "\n",
       "                                          paper_text  \n",
       "0  767\\n\\nSELF-ORGANIZATION OF ASSOCIATIVE DATABA...  \n",
       "1  184\\n\\nTHE CAPACITY OF THE KANERVA ASSOCIATIVE...  \n",
       "2  52\\n\\nSupervised Learning of Probability Distr...  \n",
       "3  612\\n\\nConstrained Differential Optimization\\n...  \n",
       "4  485\\n\\nTOWARDS AN ORGANIZING PRINCIPLE FOR\\nA ...  "
      ]
     },
     "execution_count": 7,
     "metadata": {},
     "output_type": "execute_result"
    }
   ],
   "source": [
    "df_papers.head()"
   ]
  },
  {
   "cell_type": "code",
   "execution_count": 8,
   "metadata": {
    "collapsed": false
   },
   "outputs": [
    {
     "data": {
      "text/plain": [
       "(6560, 7)"
      ]
     },
     "execution_count": 8,
     "metadata": {},
     "output_type": "execute_result"
    }
   ],
   "source": [
    "df_papers.shape"
   ]
  },
  {
   "cell_type": "code",
   "execution_count": 9,
   "metadata": {
    "collapsed": false
   },
   "outputs": [
    {
     "name": "stdout",
     "output_type": "stream",
     "text": [
      "<class 'pandas.core.frame.DataFrame'>\n",
      "RangeIndex: 6560 entries, 0 to 6559\n",
      "Data columns (total 7 columns):\n",
      "id            6560 non-null int64\n",
      "year          6560 non-null int64\n",
      "title         6560 non-null object\n",
      "event_type    6560 non-null object\n",
      "pdf_name      6560 non-null object\n",
      "abstract      6560 non-null object\n",
      "paper_text    6560 non-null object\n",
      "dtypes: int64(2), object(5)\n",
      "memory usage: 177.2 MB\n"
     ]
    }
   ],
   "source": [
    "# note the memory usage argument in the function gives a more accurate estimate of memory usage. Otherwise it just says \n",
    "# something to the effect of 3.5+Kb\n",
    "df_papers.info(memory_usage='deep')"
   ]
  },
  {
   "cell_type": "markdown",
   "metadata": {},
   "source": [
    "csvs were struggling to open due to the size. That's why I used sqlite."
   ]
  },
  {
   "cell_type": "markdown",
   "metadata": {},
   "source": [
    "### Querying the authors table"
   ]
  },
  {
   "cell_type": "code",
   "execution_count": 10,
   "metadata": {
    "collapsed": true
   },
   "outputs": [],
   "source": [
    "df_authors = pd.read_sql(\"Select * from authors;\", cnx)"
   ]
  },
  {
   "cell_type": "code",
   "execution_count": 11,
   "metadata": {
    "collapsed": false
   },
   "outputs": [
    {
     "data": {
      "text/html": [
       "<div>\n",
       "<table border=\"1\" class=\"dataframe\">\n",
       "  <thead>\n",
       "    <tr style=\"text-align: right;\">\n",
       "      <th></th>\n",
       "      <th>id</th>\n",
       "      <th>name</th>\n",
       "    </tr>\n",
       "  </thead>\n",
       "  <tbody>\n",
       "    <tr>\n",
       "      <th>0</th>\n",
       "      <td>1</td>\n",
       "      <td>Hisashi Suzuki</td>\n",
       "    </tr>\n",
       "    <tr>\n",
       "      <th>1</th>\n",
       "      <td>2</td>\n",
       "      <td>Suguru Arimoto</td>\n",
       "    </tr>\n",
       "    <tr>\n",
       "      <th>2</th>\n",
       "      <td>3</td>\n",
       "      <td>Philip A. Chou</td>\n",
       "    </tr>\n",
       "    <tr>\n",
       "      <th>3</th>\n",
       "      <td>4</td>\n",
       "      <td>John C. Platt</td>\n",
       "    </tr>\n",
       "    <tr>\n",
       "      <th>4</th>\n",
       "      <td>5</td>\n",
       "      <td>Alan H. Barr</td>\n",
       "    </tr>\n",
       "  </tbody>\n",
       "</table>\n",
       "</div>"
      ],
      "text/plain": [
       "   id            name\n",
       "0   1  Hisashi Suzuki\n",
       "1   2  Suguru Arimoto\n",
       "2   3  Philip A. Chou\n",
       "3   4   John C. Platt\n",
       "4   5    Alan H. Barr"
      ]
     },
     "execution_count": 11,
     "metadata": {},
     "output_type": "execute_result"
    }
   ],
   "source": [
    "df_authors.head()"
   ]
  },
  {
   "cell_type": "code",
   "execution_count": 12,
   "metadata": {
    "collapsed": false
   },
   "outputs": [
    {
     "name": "stdout",
     "output_type": "stream",
     "text": [
      "<class 'pandas.core.frame.DataFrame'>\n",
      "RangeIndex: 8653 entries, 0 to 8652\n",
      "Data columns (total 2 columns):\n",
      "id      8653 non-null int64\n",
      "name    8653 non-null object\n",
      "dtypes: int64(1), object(1)\n",
      "memory usage: 665.9 KB\n"
     ]
    }
   ],
   "source": [
    "df_authors.info(memory_usage='deep')"
   ]
  },
  {
   "cell_type": "markdown",
   "metadata": {},
   "source": [
    "### Querying the paper author key table"
   ]
  },
  {
   "cell_type": "code",
   "execution_count": 13,
   "metadata": {
    "collapsed": true
   },
   "outputs": [],
   "source": [
    "df_key = pd.read_sql(\"Select * from paper_authors;\", cnx)"
   ]
  },
  {
   "cell_type": "code",
   "execution_count": 14,
   "metadata": {
    "collapsed": false
   },
   "outputs": [
    {
     "data": {
      "text/html": [
       "<div>\n",
       "<table border=\"1\" class=\"dataframe\">\n",
       "  <thead>\n",
       "    <tr style=\"text-align: right;\">\n",
       "      <th></th>\n",
       "      <th>id</th>\n",
       "      <th>paper_id</th>\n",
       "      <th>author_id</th>\n",
       "    </tr>\n",
       "  </thead>\n",
       "  <tbody>\n",
       "    <tr>\n",
       "      <th>0</th>\n",
       "      <td>1</td>\n",
       "      <td>63</td>\n",
       "      <td>94</td>\n",
       "    </tr>\n",
       "    <tr>\n",
       "      <th>1</th>\n",
       "      <td>2</td>\n",
       "      <td>80</td>\n",
       "      <td>124</td>\n",
       "    </tr>\n",
       "    <tr>\n",
       "      <th>2</th>\n",
       "      <td>3</td>\n",
       "      <td>80</td>\n",
       "      <td>125</td>\n",
       "    </tr>\n",
       "    <tr>\n",
       "      <th>3</th>\n",
       "      <td>4</td>\n",
       "      <td>80</td>\n",
       "      <td>126</td>\n",
       "    </tr>\n",
       "    <tr>\n",
       "      <th>4</th>\n",
       "      <td>5</td>\n",
       "      <td>80</td>\n",
       "      <td>127</td>\n",
       "    </tr>\n",
       "  </tbody>\n",
       "</table>\n",
       "</div>"
      ],
      "text/plain": [
       "   id  paper_id  author_id\n",
       "0   1        63         94\n",
       "1   2        80        124\n",
       "2   3        80        125\n",
       "3   4        80        126\n",
       "4   5        80        127"
      ]
     },
     "execution_count": 14,
     "metadata": {},
     "output_type": "execute_result"
    }
   ],
   "source": [
    "df_key.head()"
   ]
  },
  {
   "cell_type": "code",
   "execution_count": 15,
   "metadata": {
    "collapsed": false
   },
   "outputs": [
    {
     "name": "stdout",
     "output_type": "stream",
     "text": [
      "<class 'pandas.core.frame.DataFrame'>\n",
      "RangeIndex: 18321 entries, 0 to 18320\n",
      "Data columns (total 3 columns):\n",
      "id           18321 non-null int64\n",
      "paper_id     18321 non-null int64\n",
      "author_id    18321 non-null int64\n",
      "dtypes: int64(3)\n",
      "memory usage: 429.5 KB\n"
     ]
    }
   ],
   "source": [
    "df_key.info(memory_usage='deep')"
   ]
  },
  {
   "cell_type": "markdown",
   "metadata": {},
   "source": [
    "## Start analysing the hell out of it"
   ]
  },
  {
   "cell_type": "markdown",
   "metadata": {},
   "source": [
    "### How big are the papers?"
   ]
  },
  {
   "cell_type": "code",
   "execution_count": 16,
   "metadata": {
    "collapsed": false
   },
   "outputs": [],
   "source": [
    "df_papers['paper_length'] = df_papers['paper_text'].str.split().apply(len)"
   ]
  },
  {
   "cell_type": "markdown",
   "metadata": {},
   "source": [
    "### Simple test - How many papers have been submitted by UNSW?"
   ]
  },
  {
   "cell_type": "code",
   "execution_count": 17,
   "metadata": {
    "collapsed": false
   },
   "outputs": [
    {
     "data": {
      "text/plain": [
       "5"
      ]
     },
     "execution_count": 17,
     "metadata": {},
     "output_type": "execute_result"
    }
   ],
   "source": [
    "df_papers['paper_text'].str.contains('UNSW').sum()"
   ]
  },
  {
   "cell_type": "code",
   "execution_count": 18,
   "metadata": {
    "collapsed": false
   },
   "outputs": [
    {
     "data": {
      "text/plain": [
       "10"
      ]
     },
     "execution_count": 18,
     "metadata": {},
     "output_type": "execute_result"
    }
   ],
   "source": [
    "df_papers['paper_text'].str.contains('University of New South Wales').sum()"
   ]
  },
  {
   "cell_type": "code",
   "execution_count": 19,
   "metadata": {
    "collapsed": false
   },
   "outputs": [
    {
     "data": {
      "text/html": [
       "<div>\n",
       "<table border=\"1\" class=\"dataframe\">\n",
       "  <thead>\n",
       "    <tr style=\"text-align: right;\">\n",
       "      <th></th>\n",
       "      <th>id</th>\n",
       "      <th>year</th>\n",
       "      <th>title</th>\n",
       "      <th>event_type</th>\n",
       "      <th>pdf_name</th>\n",
       "      <th>abstract</th>\n",
       "      <th>paper_text</th>\n",
       "      <th>paper_length</th>\n",
       "    </tr>\n",
       "  </thead>\n",
       "  <tbody>\n",
       "    <tr>\n",
       "      <th>3580</th>\n",
       "      <td>3619</td>\n",
       "      <td>2008</td>\n",
       "      <td>A computational model of hippocampal function ...</td>\n",
       "      <td></td>\n",
       "      <td>3619-a-computational-model-of-hippocampal-func...</td>\n",
       "      <td>We present a new reinforcement-learning model ...</td>\n",
       "      <td>A computational model of hippocampal function ...</td>\n",
       "      <td>4392</td>\n",
       "    </tr>\n",
       "    <tr>\n",
       "      <th>4402</th>\n",
       "      <td>4441</td>\n",
       "      <td>2011</td>\n",
       "      <td>Generalized Lasso based Approximation of Spars...</td>\n",
       "      <td></td>\n",
       "      <td>4441-generalized-lasso-based-approximation-of-...</td>\n",
       "      <td>Sparse coding, a method of explaining sensory ...</td>\n",
       "      <td>Generalized Lasso based Approximation of Spars...</td>\n",
       "      <td>5549</td>\n",
       "    </tr>\n",
       "    <tr>\n",
       "      <th>4924</th>\n",
       "      <td>4964</td>\n",
       "      <td>2013</td>\n",
       "      <td>Projecting Ising Model Parameters for Fast Mixing</td>\n",
       "      <td>Poster</td>\n",
       "      <td>4964-projecting-ising-model-parameters-for-fas...</td>\n",
       "      <td>Inference in general Ising models is difficult...</td>\n",
       "      <td>Projecting Ising Model Parameters for Fast Mix...</td>\n",
       "      <td>5093</td>\n",
       "    </tr>\n",
       "    <tr>\n",
       "      <th>5131</th>\n",
       "      <td>5171</td>\n",
       "      <td>2013</td>\n",
       "      <td>Factorized Asymptotic Bayesian Inference for L...</td>\n",
       "      <td>Poster</td>\n",
       "      <td>5171-factorized-asymptotic-bayesian-inference-...</td>\n",
       "      <td>This paper extends factorized asymptotic Bayes...</td>\n",
       "      <td>Factorized Asymptotic Bayesian Inference\\nfor ...</td>\n",
       "      <td>5776</td>\n",
       "    </tr>\n",
       "    <tr>\n",
       "      <th>5272</th>\n",
       "      <td>5315</td>\n",
       "      <td>2014</td>\n",
       "      <td>Projecting Markov Random Field Parameters for ...</td>\n",
       "      <td>Poster</td>\n",
       "      <td>5315-projecting-markov-random-field-parameters...</td>\n",
       "      <td>Markov chain Monte Carlo (MCMC) algorithms are...</td>\n",
       "      <td>Projecting Markov Random Field Parameters for\\...</td>\n",
       "      <td>5122</td>\n",
       "    </tr>\n",
       "    <tr>\n",
       "      <th>5331</th>\n",
       "      <td>5374</td>\n",
       "      <td>2014</td>\n",
       "      <td>Automated Variational Inference for Gaussian P...</td>\n",
       "      <td>Poster</td>\n",
       "      <td>5374-automated-variational-inference-for-gauss...</td>\n",
       "      <td>We develop an automated variational method for...</td>\n",
       "      <td>Automated Variational Inference\\nfor Gaussian ...</td>\n",
       "      <td>5133</td>\n",
       "    </tr>\n",
       "    <tr>\n",
       "      <th>5410</th>\n",
       "      <td>5453</td>\n",
       "      <td>2014</td>\n",
       "      <td>(Almost) No Label No Cry</td>\n",
       "      <td>Spotlight</td>\n",
       "      <td>5453-almost-no-label-no-cry.pdf</td>\n",
       "      <td>In Learning with Label Proportions (LLP), the ...</td>\n",
       "      <td>(Almost) No Label No Cry\\n\\nGiorgio Patrini1,2...</td>\n",
       "      <td>6630</td>\n",
       "    </tr>\n",
       "    <tr>\n",
       "      <th>5412</th>\n",
       "      <td>5455</td>\n",
       "      <td>2014</td>\n",
       "      <td>Extended and Unscented Gaussian Processes</td>\n",
       "      <td>Spotlight</td>\n",
       "      <td>5455-extended-and-unscented-gaussian-processes...</td>\n",
       "      <td>We present two new methods for inference in Ga...</td>\n",
       "      <td>Extended and Unscented Gaussian Processes\\nDan...</td>\n",
       "      <td>5355</td>\n",
       "    </tr>\n",
       "    <tr>\n",
       "      <th>5622</th>\n",
       "      <td>5665</td>\n",
       "      <td>2015</td>\n",
       "      <td>Scalable Inference for Gaussian Process Models...</td>\n",
       "      <td>Poster</td>\n",
       "      <td>5665-scalable-inference-for-gaussian-process-m...</td>\n",
       "      <td>We propose a sparse method for scalable automa...</td>\n",
       "      <td>Scalable Inference for Gaussian Process Models...</td>\n",
       "      <td>5226</td>\n",
       "    </tr>\n",
       "    <tr>\n",
       "      <th>6200</th>\n",
       "      <td>6243</td>\n",
       "      <td>2016</td>\n",
       "      <td>Infinite Hidden Semi-Markov Modulated Interact...</td>\n",
       "      <td>Poster</td>\n",
       "      <td>6243-infinite-hidden-semi-markov-modulated-int...</td>\n",
       "      <td>The correlation between events is ubiquitous a...</td>\n",
       "      <td>Infinite Hidden Semi-Markov Modulated Interact...</td>\n",
       "      <td>5639</td>\n",
       "    </tr>\n",
       "  </tbody>\n",
       "</table>\n",
       "</div>"
      ],
      "text/plain": [
       "        id  year                                              title  \\\n",
       "3580  3619  2008  A computational model of hippocampal function ...   \n",
       "4402  4441  2011  Generalized Lasso based Approximation of Spars...   \n",
       "4924  4964  2013  Projecting Ising Model Parameters for Fast Mixing   \n",
       "5131  5171  2013  Factorized Asymptotic Bayesian Inference for L...   \n",
       "5272  5315  2014  Projecting Markov Random Field Parameters for ...   \n",
       "5331  5374  2014  Automated Variational Inference for Gaussian P...   \n",
       "5410  5453  2014                           (Almost) No Label No Cry   \n",
       "5412  5455  2014          Extended and Unscented Gaussian Processes   \n",
       "5622  5665  2015  Scalable Inference for Gaussian Process Models...   \n",
       "6200  6243  2016  Infinite Hidden Semi-Markov Modulated Interact...   \n",
       "\n",
       "     event_type                                           pdf_name  \\\n",
       "3580             3619-a-computational-model-of-hippocampal-func...   \n",
       "4402             4441-generalized-lasso-based-approximation-of-...   \n",
       "4924     Poster  4964-projecting-ising-model-parameters-for-fas...   \n",
       "5131     Poster  5171-factorized-asymptotic-bayesian-inference-...   \n",
       "5272     Poster  5315-projecting-markov-random-field-parameters...   \n",
       "5331     Poster  5374-automated-variational-inference-for-gauss...   \n",
       "5410  Spotlight                    5453-almost-no-label-no-cry.pdf   \n",
       "5412  Spotlight  5455-extended-and-unscented-gaussian-processes...   \n",
       "5622     Poster  5665-scalable-inference-for-gaussian-process-m...   \n",
       "6200     Poster  6243-infinite-hidden-semi-markov-modulated-int...   \n",
       "\n",
       "                                               abstract  \\\n",
       "3580  We present a new reinforcement-learning model ...   \n",
       "4402  Sparse coding, a method of explaining sensory ...   \n",
       "4924  Inference in general Ising models is difficult...   \n",
       "5131  This paper extends factorized asymptotic Bayes...   \n",
       "5272  Markov chain Monte Carlo (MCMC) algorithms are...   \n",
       "5331  We develop an automated variational method for...   \n",
       "5410  In Learning with Label Proportions (LLP), the ...   \n",
       "5412  We present two new methods for inference in Ga...   \n",
       "5622  We propose a sparse method for scalable automa...   \n",
       "6200  The correlation between events is ubiquitous a...   \n",
       "\n",
       "                                             paper_text  paper_length  \n",
       "3580  A computational model of hippocampal function ...          4392  \n",
       "4402  Generalized Lasso based Approximation of Spars...          5549  \n",
       "4924  Projecting Ising Model Parameters for Fast Mix...          5093  \n",
       "5131  Factorized Asymptotic Bayesian Inference\\nfor ...          5776  \n",
       "5272  Projecting Markov Random Field Parameters for\\...          5122  \n",
       "5331  Automated Variational Inference\\nfor Gaussian ...          5133  \n",
       "5410  (Almost) No Label No Cry\\n\\nGiorgio Patrini1,2...          6630  \n",
       "5412  Extended and Unscented Gaussian Processes\\nDan...          5355  \n",
       "5622  Scalable Inference for Gaussian Process Models...          5226  \n",
       "6200  Infinite Hidden Semi-Markov Modulated Interact...          5639  "
      ]
     },
     "execution_count": 19,
     "metadata": {},
     "output_type": "execute_result"
    }
   ],
   "source": [
    "df_papers[df_papers['paper_text'].str.contains('University of New South Wales')]"
   ]
  },
  {
   "cell_type": "markdown",
   "metadata": {},
   "source": [
    "### how about Australia as a whole?"
   ]
  },
  {
   "cell_type": "code",
   "execution_count": 20,
   "metadata": {
    "collapsed": false
   },
   "outputs": [
    {
     "data": {
      "text/plain": [
       "263"
      ]
     },
     "execution_count": 20,
     "metadata": {},
     "output_type": "execute_result"
    }
   ],
   "source": [
    "df_papers['paper_text'].str.contains('Australia').sum()"
   ]
  },
  {
   "cell_type": "code",
   "execution_count": 21,
   "metadata": {
    "collapsed": false
   },
   "outputs": [
    {
     "data": {
      "text/html": [
       "<div>\n",
       "<table border=\"1\" class=\"dataframe\">\n",
       "  <thead>\n",
       "    <tr style=\"text-align: right;\">\n",
       "      <th></th>\n",
       "      <th>id</th>\n",
       "      <th>year</th>\n",
       "      <th>title</th>\n",
       "      <th>event_type</th>\n",
       "      <th>pdf_name</th>\n",
       "      <th>abstract</th>\n",
       "      <th>paper_text</th>\n",
       "      <th>paper_length</th>\n",
       "    </tr>\n",
       "  </thead>\n",
       "  <tbody>\n",
       "    <tr>\n",
       "      <th>262</th>\n",
       "      <td>269</td>\n",
       "      <td>1989</td>\n",
       "      <td>Predicting Weather Using a Genetic Memory: A C...</td>\n",
       "      <td></td>\n",
       "      <td>269-predicting-weather-using-a-genetic-memory-...</td>\n",
       "      <td>Abstract Missing</td>\n",
       "      <td>Predicting Weather Using a Genetic Memory\\n\\nP...</td>\n",
       "      <td>3861</td>\n",
       "    </tr>\n",
       "    <tr>\n",
       "      <th>280</th>\n",
       "      <td>289</td>\n",
       "      <td>1989</td>\n",
       "      <td>Using Local Models to Control Movement</td>\n",
       "      <td></td>\n",
       "      <td>289-using-local-models-to-control-movement.pdf</td>\n",
       "      <td>Abstract Missing</td>\n",
       "      <td>316\\n\\nAtkeson\\n\\nUsing Local Models to Contro...</td>\n",
       "      <td>2926</td>\n",
       "    </tr>\n",
       "    <tr>\n",
       "      <th>375</th>\n",
       "      <td>386</td>\n",
       "      <td>1990</td>\n",
       "      <td>e-Entropy and the Complexity of Feedforward Ne...</td>\n",
       "      <td></td>\n",
       "      <td>386-e-entropy-and-the-complexity-of-feedforwar...</td>\n",
       "      <td>Abstract Missing</td>\n",
       "      <td>c-Entropy and the Complexity of\\nFeedforward N...</td>\n",
       "      <td>2341</td>\n",
       "    </tr>\n",
       "    <tr>\n",
       "      <th>398</th>\n",
       "      <td>410</td>\n",
       "      <td>1990</td>\n",
       "      <td>Comparison of three classification techniques:...</td>\n",
       "      <td></td>\n",
       "      <td>410-comparison-of-three-classification-techniq...</td>\n",
       "      <td>Abstract Missing</td>\n",
       "      <td>Comparison of three classification techniques,...</td>\n",
       "      <td>3114</td>\n",
       "    </tr>\n",
       "    <tr>\n",
       "      <th>422</th>\n",
       "      <td>434</td>\n",
       "      <td>1990</td>\n",
       "      <td>Direct memory access using two cues: Finding t...</td>\n",
       "      <td></td>\n",
       "      <td>434-direct-memory-access-using-two-cues-findin...</td>\n",
       "      <td>Abstract Missing</td>\n",
       "      <td>Direct memory access using two cues: Finding\\n...</td>\n",
       "      <td>3158</td>\n",
       "    </tr>\n",
       "  </tbody>\n",
       "</table>\n",
       "</div>"
      ],
      "text/plain": [
       "      id  year                                              title event_type  \\\n",
       "262  269  1989  Predicting Weather Using a Genetic Memory: A C...              \n",
       "280  289  1989             Using Local Models to Control Movement              \n",
       "375  386  1990  e-Entropy and the Complexity of Feedforward Ne...              \n",
       "398  410  1990  Comparison of three classification techniques:...              \n",
       "422  434  1990  Direct memory access using two cues: Finding t...              \n",
       "\n",
       "                                              pdf_name          abstract  \\\n",
       "262  269-predicting-weather-using-a-genetic-memory-...  Abstract Missing   \n",
       "280     289-using-local-models-to-control-movement.pdf  Abstract Missing   \n",
       "375  386-e-entropy-and-the-complexity-of-feedforwar...  Abstract Missing   \n",
       "398  410-comparison-of-three-classification-techniq...  Abstract Missing   \n",
       "422  434-direct-memory-access-using-two-cues-findin...  Abstract Missing   \n",
       "\n",
       "                                            paper_text  paper_length  \n",
       "262  Predicting Weather Using a Genetic Memory\\n\\nP...          3861  \n",
       "280  316\\n\\nAtkeson\\n\\nUsing Local Models to Contro...          2926  \n",
       "375  c-Entropy and the Complexity of\\nFeedforward N...          2341  \n",
       "398  Comparison of three classification techniques,...          3114  \n",
       "422  Direct memory access using two cues: Finding\\n...          3158  "
      ]
     },
     "execution_count": 21,
     "metadata": {},
     "output_type": "execute_result"
    }
   ],
   "source": [
    "df_papers[df_papers['paper_text'].str.contains('Australia')].head()"
   ]
  },
  {
   "cell_type": "markdown",
   "metadata": {},
   "source": [
    "This gives me all kinds of junk. dataframe id 262 \"predicting weather using genetic memory\" has the word Australia listed inside the body of the text while describing something near the Australian coast. One way of handling this is to search for the word Australia within the first 100 words of the paper_text."
   ]
  },
  {
   "cell_type": "code",
   "execution_count": 23,
   "metadata": {
    "collapsed": false
   },
   "outputs": [],
   "source": [
    "# get the first 500 words of the paper text and store it in a new variable \"paper_text_100_words\"\n",
    "df_papers['paper_text_500_words'] = df_papers['paper_text'].apply(lambda x: ' '.join(x.split()[:500]))"
   ]
  },
  {
   "cell_type": "code",
   "execution_count": 24,
   "metadata": {
    "collapsed": false
   },
   "outputs": [
    {
     "data": {
      "text/plain": [
       "154"
      ]
     },
     "execution_count": 24,
     "metadata": {},
     "output_type": "execute_result"
    }
   ],
   "source": [
    "df_papers['paper_text_500_words'].str.contains('Australia').sum()"
   ]
  },
  {
   "cell_type": "markdown",
   "metadata": {},
   "source": [
    "Its not bullet-proof. Some Australian authors may have published without university affiliations. In such cases, there's no reason why the word 'Australia' might figure in their papers. However, I cant think of a better way to approach the problem. So it will have to do!\n",
    "\n",
    "WOW. 154 papers from Australia out of the 6500 papers. Still, its not too shabby, and i have my playground at last."
   ]
  },
  {
   "cell_type": "code",
   "execution_count": 25,
   "metadata": {
    "collapsed": false
   },
   "outputs": [
    {
     "data": {
      "text/html": [
       "<div>\n",
       "<table border=\"1\" class=\"dataframe\">\n",
       "  <thead>\n",
       "    <tr style=\"text-align: right;\">\n",
       "      <th></th>\n",
       "      <th>id</th>\n",
       "      <th>year</th>\n",
       "      <th>title</th>\n",
       "      <th>event_type</th>\n",
       "      <th>pdf_name</th>\n",
       "      <th>abstract</th>\n",
       "      <th>paper_text</th>\n",
       "      <th>paper_length</th>\n",
       "      <th>paper_text_500_words</th>\n",
       "    </tr>\n",
       "  </thead>\n",
       "  <tbody>\n",
       "    <tr>\n",
       "      <th>375</th>\n",
       "      <td>386</td>\n",
       "      <td>1990</td>\n",
       "      <td>e-Entropy and the Complexity of Feedforward Ne...</td>\n",
       "      <td></td>\n",
       "      <td>386-e-entropy-and-the-complexity-of-feedforwar...</td>\n",
       "      <td>Abstract Missing</td>\n",
       "      <td>c-Entropy and the Complexity of\\nFeedforward N...</td>\n",
       "      <td>2341</td>\n",
       "      <td>c-Entropy and the Complexity of Feedforward Ne...</td>\n",
       "    </tr>\n",
       "    <tr>\n",
       "      <th>398</th>\n",
       "      <td>410</td>\n",
       "      <td>1990</td>\n",
       "      <td>Comparison of three classification techniques:...</td>\n",
       "      <td></td>\n",
       "      <td>410-comparison-of-three-classification-techniq...</td>\n",
       "      <td>Abstract Missing</td>\n",
       "      <td>Comparison of three classification techniques,...</td>\n",
       "      <td>3114</td>\n",
       "      <td>Comparison of three classification techniques,...</td>\n",
       "    </tr>\n",
       "    <tr>\n",
       "      <th>422</th>\n",
       "      <td>434</td>\n",
       "      <td>1990</td>\n",
       "      <td>Direct memory access using two cues: Finding t...</td>\n",
       "      <td></td>\n",
       "      <td>434-direct-memory-access-using-two-cues-findin...</td>\n",
       "      <td>Abstract Missing</td>\n",
       "      <td>Direct memory access using two cues: Finding\\n...</td>\n",
       "      <td>3158</td>\n",
       "      <td>Direct memory access using two cues: Finding t...</td>\n",
       "    </tr>\n",
       "    <tr>\n",
       "      <th>430</th>\n",
       "      <td>442</td>\n",
       "      <td>1991</td>\n",
       "      <td>Splines, Rational Functions and Neural Networks</td>\n",
       "      <td></td>\n",
       "      <td>442-splines-rational-functions-and-neural-netw...</td>\n",
       "      <td>Abstract Missing</td>\n",
       "      <td>Splines, Rational Functions and Neural Network...</td>\n",
       "      <td>2841</td>\n",
       "      <td>Splines, Rational Functions and Neural Network...</td>\n",
       "    </tr>\n",
       "    <tr>\n",
       "      <th>456</th>\n",
       "      <td>468</td>\n",
       "      <td>1991</td>\n",
       "      <td>Operators and curried functions: Training and ...</td>\n",
       "      <td></td>\n",
       "      <td>468-operators-and-curried-functions-training-a...</td>\n",
       "      <td>Abstract Missing</td>\n",
       "      <td>Operators and curried functions:\\nTraining and...</td>\n",
       "      <td>2674</td>\n",
       "      <td>Operators and curried functions: Training and ...</td>\n",
       "    </tr>\n",
       "  </tbody>\n",
       "</table>\n",
       "</div>"
      ],
      "text/plain": [
       "      id  year                                              title event_type  \\\n",
       "375  386  1990  e-Entropy and the Complexity of Feedforward Ne...              \n",
       "398  410  1990  Comparison of three classification techniques:...              \n",
       "422  434  1990  Direct memory access using two cues: Finding t...              \n",
       "430  442  1991    Splines, Rational Functions and Neural Networks              \n",
       "456  468  1991  Operators and curried functions: Training and ...              \n",
       "\n",
       "                                              pdf_name          abstract  \\\n",
       "375  386-e-entropy-and-the-complexity-of-feedforwar...  Abstract Missing   \n",
       "398  410-comparison-of-three-classification-techniq...  Abstract Missing   \n",
       "422  434-direct-memory-access-using-two-cues-findin...  Abstract Missing   \n",
       "430  442-splines-rational-functions-and-neural-netw...  Abstract Missing   \n",
       "456  468-operators-and-curried-functions-training-a...  Abstract Missing   \n",
       "\n",
       "                                            paper_text  paper_length  \\\n",
       "375  c-Entropy and the Complexity of\\nFeedforward N...          2341   \n",
       "398  Comparison of three classification techniques,...          3114   \n",
       "422  Direct memory access using two cues: Finding\\n...          3158   \n",
       "430  Splines, Rational Functions and Neural Network...          2841   \n",
       "456  Operators and curried functions:\\nTraining and...          2674   \n",
       "\n",
       "                                  paper_text_500_words  \n",
       "375  c-Entropy and the Complexity of Feedforward Ne...  \n",
       "398  Comparison of three classification techniques,...  \n",
       "422  Direct memory access using two cues: Finding t...  \n",
       "430  Splines, Rational Functions and Neural Network...  \n",
       "456  Operators and curried functions: Training and ...  "
      ]
     },
     "execution_count": 25,
     "metadata": {},
     "output_type": "execute_result"
    }
   ],
   "source": [
    "df_papers[df_papers['paper_text_500_words'].str.contains('Australia')].head()"
   ]
  },
  {
   "cell_type": "code",
   "execution_count": 26,
   "metadata": {
    "collapsed": false
   },
   "outputs": [],
   "source": [
    "df_papers['ozzie'] = np.where(df_papers['paper_text_500_words'].str.contains('Australia'),1,0)"
   ]
  },
  {
   "cell_type": "code",
   "execution_count": 27,
   "metadata": {
    "collapsed": false
   },
   "outputs": [
    {
     "data": {
      "text/plain": [
       "0    6406\n",
       "1     154\n",
       "Name: ozzie, dtype: int64"
      ]
     },
     "execution_count": 27,
     "metadata": {},
     "output_type": "execute_result"
    }
   ],
   "source": [
    "df_papers.ozzie.value_counts()"
   ]
  },
  {
   "cell_type": "markdown",
   "metadata": {},
   "source": [
    "## Some general exploration on the dataset"
   ]
  },
  {
   "cell_type": "markdown",
   "metadata": {},
   "source": [
    "#### How has NIPS popularity been growing?"
   ]
  },
  {
   "cell_type": "code",
   "execution_count": 28,
   "metadata": {
    "collapsed": false
   },
   "outputs": [
    {
     "data": {
      "text/plain": [
       "(None, None)"
      ]
     },
     "execution_count": 28,
     "metadata": {},
     "output_type": "execute_result"
    },
    {
     "data": {
      "image/png": "[encoded data removed]",
      "text/plain": [
       "<matplotlib.figure.Figure at 0x150ff8d0>"
      ]
     },
     "metadata": {},
     "output_type": "display_data"
    }
   ],
   "source": [
    "# set common parameters\n",
    "fig = plt.figure(figsize=(12,5));   \n",
    "sns.set_color_codes(\"muted\")\n",
    "\n",
    "# start painting!\n",
    "ax0 = fig.add_subplot(1,2,1);\n",
    "ax1 = fig.add_subplot(1,2,2);\n",
    "\n",
    "df_papers.loc[df_papers.ozzie == 0,['title','year']].groupby(by='year').count().plot(kind=\"line\", ax = ax0)\n",
    "df_papers.loc[df_papers.ozzie == 1,['title','year']].groupby(by='year').count().plot(kind=\"line\", ax = ax1, color = sns.xkcd_rgb[\"medium green\"])\n",
    "\n",
    "ax0.set_title(\"Non Ozzie submissions over the years\",fontsize=10,color=\"maroon\")\n",
    "ax1.set_title(\"Ozzie submissions over the years\",fontsize=10,color=\"maroon\")\n",
    "ax0.legend_.remove(), ax1.legend_.remove()"
   ]
  },
  {
   "cell_type": "markdown",
   "metadata": {},
   "source": [
    "I thought it'd be better to put these 2 side by side, rather than as 2 lines in the same plot because the axes would be all messed up and we wouldnt get a true picture of the trends."
   ]
  },
  {
   "cell_type": "markdown",
   "metadata": {},
   "source": [
    "#### whats the deal with the event type?"
   ]
  },
  {
   "cell_type": "markdown",
   "metadata": {},
   "source": [
    "I found a link on reddit here (https://www.reddit.com/r/MachineLearning/comments/3thfgz/nips/cx67pjt/) that tells us more about NIPS event types:<br>\n",
    "Tutorials are multi-track, you generally pick one per time slot. These are, at their best, opinionated introductions to a particular area of inquiry; at their worst, a particular speaker's research highlights reel.<br>\n",
    "The conference oral presentations are single track, there are no oral presentations scheduled at the same time as one another. There are \"spotlight\" sessions which are several 5 minute presentations back to back in roughly the same length of slot that one oral presentation would get. The poster sessions are one big, loud, overcrowded science fair type thing held in the evenings of the main conference.<br>\n",
    "The workshops are more niche meetings that are scheduled separately and in parallel. Many people come just for the workshops, or rather for a particular workshop related to their area of interest; this applies to a lot of neuroscience folks who have long since abandoned the main conference (ironically given the first word of the name)."
   ]
  },
  {
   "cell_type": "code",
   "execution_count": 29,
   "metadata": {
    "collapsed": false
   },
   "outputs": [
    {
     "data": {
      "text/plain": [
       "             125\n",
       "Poster        23\n",
       "Spotlight      5\n",
       "Oral           1\n",
       "Name: event_type, dtype: int64"
      ]
     },
     "execution_count": 29,
     "metadata": {},
     "output_type": "execute_result"
    }
   ],
   "source": [
    "df_papers[df_papers.ozzie == 1].event_type.value_counts()"
   ]
  },
  {
   "cell_type": "markdown",
   "metadata": {},
   "source": [
    "Most of them are unclassified. So I wouldnt read too much into this just yet."
   ]
  },
  {
   "cell_type": "markdown",
   "metadata": {},
   "source": [
    "#### how big are the papers?"
   ]
  },
  {
   "cell_type": "code",
   "execution_count": 30,
   "metadata": {
    "collapsed": false
   },
   "outputs": [
    {
     "data": {
      "text/plain": [
       "[]"
      ]
     },
     "execution_count": 30,
     "metadata": {},
     "output_type": "execute_result"
    },
    {
     "data": {
      "image/png": "[encoded data removed]",
      "text/plain": [
       "<matplotlib.figure.Figure at 0x1531def0>"
      ]
     },
     "metadata": {},
     "output_type": "display_data"
    }
   ],
   "source": [
    "fig, ax = plt.subplots()\n",
    "sns.kdeplot(df_papers.loc[df_papers.ozzie == 1,'paper_length'], shade=True, ax = ax)\n",
    "sns.kdeplot(df_papers.loc[df_papers.ozzie == 0,'paper_length'], shade=True, ax = ax, clip=(0,10000))\n",
    "ax.legend(labels=['Ozzie','Non-ozzie'], loc = 'best')\n",
    "ax.yaxis.set_ticklabels([])"
   ]
  },
  {
   "cell_type": "markdown",
   "metadata": {
    "collapsed": true
   },
   "source": [
    "Looks like Ozzie papers are comparable to papers from around the world, being only slightly smaller."
   ]
  },
  {
   "cell_type": "markdown",
   "metadata": {},
   "source": [
    "### Let's try to bring in authors into the papers mix"
   ]
  },
  {
   "cell_type": "code",
   "execution_count": 31,
   "metadata": {
    "collapsed": false
   },
   "outputs": [
    {
     "data": {
      "text/html": [
       "<div>\n",
       "<table border=\"1\" class=\"dataframe\">\n",
       "  <thead>\n",
       "    <tr style=\"text-align: right;\">\n",
       "      <th></th>\n",
       "      <th>id</th>\n",
       "      <th>name</th>\n",
       "    </tr>\n",
       "  </thead>\n",
       "  <tbody>\n",
       "    <tr>\n",
       "      <th>0</th>\n",
       "      <td>1</td>\n",
       "      <td>Hisashi Suzuki</td>\n",
       "    </tr>\n",
       "    <tr>\n",
       "      <th>1</th>\n",
       "      <td>2</td>\n",
       "      <td>Suguru Arimoto</td>\n",
       "    </tr>\n",
       "    <tr>\n",
       "      <th>2</th>\n",
       "      <td>3</td>\n",
       "      <td>Philip A. Chou</td>\n",
       "    </tr>\n",
       "    <tr>\n",
       "      <th>3</th>\n",
       "      <td>4</td>\n",
       "      <td>John C. Platt</td>\n",
       "    </tr>\n",
       "    <tr>\n",
       "      <th>4</th>\n",
       "      <td>5</td>\n",
       "      <td>Alan H. Barr</td>\n",
       "    </tr>\n",
       "  </tbody>\n",
       "</table>\n",
       "</div>"
      ],
      "text/plain": [
       "   id            name\n",
       "0   1  Hisashi Suzuki\n",
       "1   2  Suguru Arimoto\n",
       "2   3  Philip A. Chou\n",
       "3   4   John C. Platt\n",
       "4   5    Alan H. Barr"
      ]
     },
     "execution_count": 31,
     "metadata": {},
     "output_type": "execute_result"
    }
   ],
   "source": [
    "df_authors.head()"
   ]
  },
  {
   "cell_type": "markdown",
   "metadata": {},
   "source": [
    "#### Merge with the key and the author tables"
   ]
  },
  {
   "cell_type": "code",
   "execution_count": 32,
   "metadata": {
    "collapsed": false
   },
   "outputs": [],
   "source": [
    "df_ozzie = pd.merge(left=df_papers[df_papers.ozzie == 1], right=df_key, left_on='id', right_on='paper_id',\n",
    "                    suffixes=('_papers', '_key'))\n",
    "df_ozzie = pd.merge(left = df_ozzie, right = df_authors, how='left',left_on='author_id', right_on='id',\n",
    "                    suffixes=('_ozzie', '_author'))"
   ]
  },
  {
   "cell_type": "markdown",
   "metadata": {},
   "source": [
    "#### Remove the extraneous columns just to keep your sanity"
   ]
  },
  {
   "cell_type": "code",
   "execution_count": 33,
   "metadata": {
    "collapsed": false
   },
   "outputs": [
    {
     "data": {
      "text/html": [
       "<div>\n",
       "<table border=\"1\" class=\"dataframe\">\n",
       "  <thead>\n",
       "    <tr style=\"text-align: right;\">\n",
       "      <th></th>\n",
       "      <th>year</th>\n",
       "      <th>title</th>\n",
       "      <th>pdf_name</th>\n",
       "      <th>paper_text</th>\n",
       "      <th>paper_length</th>\n",
       "      <th>paper_text_500_words</th>\n",
       "      <th>name</th>\n",
       "    </tr>\n",
       "  </thead>\n",
       "  <tbody>\n",
       "    <tr>\n",
       "      <th>0</th>\n",
       "      <td>1990</td>\n",
       "      <td>e-Entropy and the Complexity of Feedforward Ne...</td>\n",
       "      <td>386-e-entropy-and-the-complexity-of-feedforwar...</td>\n",
       "      <td>c-Entropy and the Complexity of\\nFeedforward N...</td>\n",
       "      <td>2341</td>\n",
       "      <td>c-Entropy and the Complexity of Feedforward Ne...</td>\n",
       "      <td>Robert C. Williamson</td>\n",
       "    </tr>\n",
       "    <tr>\n",
       "      <th>1</th>\n",
       "      <td>1990</td>\n",
       "      <td>Comparison of three classification techniques:...</td>\n",
       "      <td>410-comparison-of-three-classification-techniq...</td>\n",
       "      <td>Comparison of three classification techniques,...</td>\n",
       "      <td>3114</td>\n",
       "      <td>Comparison of three classification techniques,...</td>\n",
       "      <td>A. C. Tsoi</td>\n",
       "    </tr>\n",
       "    <tr>\n",
       "      <th>2</th>\n",
       "      <td>1990</td>\n",
       "      <td>Comparison of three classification techniques:...</td>\n",
       "      <td>410-comparison-of-three-classification-techniq...</td>\n",
       "      <td>Comparison of three classification techniques,...</td>\n",
       "      <td>3114</td>\n",
       "      <td>Comparison of three classification techniques,...</td>\n",
       "      <td>R. A. Pearson</td>\n",
       "    </tr>\n",
       "    <tr>\n",
       "      <th>3</th>\n",
       "      <td>1990</td>\n",
       "      <td>Direct memory access using two cues: Finding t...</td>\n",
       "      <td>434-direct-memory-access-using-two-cues-findin...</td>\n",
       "      <td>Direct memory access using two cues: Finding\\n...</td>\n",
       "      <td>3158</td>\n",
       "      <td>Direct memory access using two cues: Finding t...</td>\n",
       "      <td>Janet Wiles</td>\n",
       "    </tr>\n",
       "    <tr>\n",
       "      <th>4</th>\n",
       "      <td>1990</td>\n",
       "      <td>Direct memory access using two cues: Finding t...</td>\n",
       "      <td>434-direct-memory-access-using-two-cues-findin...</td>\n",
       "      <td>Direct memory access using two cues: Finding\\n...</td>\n",
       "      <td>3158</td>\n",
       "      <td>Direct memory access using two cues: Finding t...</td>\n",
       "      <td>Michael S. Humphreys</td>\n",
       "    </tr>\n",
       "  </tbody>\n",
       "</table>\n",
       "</div>"
      ],
      "text/plain": [
       "   year                                              title  \\\n",
       "0  1990  e-Entropy and the Complexity of Feedforward Ne...   \n",
       "1  1990  Comparison of three classification techniques:...   \n",
       "2  1990  Comparison of three classification techniques:...   \n",
       "3  1990  Direct memory access using two cues: Finding t...   \n",
       "4  1990  Direct memory access using two cues: Finding t...   \n",
       "\n",
       "                                            pdf_name  \\\n",
       "0  386-e-entropy-and-the-complexity-of-feedforwar...   \n",
       "1  410-comparison-of-three-classification-techniq...   \n",
       "2  410-comparison-of-three-classification-techniq...   \n",
       "3  434-direct-memory-access-using-two-cues-findin...   \n",
       "4  434-direct-memory-access-using-two-cues-findin...   \n",
       "\n",
       "                                          paper_text  paper_length  \\\n",
       "0  c-Entropy and the Complexity of\\nFeedforward N...          2341   \n",
       "1  Comparison of three classification techniques,...          3114   \n",
       "2  Comparison of three classification techniques,...          3114   \n",
       "3  Direct memory access using two cues: Finding\\n...          3158   \n",
       "4  Direct memory access using two cues: Finding\\n...          3158   \n",
       "\n",
       "                                paper_text_500_words                  name  \n",
       "0  c-Entropy and the Complexity of Feedforward Ne...  Robert C. Williamson  \n",
       "1  Comparison of three classification techniques,...            A. C. Tsoi  \n",
       "2  Comparison of three classification techniques,...         R. A. Pearson  \n",
       "3  Direct memory access using two cues: Finding t...           Janet Wiles  \n",
       "4  Direct memory access using two cues: Finding t...  Michael S. Humphreys  "
      ]
     },
     "execution_count": 33,
     "metadata": {},
     "output_type": "execute_result"
    }
   ],
   "source": [
    "df_ozzie.drop(['id_papers','event_type','abstract','ozzie','id_key',\n",
    "               'paper_id','author_id','id'], axis = 1, inplace = True)\n",
    "df_ozzie.head()"
   ]
  },
  {
   "cell_type": "markdown",
   "metadata": {},
   "source": [
    "## Have a look at the aussie authors"
   ]
  },
  {
   "cell_type": "code",
   "execution_count": 34,
   "metadata": {
    "collapsed": false
   },
   "outputs": [
    {
     "data": {
      "text/plain": [
       "Alex J. Smola                 28\n",
       "Robert C. Williamson          15\n",
       "Peter L. Bartlett             12\n",
       "Tib?rio S. Caetano             8\n",
       "S.v.n. Vishwanathan            8\n",
       "Prof. Bernhard Sch?lkopf       8\n",
       "Adam Kowalczyk                 7\n",
       "James Petterson                7\n",
       "Xinhua Zhang                   6\n",
       "Janet Wiles                    6\n",
       "Arthur Gretton                 5\n",
       "Le Song                        5\n",
       "Marwan A. Jabri                5\n",
       "Chunhua Shen                   5\n",
       "Novi Quadrianto                5\n",
       "Justin Domke                   5\n",
       "Jonathan Baxter                4\n",
       "Karsten M. Borgwardt           4\n",
       "Dale Schuurmans                4\n",
       "Nicol N. Schraudolph           4\n",
       "Gunnar R?tsch                  4\n",
       "Mark D. Reid                   4\n",
       "Ah Chung Tsoi                  4\n",
       "Quoc V. Le                     4\n",
       "Jin Yu                         4\n",
       "Xianghang Liu                  3\n",
       "Sebastian Mika                 3\n",
       "Richard Coggins                3\n",
       "Herman L. Ferr?                3\n",
       "Richard Nock                   3\n",
       "                              ..\n",
       "E. J. Kehoe                    1\n",
       "M. Jabri                       1\n",
       "Uwe Helmke                     1\n",
       "Yannig Goude                   1\n",
       "Yi Xu                          1\n",
       "Fabio T. Ramos                 1\n",
       "Evian Gordon                   1\n",
       "Alexandros Karatzoglou         1\n",
       "Tiberio Caetano                1\n",
       "Rafael Frongillo               1\n",
       "Ransalu Senanayake             1\n",
       "Ian Reid                       1\n",
       "Tomi Janhunen                  1\n",
       "Matthias O. Franz              1\n",
       "Fang Chen                      1\n",
       "T. Downs                       1\n",
       "Henrik Nyman                   1\n",
       "Trung T. Pham                  1\n",
       "Don Bone                       1\n",
       "Malte Rasch                    1\n",
       "Steve Lawrence                 1\n",
       "Cyril Latimer                  1\n",
       "Pannagadatta K. Shivaswamy     1\n",
       "Robert Ragno                   1\n",
       "Yan Yan                        1\n",
       "Yu-Bin Yang                    1\n",
       "Ernest Wan                     1\n",
       "matt zhang                     1\n",
       "Shane Legg                     1\n",
       "Ting Guo                       1\n",
       "Name: name, dtype: int64"
      ]
     },
     "execution_count": 34,
     "metadata": {},
     "output_type": "execute_result"
    }
   ],
   "source": [
    "df_ozzie['name'].value_counts()"
   ]
  },
  {
   "cell_type": "markdown",
   "metadata": {},
   "source": [
    "Alex J. Smola (ex ANU and NICTA currently CMU), Robert C. Williamson(ANU, NICTA and Data61), and Peter L. Bartlett(ex ANU no Berkeley) have been killing it in the publications biz. Let's see who's been publishing more recently."
   ]
  },
  {
   "cell_type": "code",
   "execution_count": 35,
   "metadata": {
    "collapsed": false
   },
   "outputs": [
    {
     "data": {
      "text/plain": [
       "Justin Domke            5\n",
       "Xinhua Zhang            4\n",
       "Mark D. Reid            4\n",
       "Chunhua Shen            3\n",
       "Tib?rio S. Caetano      3\n",
       "Aaron Defazio           3\n",
       "Robert C. Williamson    3\n",
       "Xianghang Liu           3\n",
       "Richard Nock            3\n",
       "Yang Wang               2\n",
       "Dale Schuurmans         2\n",
       "Aditya Menon            2\n",
       "James Petterson         2\n",
       "Peng Lin                2\n",
       "Anton van den Hengel    2\n",
       "Ransalu Senanayake      1\n",
       "Tiberio Caetano         1\n",
       "Haifeng Xia             1\n",
       "Hao Cheng               1\n",
       "Vu Nguyen               1\n",
       "Paul Rivera             1\n",
       "Edwin V. Bonilla        1\n",
       "Lingqiao Liu            1\n",
       "Hadi Mohasel Afshar     1\n",
       "Tomi Janhunen           1\n",
       "Jin Yu                  1\n",
       "Finnian Lattimore       1\n",
       "Lei Wang                1\n",
       "Lionel Ott              1\n",
       "Shin'ichi Satoh         1\n",
       "                       ..\n",
       "Yi Xu                   1\n",
       "Rafael Frongillo        1\n",
       "Kristian Kersting       1\n",
       "Pascal Pompey           1\n",
       "Pascal Poupart          1\n",
       "Dinh Phung              1\n",
       "Chao Wang               1\n",
       "David Newman            1\n",
       "Nobuyuki Morioka        1\n",
       "Tim V. Erven            1\n",
       "Simon Lacoste-Julien    1\n",
       "Jose M. Alvarez         1\n",
       "Nichol?s Della Penna    1\n",
       "Mathieu Salzmann        1\n",
       "Long Tran-Thanh         1\n",
       "Weidong Cai             1\n",
       "Fabio T. Ramos          1\n",
       "Amadou Ba               1\n",
       "Yu-Bin Yang             1\n",
       "Guosheng Lin            1\n",
       "Jukka Corander          1\n",
       "?zlem Aslan             1\n",
       "Yan Yan                 1\n",
       "Francis Bach            1\n",
       "Brendan van Rooyen      1\n",
       "Trung T. Pham           1\n",
       "Hong Chen               1\n",
       "Tianbao Yang            1\n",
       "Nishant A. Mehta        1\n",
       "Zahra Zamani            1\n",
       "Name: name, dtype: int64"
      ]
     },
     "execution_count": 35,
     "metadata": {},
     "output_type": "execute_result"
    }
   ],
   "source": [
    "df_ozzie.loc[df_ozzie.year > 2010,'name'].value_counts()"
   ]
  },
  {
   "cell_type": "markdown",
   "metadata": {},
   "source": [
    "The story changes here. Justin Domke, Mark D. Reid, et al from ANU have been publishing industriously. It'd be good to get a sense of every author's uni associations."
   ]
  },
  {
   "cell_type": "code",
   "execution_count": 36,
   "metadata": {
    "collapsed": false
   },
   "outputs": [],
   "source": [
    "# display a larger string\n",
    "pd.options.display.max_colwidth = 100"
   ]
  },
  {
   "cell_type": "code",
   "execution_count": 37,
   "metadata": {
    "collapsed": false
   },
   "outputs": [
    {
     "data": {
      "text/html": [
       "<div>\n",
       "<table border=\"1\" class=\"dataframe\">\n",
       "  <thead>\n",
       "    <tr style=\"text-align: right;\">\n",
       "      <th></th>\n",
       "      <th>year</th>\n",
       "      <th>title</th>\n",
       "      <th>pdf_name</th>\n",
       "      <th>paper_text</th>\n",
       "      <th>paper_length</th>\n",
       "      <th>paper_text_500_words</th>\n",
       "      <th>name</th>\n",
       "    </tr>\n",
       "  </thead>\n",
       "  <tbody>\n",
       "    <tr>\n",
       "      <th>0</th>\n",
       "      <td>1990</td>\n",
       "      <td>e-Entropy and the Complexity of Feedforward Neural Networks</td>\n",
       "      <td>386-e-entropy-and-the-complexity-of-feedforward-neural-networks.pdf</td>\n",
       "      <td>c-Entropy and the Complexity of\\nFeedforward Neural Networks\\n\\nRobert C. Williamson\\nDepartment...</td>\n",
       "      <td>2341</td>\n",
       "      <td>c-Entropy and the Complexity of Feedforward Neural Networks Robert C. Williamson Department of S...</td>\n",
       "      <td>Robert C. Williamson</td>\n",
       "    </tr>\n",
       "    <tr>\n",
       "      <th>1</th>\n",
       "      <td>1990</td>\n",
       "      <td>Comparison of three classification techniques: CART, C4.5 and Multi-Layer Perceptrons</td>\n",
       "      <td>410-comparison-of-three-classification-techniques-cart-c45-and-multi-layer-perceptrons.pdf</td>\n",
       "      <td>Comparison of three classification techniques,\\nCART, C4.5 and Multi-Layer Perceptrons\\n\\nA C Ts...</td>\n",
       "      <td>3114</td>\n",
       "      <td>Comparison of three classification techniques, CART, C4.5 and Multi-Layer Perceptrons A C Tsoi R...</td>\n",
       "      <td>A. C. Tsoi</td>\n",
       "    </tr>\n",
       "    <tr>\n",
       "      <th>2</th>\n",
       "      <td>1990</td>\n",
       "      <td>Comparison of three classification techniques: CART, C4.5 and Multi-Layer Perceptrons</td>\n",
       "      <td>410-comparison-of-three-classification-techniques-cart-c45-and-multi-layer-perceptrons.pdf</td>\n",
       "      <td>Comparison of three classification techniques,\\nCART, C4.5 and Multi-Layer Perceptrons\\n\\nA C Ts...</td>\n",
       "      <td>3114</td>\n",
       "      <td>Comparison of three classification techniques, CART, C4.5 and Multi-Layer Perceptrons A C Tsoi R...</td>\n",
       "      <td>R. A. Pearson</td>\n",
       "    </tr>\n",
       "    <tr>\n",
       "      <th>3</th>\n",
       "      <td>1990</td>\n",
       "      <td>Direct memory access using two cues: Finding the intersection of sets in a connectionist model</td>\n",
       "      <td>434-direct-memory-access-using-two-cues-finding-the-intersection-of-sets-in-a-connectionist-mode...</td>\n",
       "      <td>Direct memory access using two cues: Finding\\nthe intersection of sets in a connectionist model\\...</td>\n",
       "      <td>3158</td>\n",
       "      <td>Direct memory access using two cues: Finding the intersection of sets in a connectionist model J...</td>\n",
       "      <td>Janet Wiles</td>\n",
       "    </tr>\n",
       "    <tr>\n",
       "      <th>4</th>\n",
       "      <td>1990</td>\n",
       "      <td>Direct memory access using two cues: Finding the intersection of sets in a connectionist model</td>\n",
       "      <td>434-direct-memory-access-using-two-cues-finding-the-intersection-of-sets-in-a-connectionist-mode...</td>\n",
       "      <td>Direct memory access using two cues: Finding\\nthe intersection of sets in a connectionist model\\...</td>\n",
       "      <td>3158</td>\n",
       "      <td>Direct memory access using two cues: Finding the intersection of sets in a connectionist model J...</td>\n",
       "      <td>Michael S. Humphreys</td>\n",
       "    </tr>\n",
       "  </tbody>\n",
       "</table>\n",
       "</div>"
      ],
      "text/plain": [
       "   year  \\\n",
       "0  1990   \n",
       "1  1990   \n",
       "2  1990   \n",
       "3  1990   \n",
       "4  1990   \n",
       "\n",
       "                                                                                            title  \\\n",
       "0                                     e-Entropy and the Complexity of Feedforward Neural Networks   \n",
       "1           Comparison of three classification techniques: CART, C4.5 and Multi-Layer Perceptrons   \n",
       "2           Comparison of three classification techniques: CART, C4.5 and Multi-Layer Perceptrons   \n",
       "3  Direct memory access using two cues: Finding the intersection of sets in a connectionist model   \n",
       "4  Direct memory access using two cues: Finding the intersection of sets in a connectionist model   \n",
       "\n",
       "                                                                                              pdf_name  \\\n",
       "0                                  386-e-entropy-and-the-complexity-of-feedforward-neural-networks.pdf   \n",
       "1           410-comparison-of-three-classification-techniques-cart-c45-and-multi-layer-perceptrons.pdf   \n",
       "2           410-comparison-of-three-classification-techniques-cart-c45-and-multi-layer-perceptrons.pdf   \n",
       "3  434-direct-memory-access-using-two-cues-finding-the-intersection-of-sets-in-a-connectionist-mode...   \n",
       "4  434-direct-memory-access-using-two-cues-finding-the-intersection-of-sets-in-a-connectionist-mode...   \n",
       "\n",
       "                                                                                            paper_text  \\\n",
       "0  c-Entropy and the Complexity of\\nFeedforward Neural Networks\\n\\nRobert C. Williamson\\nDepartment...   \n",
       "1  Comparison of three classification techniques,\\nCART, C4.5 and Multi-Layer Perceptrons\\n\\nA C Ts...   \n",
       "2  Comparison of three classification techniques,\\nCART, C4.5 and Multi-Layer Perceptrons\\n\\nA C Ts...   \n",
       "3  Direct memory access using two cues: Finding\\nthe intersection of sets in a connectionist model\\...   \n",
       "4  Direct memory access using two cues: Finding\\nthe intersection of sets in a connectionist model\\...   \n",
       "\n",
       "   paper_length  \\\n",
       "0          2341   \n",
       "1          3114   \n",
       "2          3114   \n",
       "3          3158   \n",
       "4          3158   \n",
       "\n",
       "                                                                                  paper_text_500_words  \\\n",
       "0  c-Entropy and the Complexity of Feedforward Neural Networks Robert C. Williamson Department of S...   \n",
       "1  Comparison of three classification techniques, CART, C4.5 and Multi-Layer Perceptrons A C Tsoi R...   \n",
       "2  Comparison of three classification techniques, CART, C4.5 and Multi-Layer Perceptrons A C Tsoi R...   \n",
       "3  Direct memory access using two cues: Finding the intersection of sets in a connectionist model J...   \n",
       "4  Direct memory access using two cues: Finding the intersection of sets in a connectionist model J...   \n",
       "\n",
       "                   name  \n",
       "0  Robert C. Williamson  \n",
       "1            A. C. Tsoi  \n",
       "2         R. A. Pearson  \n",
       "3           Janet Wiles  \n",
       "4  Michael S. Humphreys  "
      ]
     },
     "execution_count": 37,
     "metadata": {},
     "output_type": "execute_result"
    }
   ],
   "source": [
    "df_ozzie.head()"
   ]
  },
  {
   "cell_type": "markdown",
   "metadata": {},
   "source": [
    "Here's 2 papers to check:<br>\n",
    "1) Direct memory access using two cues: Finding the intersection of sets in a connectionist model -- by University of Queensland <br>\n",
    "2) Comparison of three classification techniques,CART, C4.5 and Multi-Layer Perceptrons  -- by University of Queensland and Australian Defence Force Academy<br>"
   ]
  },
  {
   "cell_type": "code",
   "execution_count": 38,
   "metadata": {
    "collapsed": false
   },
   "outputs": [
    {
     "data": {
      "text/plain": [
       "'Comparison of three classification techniques,\\nCART, C4.5 and Multi-Layer Perceptrons\\n\\nA C Tsoi\\nR A Pearson\\nDepartment of Electrical EngineeringDepartment of Computer Science\\nUniversity of Queensland\\nAust Defence Force Academy\\nSt Lucia, Queensland 4072\\nCampbell, ACT 2600\\nAustralia\\nAustralia\\n\\nAbstract\\nIn this paper, after some introductory remarks into the classification problem as considered in various research communities, and some discussions\\nconcerning some of the reasons for ascertaining the performances of the\\nthree chosen algorithms, viz., CART (Classification and Regression Tree),\\nC4.5 (one of the more recent versions of a popular induction tree technique known as ID3), and a multi-layer perceptron (MLP), it is proposed\\nto compare the performances of these algorithms under two criteria: classification and generalisation. It is found that, in general, the MLP has better\\nclassification and generalisation accuracies compared with the other two\\nalgorithms.\\n\\n1\\n\\nIntroduction\\n\\nClassification of data into categories has been pursued by a number of research\\ncommunities, viz., applied statistics, knowledge acquisition, neural networks.\\nIn applied statistics, there are a number of techniques, e.g., clustering algorithms\\n(see e.g., Hartigan), CART (Classification and Regression Trees, see e.g., Breiman\\net al). Clustering algorithms are used when the underlying data naturally fall into a\\nnumber of groups, the distance among groups are measured by various metrics [Hartigan]. CART [Breiman, et all has been very popular among applied statisticians.\\nIt assumes that the underlying data can be separated into categories, the decision\\nboundaries can either be parallel to the axis or they can be a linear combination\\nof these axes!. Under certain assumptions on the input data and their associated\\nlIn CART, and C4.5, the axes are the same as the input features\\n\\n963\\n\\n\\x0c964\\n\\nTsoi and Pearson\\noutput categories, its properties can be proved rigorously [Breiman et al]. The way\\nin which CART organises its data set is quite sophisticated. For example, it grows\\na number of decision trees by a cross validation method.\\nKnowledge acquisition is an important topic in expert systems studies, see e.g.,\\nCharniak, McDermott. In this case, one is presented with a subset of input output\\nexamples drawn from the set of all possible input output examples exhibited by the\\nunderlying system. The problem is how to \"distill\" a set of rules describing the set\\nof input output examples. The rules are often expressed in the form of \"if statement\\n1, then statement 2, else statement 3\". Once this set of rules is obtained, it can\\nbe used in a knowledge base for inference or for consulting purposes. It is trivial\\nto observe that the rules can be represented in the form of a binary tree structure.\\nIn the process of building this binary tree, the knowledge acquisition system must\\nlearn about the set of input output examples. Often this problem is pursued in the\\nmachine learning community, see e.g., Michalski et al.\\nOne of the most popular induction tree algorithms is known as ID3, or its later\\nvariants, known as C4 (see e.g., Quinlan, Utgoff). There has not been any explicit\\nmention of the underlying assumptions on the data. However, it can be postulated\\nthat for an induction tree technqiue to work efficiently, there must be some underlying assumptions on the data set considered. By analogy with CART, it can be\\nobserved that an important underlying assumption must be that the data can be\\ndivided into categories, the decision boundaries must be parallel to the axes (i.e., it\\ndoes not find a linear combination of the underlying axes to form a possible decision\\nboundary). In contrast to CART, and similar technqiues, it does not yet have a\\nrigorous theoretical basis. Its learning algorithm, and the way in which it organises\\nthe data set are somewhat different from CART.\\nRecently, there is considerable activities in the study of yet another classification\\nmethod, known generally as an artificial neural network (ANN) approach (see e.g.,\\nHecht-Nielson). In this approach, the idea is to use a system consisting of artificial neurons with very simple internal dynamics, interconnected to each other for\\nmodelling a given set of input output examples. In this approach, one selects an\\narchitecture of interconnection of artificial neurons, and a learning algorithm for\\nfinding the unknown parameters in the architecture. A particular popular ANN architecture is known as a multi-layer perceptron (MLP). In this architecture, signal\\ntravels in only one direction, i.e., there is no feedback from the output to the input.\\nA simple version of this architecture, consisting of only input and output layers\\nof neurons was popularised by Rosenblatt in the 1950\\'s and 1960\\'s. An improved\\nversion incorporating possibly more than one layer of hidden layer neurons has been\\nused in the more recent past. A learning algorithm for finding the set of unknown\\nparameters in this architecture while minimising a least square criterion is known\\nas a back propagation algorithm. (see e.g., Rumelhart, McClelland).\\nThere have been much analysis recently in understanding why a MLP can be used\\nin classifying given input output examples, and what underlying assumptions are\\nrequired (see e.g., Cybenko, Hornik et al). It can be proved that the MLP can\\nbe used to approximate any given nonlinear input output mapping given certain\\nnot too restrictive assumptions on the mapping, and the underlying input output\\nvariables.\\n\\n\\x0cComparison of Three Classification Techniques\\nGiven that the three methods mentioned above, viz., CART, C4.5 (the latest version\\nof the C4 Induction Tree methodology), and MLP, all enjoy popularity in their\\nrespective research communities, and that they all perform classification based on\\na given set of input output examples, a natural question to ask is: how do they\\nperform as compared with one another.\\nThere might be some objections to why a comparison among these algorithms is\\nnecessary, since each is designed to operate under some predetermined conditions.\\nSecondly, even if it is shown that a particular algorithm performs better for a set of\\nparticular examples, there is no guarantee that the algorithm will perform better\\nunder a different set of circumstances. Thus, this may throw some doubt on the\\ndesirability of making a comparison among these algorithms.\\nAs indicated above, each algorithm has some underlying assumptions on the construction of a data model, whether these assumptions are made explicit or not. In\\na practical problem, e.g., power system forecasting [Atlas et al] it is not possible\\nto determine the underlying assumptions in the data. But on an artificially generated example, it is possible to constrain the data so that they would have the\\ndesirable characteristics. From this, it is possible to at least make some qualitative\\nstatements concerning the algorithms. These qualitative statements may guide a\\npractitioner to watch out for possible pitfalls in applying a particular algorithm to\\npractical problems. Hence, it is worthwhile to carry out comparison studies.\\nThe comparison question is not new. In fact there are already a number of studies carried out to compare the performances of some of or all three algorithms\\nmentioned 2 . For example, Atlas et al compared the performances of CART and\\nMLP. In addition they have considered the performances of these two algorithms to\\na practical problem, viz., the power system forecasting. Dietterich et al compared\\nthe performances of ID3 and MLP, and have applied them to the Text to Speech\\nmapping problem. In general, their conclusions are that the MLP is more accurate\\nin performing generalisation on unseen examples, while the ID3 or CART is much\\nfaster in performing the classficiation task.\\nIn this paper, we will consider the performances of all three algorithms, viz., CART,\\nC4.5 and MLP on two criteria:\\n? Classification capabilities\\n? Generalisation capabilities\\nIn order to ascertain how these algorithms will perform, we have chosen to study\\ntheir performances using a closed set of input output examples. In this aspect, we\\nhave chosen a version of the Penzias example, first considered by Denker et al. This\\nclass of problems has been shown to require at least one hidden layer in a MLP\\narchitecture, indicating that the relationship between the input and output is nonlinear. Secondly, the problem complexity depends on the number of input neurons\\n(in Cart and C4.5, input features). Hence it is possible to test the algorithms using\\na progressively complex set of examples.\\nWe have chosen to compare the algorithms under the two critieria because of the\\n2Both Atlas et. al, and DieUrich et al were brought to our attention during the conferenCe. Hence some of their conclusions were only communicat.ed to us at that time\\n\\n965\\n\\n\\x0c966\\n\\nTsoi and Pearson\\n\\nfact that some of them, at least, in the case of CART, were designed for classification purposes. It was not originally intended for generalisation purposes. By\\ngeneralisation, we mean that the trained system is used to predict the categories of\\nunseen examples when only the input variables are given. The predicted categories\\nare then compared with the true categories to ascertain how well the trained system\\nhas performed.\\nThe separate comparison is necessary because of the fact that classification and\\ngeneralisation are rather different. In classification studies, the main purpose is to\\ntrain a system to classify the given set of input output examples. The characteristics\\nare: good model of the data; good accuracy in classifying the given set of examples.\\nIn generalisation, the main goal is to provide a good accuracy of prediction of output\\ncategories on the set of unseen examples. It does not matter much if the results of\\napplying the trained data model to the training data set are less accurate.\\nAn important point to note is that all the algorithms have a number of parameters\\nor procedures which allow them to perform better. For example, it is possible to\\nvary the a priori assumption on the occurrence of different output categories in\\nCART, while to perform a similar task in C4.5 or MLP is rather more difficult. It\\nis possible to train the MLP by ever increasing iterations until the error is small,\\ngiven sufficient number of hidden layer neurons. On the other hand, in C4.5, or\\nCART, the number of iterations is not an externally adjustable parameter.\\nIn order to avoid pitfalls like these, as well as to avoid the criticism of favoring\\none algorithm over against another, the results presented here have not consciously\\ntuned to give the best performance. For example, even though from observations,\\nwe know that the distribution of different output categories is uneven, we have\\nnot made any adjustments to the a priori probabilities in running CART. We will\\nassume that the output categories occur with equal prior probabilities. We have\\nnot tuned the number of hidden layer neurons in the MLP, except we have taken a\\nparticular number which has been used by others. We have not tuned the learning\\nrate, nor the momentum rate in the MLP except just a nominal default value which\\nappears to work for other examples. We have not tuned the C4.5 nor CART apart\\nfrom using the default values. Hopefully by doing this, the comparison will appear\\nfairer.\\nThe structure of the paper is as follows: in section 2, we will describe the classification results, while in section 3 we will present generalisation results.\\n\\n2\\n\\nComparison of classification performances\\n\\nBefore we present the results of comparing the performances of the algorithms, we\\nwill give a brief description of the testing example used. This example is known as a\\nclump example in Denker et aI, while in Maxwell et al it is refered as the contiguity\\nexample (see [Webb, Lowe]).\\nThere are N input features, each feature can take only the values of 0 or 1. Thus\\nthere are altogether 2N examples. The output class of a particular input feature\\nvector is the number of clumps involving l\\'s in the input feature vector. Thus, for\\nexample, if the input feature vector is 00110100, then this is in class 2 as there are\\ntwo distinct clumps of 1\\'s in the input features. Hence it is possible to generate\\n\\n\\x0cComparison of Three Classification Techniques\\nthe closed set of all input output examples given a particular value of N. For\\nconvenience, we will call this an Nth order Penzias example. In our case considered\\nhere, we have used N = 8, i.e., there are 256 examples in the entire set. The input\\nfeatures are binary equivalent of their ordinal numbers. For example, example 10\\nis 00001010. This allows us to denote any sample within the set more conveniently.\\nThe distribution of the output classes are as follows :\\nclass\\n1\\n2\\n3\\n\\ntotal number\\n37\\n126\\n84\\n\\n4\\n\\n9\\n\\nFor classification purposes, we use all 256 examples as both the training and testing\\ndata sets. The following table summarises the classificiation results.\\nname\\ncart\\nc4.5\\nmlp1\\nmlp2\\n\\n#\\n\\nof errors\\n\\n96\\n105\\n117\\n47\\n\\naccur %\\n0.625\\n0.59\\n0.54\\n0.82\\n\\nwhere mlp1 and mlp2 are the values related to the MLP when it has run for 10000\\niterations and 100000 iterations respectively. We have run the MLP in the following fashion: we run it 10000 times and then in steps of 10000 iterations but\\nat the beginning of each 10000 iterations it is run with a different initial parameter estimate. In this way, we can ensure that the MLP will not fall into a local\\nminimum. Secondly, we can observe how the MLP accuracies will improve with\\nincreasing number of iterations. We found that in general, the MLP converges in\\nabout 20000 iterations. After that the number of iterations the results do not improve by a significant amount. In addition, becasue of the way in which we run the\\nexperiemnt the convergence would be closer to the average convergence rather than\\nthe convergence for a particular initial condition.\\nThe parameter values used in running the experiments are as follows: In the MLP,\\nboth the learning rate and the momentum are set at 0.1. The architeture used\\nis: 8 input neurons, 5 hidden layer neurons, and 4 output neurons. In CART, the\\nprior probability is set to be equi-probable. The pruning is performed when the\\nprobability of the leaf node is equal 0.5. In C4.5, all the default values are used.\\nWe have also examined the ways in which each algorithm predicts the output categories. We found that none of the algorithms ever predict an output category of\\n4. This is interesting in that the output category 4 occurs only 9 times out of a\\ntotal possible of 256. Thus each algorithm, even though it mayor may not be able\\nto adjust the prior probability of the output categories, has made an implicit assumption of equal prior probability. This leads to the non occurrence of prediction\\nof category 4 as it is the least frequent occurred one.\\nSecondly, all algorithms have a default prediction. For example, in CART, the\\ndefault is class 2, being the most frequently occurred output category in the training\\nexamples, while in the case of C4.5, the default is determined by the algorithm. On\\nthe other hand, in the cases of CART, or MLP, it is not clear how the default cases\\n\\n967\\n\\n\\x0c968\\n\\nTsoi and Pearson\\nare determined.\\nThirdly, the algorithms make mistaken predictions at different places. For example,\\nfor sample 1, C4.5 makes the wrong prediction of category 3 while MLP makes the\\nwrong prediction of 2, and CART makes the correct prediction. For sample 9, both\\nCART and C4.5 make a wrong prediction, while MLP makes the correct prediction.\\n\\n3\\n\\nComparison of generalisation performances\\n\\nWe have used the same set of input output examples generated by an 8th order\\nPenzias example. For testing the generalisation capabilties, We have used the first\\n200 examples as the training vector set, and the rest of the vectors in the testing\\ndata set.\\nThe results are summarised in the following table:\\ntraining\\nname # of errors\\ncart\\n84\\nc4.5\\n97\\nmlpl 100\\nmlp2 50\\n\\ntesting\\naccur % # of errors\\n0.58\\n34\\n51.5\\n25\\n50\\n28\\n75\\n25\\n\\naccur %\\n39.3\\n55.4\\n\\n50\\n55.4\\n\\nIt is noted that the generalisation accuracy of the MLP is better than CART, and\\n\\nis comparable to C4.5.\\nWe have also examined closely the mistakes made by the algorithms as well as the\\ndefault predictions. In this case, the comments made in section 2 also appear to be\\ntrue.\\n\\n4\\n\\nConcl usions\\n\\nIn this paper, we considered three classification algorithms, viz., CART, C4.5, and\\nMLP. We compared their performance both in terms of classification, and generalisation on one example, an 8th order generalised Penzias example. It is found that\\nthe MLP once it is converged, in general, has a better classification and generalisation accuracies compared with CART, or C4.5. On the other hand it is also noted\\nthat the prediction errors made by each algorithm are different. This indicates that\\nthere may be a possibility of combining these algorithms in such a way that their\\nprediction accuracies could be improved. This is presented as a challenge for future\\nresearch.\\n\\nReferences\\nJ. Hartigan. (1974) Clustering Algorithms. J. Wiley, New York.\\nL. Breiman, J .H. Friedman, R.A. Olshen, J. Stone. (1984) Classification and\\nRegression Trees. Wadsworth and Brooks, Monterey, Calif.\\nE. Charniak, D.\\n\\nMcDermott. (1985) Introduction to Artificial Intelligence. Ad-\\n\\n\\x0cComparison of Three Classification Techniques\\ndision Wesley, Reading, Mass.\\nR. Michalski, J.G. Carbonell, T. Mitchell. (1983) Machine Learning: An Artificial\\nIntelligence Approach. Tioga, Palo Alto, Calif.\\nJ .R. Quinlan. (1983) Learning efficient classification procedures and their application to Chess End Games. In R. Michalski et al (ed.), Machine Learning: An\\nArtificial Intelligence Approach. Tioga, Palo Alto, Calif.\\nJ. R. Quinlan. (1986) Induction of Decision Trees. Machine Learning, 1, 81-106.\\nP. Utgoff. Incremental Induction of Decision Trees. Machine Learning, 4, 161-186.\\nR. Hecht-Nielson. (1990) Neurocomputing Addison Wesley, New York.\\nF. Rosenblatt. (1962) Principles of Neurodynamics. Spartan Books, Washington,\\nDC.\\nD. Rumelhart, J. McClelland. (1987) Parallel Distributed Processing: Exploration\\nin the Microstructure of Cognition Volume 1. MIT Press: Bradford Books.\\nG. Cybenko. (1989) Approximation by superpositions of sigmoidal function. Mathematics of Control, Signal, and Systems, 2:4.\\nK. Hornik, M. Stinchcombe, H. White. (1989) Multi-layer feedforward networks\\nare universal approximators. Neural Networks, 2:5, 359-366.\\nL. Atlas, R. Cole, Y. Muthusamy, A. Lippman, J. Connor, D. Park, M. EISharkawi, R. Marks II. (1990). A Performance Comparison of Trained Multilayer\\nPerceptrons and Trained Classification Trees. Proc IEEE, 78:10, 1614-1619.\\n\\nT. Dietterich, H. Hild, G. Bakiri, (1990), \"A Comparison ofID3 and Backpropagation for English Text-to-Speech Mapping\", Preprint.\\nJ. Denker, et al. (1987) Large automatic learning, rule extraction, and generalisation. Complex Systems, 3 877-922.\\nT. Maxwell, L. Giles, Y.C. Lee. (1987) Generalisation in neural networks, the\\ncontiguity problem. Proc IEEE 1st Int Conf on Neural Networks, San Diego, Calif.\\nA.R. Webb, D. Lowe. (1990) The Optimised internal representation of multilayered\\nclassifier networks performs nonlinear discriminant analysis. Neural Networks 3:4,\\n367-376.\\n\\n969\\n\\n\\x0c'"
      ]
     },
     "execution_count": 38,
     "metadata": {},
     "output_type": "execute_result"
    }
   ],
   "source": [
    "df_ozzie[df_ozzie.title.str.contains('Comparison of three classification')].iloc[1,3]"
   ]
  },
  {
   "cell_type": "markdown",
   "metadata": {},
   "source": [
    "Thats a bust because I cant see any way in which I can readily extract university or affiliation information from the text. I've also been checking online if there is an association register for NIPS. Lets see what comes up."
   ]
  },
  {
   "cell_type": "code",
   "execution_count": 39,
   "metadata": {
    "collapsed": false
   },
   "outputs": [
    {
     "data": {
      "text/plain": [
       "year  name              \n",
       "2016  Aaron Defazio         1\n",
       "      Aditya Menon          1\n",
       "      Cheng Soon Ong        1\n",
       "      Chunhua Shen          1\n",
       "      Dinh Phung            1\n",
       "      Fabio T. Ramos        1\n",
       "      Fang Chen             1\n",
       "      Finnian Lattimore     1\n",
       "      Haifeng Xia           1\n",
       "      Heng Huang            1\n",
       "      Hong Chen             1\n",
       "      Jose M. Alvarez       1\n",
       "      Lionel Ott            1\n",
       "      Mark D. Reid          1\n",
       "      Mathieu Salzmann      1\n",
       "      Peng Lin              2\n",
       "      Qihang Lin            1\n",
       "      Ransalu Senanayake    1\n",
       "      Richard Nock          2\n",
       "      Simon O'Callaghan     1\n",
       "      Tianbao Yang          1\n",
       "      Ting Guo              1\n",
       "      Tor Lattimore         1\n",
       "      Trung Le              1\n",
       "      Tu Nguyen             1\n",
       "      Vu Nguyen             1\n",
       "      Weidong Cai           1\n",
       "      Xiaojiao Mao          1\n",
       "      Yan Yan               1\n",
       "      Yang Wang             2\n",
       "      Yi Xu                 1\n",
       "      Yu-Bin Yang           1\n",
       "      matt zhang            1\n",
       "Name: title, dtype: int64"
      ]
     },
     "execution_count": 39,
     "metadata": {},
     "output_type": "execute_result"
    }
   ],
   "source": [
    "df_ozzie[df_ozzie.year == 2016].groupby(by=['year','name']).count()['title']"
   ]
  },
  {
   "cell_type": "markdown",
   "metadata": {},
   "source": [
    "I think the best thing I can do is to manually pick Australian universities and ML groups, and check whether the researcher is from any of the known associations. If not, raise a flag and manually check the guy."
   ]
  },
  {
   "cell_type": "code",
   "execution_count": null,
   "metadata": {
    "collapsed": true
   },
   "outputs": [],
   "source": []
  },
  {
   "cell_type": "code",
   "execution_count": null,
   "metadata": {
    "collapsed": true
   },
   "outputs": [],
   "source": []
  },
  {
   "cell_type": "markdown",
   "metadata": {},
   "source": [
    "## Close the connection"
   ]
  },
  {
   "cell_type": "code",
   "execution_count": null,
   "metadata": {
    "collapsed": true
   },
   "outputs": [],
   "source": [
    "cnx.close()"
   ]
  },
  {
   "cell_type": "markdown",
   "metadata": {},
   "source": [
    "FIN."
   ]
  }
 ],
 "metadata": {
  "kernelspec": {
   "display_name": "Python3.5_nips_papers_analysis",
   "language": "python",
   "name": "nips_papers_analysis"
  },
  "language_info": {
   "codemirror_mode": {
    "name": "ipython",
    "version": 3
   },
   "file_extension": ".py",
   "mimetype": "text/x-python",
   "name": "python",
   "nbconvert_exporter": "python",
   "pygments_lexer": "ipython3",
   "version": "3.5.2"
  }
 },
 "nbformat": 4,
 "nbformat_minor": 2
}
