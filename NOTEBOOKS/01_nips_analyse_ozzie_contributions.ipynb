{
 "cells": [
  {
   "cell_type": "markdown",
   "metadata": {},
   "source": [
    "**Neural Information Processing Systems (NIPS)** is a multi-track machine learning and computational neuroscience conference that includes invited talks, demonstrations, symposia and oral and poster presentations of refereed papers. \n",
    "\n",
    "I've been longing to start my research in AI - specifically in the cusp of machine learning and computational/ systems neuroscience, which is exactly the field that NIPS plays in. Availability of this dataset is a blessing, because I can now better understand \n",
    "- who are the players contributing to cutting-edge research in this area within the Australian research community,\n",
    "- which unis are doing more than the others, \n",
    "- who are the up-and-comers versus the long-timers, \n",
    "- which pairs of researchers are the biggest collaborators,\n",
    "- which areas are they playing in, and how has it been changing over the years\n",
    "- which benchmark datasets have they been using mostly\n",
    "\n",
    "\n",
    "Am fully cognisant of the fact that this view is pretty myopic. For starters, there are other conferences such as ICML etc, other journal publications which may not get featured or accepted into NIPS, or perhaps may involve private research that may not be amenable to publishing. However, this analysis can certainly be used directionally, I think haha. \n",
    "\n",
    "I've downloaded the data from the Kaggle NIPS dataset uploaded by Ben Hamner here (https://github.com/benhamner/nips-papers).  "
   ]
  },
  {
   "cell_type": "markdown",
   "metadata": {},
   "source": [
    "## Admin stuff"
   ]
  },
  {
   "cell_type": "code",
   "execution_count": 1,
   "metadata": {
    "collapsed": false
   },
   "outputs": [
    {
     "name": "stderr",
     "output_type": "stream",
     "text": [
      "C:\\Users\\M042266\\.conda\\envs\\nips_papers_analysis\\lib\\site-packages\\IPython\\html.py:14: ShimWarning: The `IPython.html` package has been deprecated. You should import from `notebook` instead. `IPython.html.widgets` has moved to `ipywidgets`.\n",
      "  \"`IPython.html.widgets` has moved to `ipywidgets`.\", ShimWarning)\n"
     ]
    }
   ],
   "source": [
    "import sqlite3\n",
    "import os\n",
    "import sys\n",
    "import matplotlib.pyplot as plt\n",
    "%matplotlib inline\n",
    "import seaborn as sns\n",
    "sns.set()\n",
    "sns.set(style=\"darkgrid\")\n",
    "import pandas as pd\n",
    "import numpy as np\n",
    "\n",
    "from datetime import datetime\n",
    "\n",
    "# Load the \"autoreload\" extension\n",
    "%load_ext autoreload\n",
    "\n",
    "# always reload modules marked with \"%aimport\"\n",
    "%reload_ext autoreload"
   ]
  },
  {
   "cell_type": "code",
   "execution_count": 2,
   "metadata": {
    "collapsed": false
   },
   "outputs": [],
   "source": [
    "# python-dotenv to load up all the entries in this file as environment variables so they are accessible with os.environ.get.\n",
    "from dotenv import load_dotenv, find_dotenv\n",
    "\n",
    "# find .env automagically by walking up directories until it's found\n",
    "dotenv_path = find_dotenv()\n",
    "\n",
    "# find root directory path\n",
    "project_root_path = os.path.dirname(find_dotenv())"
   ]
  },
  {
   "cell_type": "code",
   "execution_count": 3,
   "metadata": {
    "collapsed": true
   },
   "outputs": [],
   "source": [
    "# creating a path for DATA directory\n",
    "data_dir = os.path.join(project_root_path, 'DATA')"
   ]
  },
  {
   "cell_type": "markdown",
   "metadata": {},
   "source": [
    "## Create input dataframe for specific country"
   ]
  },
  {
   "cell_type": "markdown",
   "metadata": {},
   "source": [
    "The function below was created by doing some exploratory analysis in 00_\\*.ipynb"
   ]
  },
  {
   "cell_type": "code",
   "execution_count": 4,
   "metadata": {
    "collapsed": true
   },
   "outputs": [],
   "source": [
    "# function for filtering and transforming country specific papers and authors\n",
    "def nips_filter_country_specific(country_name):\n",
    "    '''\n",
    "    PURPOSE\n",
    "    *******\n",
    "    BLAH\n",
    "    \n",
    "    ARGUMENTS\n",
    "    *********\n",
    "    country_name: please enter specific string denoting the name of the country you want to filter your dataset\n",
    "                  ex: 'Australia'\n",
    "    \n",
    "    REQUIRES\n",
    "    ********\n",
    "    DATA TO BE DOWNLOADED AND STORED INTO AN SQLITE DATABASE USING BEN HAMNER'S SCRIPT. CHECK SCRIPTS FOLDER\n",
    "    pip install python-dotenv\n",
    "    import os\n",
    "    import pandas as pd\n",
    "    from pandas import ExcelWriter\n",
    "    \n",
    "    RETURNS\n",
    "    *******\n",
    "    1) blah\n",
    "    \n",
    "    TO DO\n",
    "    *****\n",
    "    need to do error checking\n",
    "    '''\n",
    "    \n",
    "    # create a database connection\n",
    "    database_path = os.path.join(data_dir, 'database.sqlite')\n",
    "    cnx = sqlite3.connect(database_path)\n",
    "    \n",
    "    # download the raw datasets for author, paper, relationship key\n",
    "    df_papers = pd.read_sql(\"Select * from papers;\", cnx)\n",
    "    df_authors = pd.read_sql(\"Select * from authors;\", cnx)\n",
    "    df_key = pd.read_sql(\"Select * from paper_authors;\", cnx)\n",
    "    \n",
    "    # create a feature for paper length\n",
    "    df_papers['paper_length'] = df_papers['paper_text'].str.split().apply(len)\n",
    "    \n",
    "    # get the first 500 words of the paper text and store it in a new variable \"paper_text_500_words\"\n",
    "    df_papers['paper_text_500_words'] = df_papers['paper_text'].apply(lambda x: ' '.join(x.split()[:500]))\n",
    "    \n",
    "    # mark the number of papers likely to be published by authors from the country specified by the user\n",
    "    df_papers['country_paper'] = np.where(df_papers['paper_text_500_words'].str.contains(country_name),country_name,0)\n",
    "    \n",
    "    # bring in authors by merging papers with authors using the key table\n",
    "    df_country = pd.merge(left=df_papers[df_papers.country_paper == country_name], right=df_key, left_on='id', right_on='paper_id',suffixes=('_papers', '_key'))\n",
    "    df_country = pd.merge(left = df_country, right = df_authors, how='left',left_on='author_id', right_on='id',suffixes=('_country', '_author'))\n",
    "\n",
    "    df_country.drop(['id_papers','event_type','abstract','id_key','paper_id','author_id','id'], axis = 1, inplace = True)\n",
    "\n",
    "    # close the connection\n",
    "    cnx.close()\n",
    "    \n",
    "    return df_papers, df_authors, df_country"
   ]
  },
  {
   "cell_type": "code",
   "execution_count": 5,
   "metadata": {
    "collapsed": false
   },
   "outputs": [],
   "source": [
    "df_papers, df_authors, df_ozzie = nips_filter_country_specific('Australia')"
   ]
  },
  {
   "cell_type": "markdown",
   "metadata": {},
   "source": [
    "## Some exploratory analysis"
   ]
  },
  {
   "cell_type": "code",
   "execution_count": 6,
   "metadata": {
    "collapsed": true
   },
   "outputs": [],
   "source": [
    "country_name = 'Australia'"
   ]
  },
  {
   "cell_type": "markdown",
   "metadata": {},
   "source": [
    "## Some general exploration on the dataset"
   ]
  },
  {
   "cell_type": "markdown",
   "metadata": {},
   "source": [
    "#### How has NIPS popularity been growing both within the country of interest and outside?"
   ]
  },
  {
   "cell_type": "code",
   "execution_count": 7,
   "metadata": {
    "collapsed": false
   },
   "outputs": [
    {
     "data": {
      "text/plain": [
       "(None, None)"
      ]
     },
     "execution_count": 7,
     "metadata": {},
     "output_type": "execute_result"
    },
    {
     "data": {
      "image/png": "[encoded data removed]",
      "text/plain": [
       "<matplotlib.figure.Figure at 0x1500fa90>"
      ]
     },
     "metadata": {},
     "output_type": "display_data"
    }
   ],
   "source": [
    "# set common parameters\n",
    "fig = plt.figure(figsize=(12,5));   \n",
    "sns.set_color_codes(\"muted\")\n",
    "\n",
    "# start painting!\n",
    "ax0 = fig.add_subplot(1,2,1);\n",
    "ax1 = fig.add_subplot(1,2,2);\n",
    "\n",
    "df_papers.loc[df_papers.country_paper != country_name,['title','year']].groupby(by='year').count().plot(kind=\"line\", ax = ax0)\n",
    "df_papers.loc[df_papers.country_paper == country_name,['title','year']].groupby(by='year').count().plot(kind=\"line\", ax = ax1, color = sns.xkcd_rgb[\"medium green\"])\n",
    "\n",
    "ax0.set_title(\"# of submissions by authors NOT from \"+country_name,fontsize=10,color=\"maroon\")\n",
    "ax1.set_title(\"# of submissions by authors from \"+country_name+\" over the years\",fontsize=10,color=\"maroon\")\n",
    "ax0.legend_.remove(), ax1.legend_.remove()"
   ]
  },
  {
   "cell_type": "markdown",
   "metadata": {},
   "source": [
    "I thought it'd be better to put these 2 side by side, rather than as 2 lines in the same plot because the axes would be all messed up and we wouldnt get a true picture of the trends."
   ]
  },
  {
   "cell_type": "markdown",
   "metadata": {},
   "source": [
    "#### whats the deal with the event type?"
   ]
  },
  {
   "cell_type": "markdown",
   "metadata": {},
   "source": [
    "I found a link on reddit here (https://www.reddit.com/r/MachineLearning/comments/3thfgz/nips/cx67pjt/) that tells us more about NIPS event types:<br>\n",
    "Tutorials are multi-track, you generally pick one per time slot. These are, at their best, opinionated introductions to a particular area of inquiry; at their worst, a particular speaker's research highlights reel.<br>\n",
    "The conference oral presentations are single track, there are no oral presentations scheduled at the same time as one another. There are \"spotlight\" sessions which are several 5 minute presentations back to back in roughly the same length of slot that one oral presentation would get. The poster sessions are one big, loud, overcrowded science fair type thing held in the evenings of the main conference.<br>\n",
    "The workshops are more niche meetings that are scheduled separately and in parallel. Many people come just for the workshops, or rather for a particular workshop related to their area of interest; this applies to a lot of neuroscience folks who have long since abandoned the main conference (ironically given the first word of the name)."
   ]
  },
  {
   "cell_type": "code",
   "execution_count": 9,
   "metadata": {
    "collapsed": false
   },
   "outputs": [
    {
     "data": {
      "text/plain": [
       "             125\n",
       "Poster        23\n",
       "Spotlight      5\n",
       "Oral           1\n",
       "Name: event_type, dtype: int64"
      ]
     },
     "execution_count": 9,
     "metadata": {},
     "output_type": "execute_result"
    }
   ],
   "source": [
    "df_papers[df_papers.country_paper == country_name].event_type.value_counts()"
   ]
  },
  {
   "cell_type": "markdown",
   "metadata": {},
   "source": [
    "Most of them are unclassified. So I wouldnt read too much into this just yet."
   ]
  },
  {
   "cell_type": "markdown",
   "metadata": {},
   "source": [
    "#### how big are the papers?"
   ]
  },
  {
   "cell_type": "code",
   "execution_count": 12,
   "metadata": {
    "collapsed": false
   },
   "outputs": [
    {
     "data": {
      "text/plain": [
       "[]"
      ]
     },
     "execution_count": 12,
     "metadata": {},
     "output_type": "execute_result"
    },
    {
     "data": {
      "image/png": "[encoded data removed]",
      "text/plain": [
       "<matplotlib.figure.Figure at 0x15336240>"
      ]
     },
     "metadata": {},
     "output_type": "display_data"
    }
   ],
   "source": [
    "fig, ax = plt.subplots()\n",
    "sns.kdeplot(df_papers.loc[df_papers.country_paper != country_name,'paper_length'], shade=True, ax = ax, clip=(0,10000))\n",
    "sns.kdeplot(df_papers.loc[df_papers.country_paper == country_name,'paper_length'], shade=True, ax = ax)\n",
    "ax.legend(labels=['papers NOT from '+country_name,'papers from '+country_name,], loc = 'best')\n",
    "ax.yaxis.set_ticklabels([])"
   ]
  },
  {
   "cell_type": "markdown",
   "metadata": {
    "collapsed": true
   },
   "source": [
    "Looks like Ozzie papers are comparable to papers from around the world, being only slightly smaller."
   ]
  },
  {
   "cell_type": "markdown",
   "metadata": {},
   "source": [
    "## Have a look at the aussie authors"
   ]
  },
  {
   "cell_type": "code",
   "execution_count": 15,
   "metadata": {
    "collapsed": false
   },
   "outputs": [
    {
     "data": {
      "text/plain": [
       "Alex J. Smola           28\n",
       "Robert C. Williamson    15\n",
       "Peter L. Bartlett       12\n",
       "Tib?rio S. Caetano       8\n",
       "S.v.n. Vishwanathan      8\n",
       "Name: name, dtype: int64"
      ]
     },
     "execution_count": 15,
     "metadata": {},
     "output_type": "execute_result"
    }
   ],
   "source": [
    "df_ozzie['name'].value_counts().head()"
   ]
  },
  {
   "cell_type": "markdown",
   "metadata": {},
   "source": [
    "Alex J. Smola (ex ANU and NICTA currently CMU), Robert C. Williamson(ANU, NICTA and Data61), and Peter L. Bartlett(ex ANU no Berkeley) have been killing it in the publications biz. Let's see who's been publishing more recently."
   ]
  },
  {
   "cell_type": "code",
   "execution_count": 34,
   "metadata": {
    "collapsed": false
   },
   "outputs": [
    {
     "data": {
      "text/plain": [
       "122"
      ]
     },
     "execution_count": 34,
     "metadata": {},
     "output_type": "execute_result"
    }
   ],
   "source": [
    "# number of research contributors to NIPS since 2010\n",
    "df_ozzie.loc[df_ozzie.year > 2010,'name'].count()"
   ]
  },
  {
   "cell_type": "code",
   "execution_count": 17,
   "metadata": {
    "collapsed": false
   },
   "outputs": [
    {
     "data": {
      "text/plain": [
       "Justin Domke          5\n",
       "Mark D. Reid          4\n",
       "Xinhua Zhang          4\n",
       "Tib?rio S. Caetano    3\n",
       "Aaron Defazio         3\n",
       "Name: name, dtype: int64"
      ]
     },
     "execution_count": 17,
     "metadata": {},
     "output_type": "execute_result"
    }
   ],
   "source": [
    "df_ozzie.loc[df_ozzie.year > 2010,'name'].value_counts().head()"
   ]
  },
  {
   "cell_type": "markdown",
   "metadata": {},
   "source": [
    "The story changes here. Justin Domke, Mark D. Reid, et al from ANU have been publishing industriously. Hang on, isnt Tiberio Caetano the founder of Ambiata? It'd be good to get a sense of every author's uni associations."
   ]
  },
  {
   "cell_type": "code",
   "execution_count": 18,
   "metadata": {
    "collapsed": false
   },
   "outputs": [],
   "source": [
    "# display a larger string\n",
    "pd.options.display.max_colwidth = 100"
   ]
  },
  {
   "cell_type": "markdown",
   "metadata": {},
   "source": [
    "Here's 2 papers to check:<br>\n",
    "1) Direct memory access using two cues: Finding the intersection of sets in a connectionist model -- by University of Queensland <br>\n",
    "2) Comparison of three classification techniques,CART, C4.5 and Multi-Layer Perceptrons  -- by University of Queensland and Australian Defence Force Academy<br>"
   ]
  },
  {
   "cell_type": "code",
   "execution_count": 19,
   "metadata": {
    "collapsed": false
   },
   "outputs": [],
   "source": [
    "#df_ozzie[df_ozzie.title.str.contains('Comparison of three classification')].iloc[1,3]"
   ]
  },
  {
   "cell_type": "markdown",
   "metadata": {},
   "source": [
    "Thats a bust because I cant see any way in which I can readily extract university or affiliation information from the text. I've also been checking online if there is an association register for NIPS. Lets see what comes up."
   ]
  },
  {
   "cell_type": "markdown",
   "metadata": {},
   "source": [
    "#### who are the players contributing to cutting-edge research in this area within the Australian research community"
   ]
  },
  {
   "cell_type": "raw",
   "metadata": {
    "collapsed": false
   },
   "source": [
    "df_ozzie[df_ozzie.year > 2010].groupby(by=['name','year']).count()['title'].sort_values(ascending = False)"
   ]
  },
  {
   "cell_type": "markdown",
   "metadata": {},
   "source": [
    "There's roughly 122 people in AI in Australia. In order to find out who to work with, I could literally send each of them emails. But learning about 100+ people, reading about their work and reaching out to them is crazy. I might as well do my PhD on my own! Need to be smarter about it."
   ]
  },
  {
   "cell_type": "markdown",
   "metadata": {},
   "source": [
    "I think the best thing I can do is to manually pick Australian universities and ML groups, and check whether the researcher is from any of the known associations. If not, raise a flag and manually check the guy."
   ]
  },
  {
   "cell_type": "markdown",
   "metadata": {},
   "source": [
    "Data61,<br>\n",
    "Australian National University,<br>\n",
    "University of Sydney,<br>\n",
    "University of Adelaide,<br>\n",
    "Deakin University,<br>\n",
    "University of New South Wales,<br>\n",
    "NICTA,<br>\n",
    "University of Technology Sydney,<br>\n",
    "Curtin University of Technology,<br>"
   ]
  },
  {
   "cell_type": "markdown",
   "metadata": {
    "collapsed": true
   },
   "source": [
    "This has by far been the most painful part of the process. I wish we had an avenue to looking up university, research group association of a presenter / publisher."
   ]
  },
  {
   "cell_type": "code",
   "execution_count": null,
   "metadata": {
    "collapsed": true
   },
   "outputs": [],
   "source": [
    "# create a list of unis that you want to build a one-hot encoder for. When you refactor this, it can be a user input\n",
    "list_of_unis = ['Data61','Australian National University','University of Sydney','University of Adelaide',\n",
    "                'Deakin University','University of New South Wales','NICTA','University of Technology Sydney',\n",
    "                'University of Queensland','Curtin University of Technology','National ICT Australia',\n",
    "                'Sydney University','UNSW','University of Melbourne','Univ. of Sydney','University of Newcastle','CSIRO']"
   ]
  },
  {
   "cell_type": "code",
   "execution_count": null,
   "metadata": {
    "collapsed": true
   },
   "outputs": [],
   "source": [
    "# build a new dataframe df_ozzie_papers because we now want to investigate without authors - just the affiliations\n",
    "df_ozzie_papers = df_papers[df_papers.ozzie == 1]"
   ]
  },
  {
   "cell_type": "code",
   "execution_count": null,
   "metadata": {
    "collapsed": false
   },
   "outputs": [],
   "source": [
    "# start building one-hot encoders for each known aussie university.\n",
    "df_ozzie_papers['affiliation'] = ''\n",
    "for uni in list_of_unis:\n",
    "    df_ozzie_papers[uni] = df_ozzie_papers.paper_text_500_words.str.contains(uni)\n",
    "    df_ozzie_papers['affiliation'] = np.where(df_ozzie_papers.paper_text_500_words.str.contains(uni),uni,df_ozzie_papers['affiliation'])"
   ]
  },
  {
   "cell_type": "markdown",
   "metadata": {},
   "source": [
    "Have I missed any papers?"
   ]
  },
  {
   "cell_type": "code",
   "execution_count": null,
   "metadata": {
    "collapsed": false
   },
   "outputs": [],
   "source": [
    "df_ozzie_papers[df_ozzie_papers.loc[:,'Data61':].sum(axis=1)<1]['title']"
   ]
  },
  {
   "cell_type": "markdown",
   "metadata": {},
   "source": [
    "Yep there are a few stragglers, but it seems like i've gotten most of them. Take care to aggregate some of the names here - example, Univ. of Sydney and University of Sydney."
   ]
  },
  {
   "cell_type": "code",
   "execution_count": null,
   "metadata": {
    "collapsed": false
   },
   "outputs": [],
   "source": [
    "# data cleansing de-duplication (sum up the duplicates and remove the repeats)\n",
    "# note: doing logical ORs. cool huh.\n",
    "df_ozzie_papers['University of Sydney']|= df_ozzie_papers['Sydney University'] | df_ozzie_papers['Univ. of Sydney']\n",
    "df_ozzie_papers['University of New South Wales']|= df_ozzie_papers['UNSW']\n",
    "df_ozzie_papers['NICTA']|= df_ozzie_papers['National ICT Australia']\n",
    "df_ozzie_papers.drop(['Sydney University','Univ. of Sydney','UNSW','National ICT Australia'],axis=1,inplace = True)"
   ]
  },
  {
   "cell_type": "markdown",
   "metadata": {},
   "source": [
    "### Take a look at uni contributions over time "
   ]
  },
  {
   "cell_type": "code",
   "execution_count": null,
   "metadata": {
    "collapsed": false
   },
   "outputs": [],
   "source": [
    "# start painting!\n",
    "g = sns.factorplot(x=\"year\", y= 'title', hue=\"affiliation\", data=df_ozzie_timeseries, kind='point', size=4, aspect=2)\n",
    "paper_rc = {'lines.linewidth': 1, 'lines.markersize': 10}                  \n",
    "sns.set_context(\"paper\", rc = paper_rc)  \n",
    "g.set_xticklabels(rotation=45)"
   ]
  },
  {
   "cell_type": "markdown",
   "metadata": {
    "collapsed": true
   },
   "source": [
    "Not very informative haha!"
   ]
  },
  {
   "cell_type": "code",
   "execution_count": null,
   "metadata": {
    "collapsed": false
   },
   "outputs": [],
   "source": [
    "cols = list(df_ozzie_papers.loc[:,'Data61':]) + ['year']\n",
    "df_ozzie_papers[cols].groupby(by='year').sum()[['Australian National University','University of New South Wales', 'University of Sydney', 'NICTA', 'Data61']].plot()"
   ]
  },
  {
   "cell_type": "markdown",
   "metadata": {},
   "source": [
    "It's not pretty, but NICTA is THE research group to be in Australia, if you're serious about AI and neural nets. ANU has a far stronger output than Usyd and UNSW, but Usyd seems to be doing marginally better than UNSW. Could that be because UNSW researchers might be associated to NICTA? If so, why has this association not impacted ANU badly? "
   ]
  },
  {
   "cell_type": "code",
   "execution_count": null,
   "metadata": {
    "collapsed": true
   },
   "outputs": [],
   "source": []
  },
  {
   "cell_type": "markdown",
   "metadata": {},
   "source": [
    "## Close the connection"
   ]
  },
  {
   "cell_type": "code",
   "execution_count": null,
   "metadata": {
    "collapsed": true
   },
   "outputs": [],
   "source": [
    "cnx.close()"
   ]
  },
  {
   "cell_type": "markdown",
   "metadata": {},
   "source": [
    "FIN."
   ]
  }
 ],
 "metadata": {
  "kernelspec": {
   "display_name": "Python3.5_nips_papers_analysis",
   "language": "python",
   "name": "nips_papers_analysis"
  },
  "language_info": {
   "codemirror_mode": {
    "name": "ipython",
    "version": 3
   },
   "file_extension": ".py",
   "mimetype": "text/x-python",
   "name": "python",
   "nbconvert_exporter": "python",
   "pygments_lexer": "ipython3",
   "version": "3.5.2"
  }
 },
 "nbformat": 4,
 "nbformat_minor": 2
}
