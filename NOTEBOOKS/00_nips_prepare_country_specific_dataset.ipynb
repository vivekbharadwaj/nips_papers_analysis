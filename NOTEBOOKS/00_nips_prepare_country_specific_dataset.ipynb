{
 "cells": [
  {
   "cell_type": "markdown",
   "metadata": {},
   "source": [
    "**Neural Information Processing Systems (NIPS)** is a multi-track machine learning and computational neuroscience conference that includes invited talks, demonstrations, symposia and oral and poster presentations of refereed papers. \n",
    "\n",
    "I've been longing to start my research in AI - specifically in the cusp of machine learning and computational/ systems neuroscience, which is exactly the field that NIPS plays in. Availability of this dataset is a blessing, because I can now better understand \n",
    "- who are the players contributing to cutting-edge research in this area within the Australian research community,\n",
    "- which unis are doing more than the others, \n",
    "- who are the up-and-comers versus the long-timers, \n",
    "- which pairs of researchers are the biggest collaborators,\n",
    "- which areas are they playing in, and how has it been changing over the years\n",
    "- which benchmark datasets have they been using mostly\n",
    "\n",
    "\n",
    "Am fully cognisant of the fact that this view is pretty myopic. For starters, there are other conferences such as ICML etc, other journal publications which may not get featured or accepted into NIPS, or perhaps may involve private research that may not be amenable to publishing. However, this analysis can certainly be used directionally, I think haha. \n",
    "\n",
    "I've downloaded the data from the Kaggle NIPS dataset uploaded by Ben Hamner here (https://github.com/benhamner/nips-papers).  "
   ]
  },
  {
   "cell_type": "markdown",
   "metadata": {},
   "source": [
    "## Admin stuff"
   ]
  },
  {
   "cell_type": "code",
   "execution_count": 1,
   "metadata": {
    "collapsed": false
   },
   "outputs": [
    {
     "name": "stderr",
     "output_type": "stream",
     "text": [
      "C:\\Users\\M042266\\.conda\\envs\\nips_papers_analysis\\lib\\site-packages\\IPython\\html.py:14: ShimWarning: The `IPython.html` package has been deprecated. You should import from `notebook` instead. `IPython.html.widgets` has moved to `ipywidgets`.\n",
      "  \"`IPython.html.widgets` has moved to `ipywidgets`.\", ShimWarning)\n"
     ]
    }
   ],
   "source": [
    "import sqlite3\n",
    "import os\n",
    "import sys\n",
    "import matplotlib.pyplot as plt\n",
    "%matplotlib inline\n",
    "import seaborn as sns\n",
    "sns.set()\n",
    "sns.set(style=\"darkgrid\")\n",
    "import pandas as pd\n",
    "import numpy as np\n",
    "\n",
    "from datetime import datetime\n",
    "\n",
    "# Load the \"autoreload\" extension\n",
    "%load_ext autoreload\n",
    "\n",
    "# always reload modules marked with \"%aimport\"\n",
    "%reload_ext autoreload"
   ]
  },
  {
   "cell_type": "code",
   "execution_count": 2,
   "metadata": {
    "collapsed": false
   },
   "outputs": [],
   "source": [
    "# python-dotenv to load up all the entries in this file as environment variables so they are accessible with os.environ.get.\n",
    "from dotenv import load_dotenv, find_dotenv\n",
    "\n",
    "# find .env automagically by walking up directories until it's found\n",
    "dotenv_path = find_dotenv()\n",
    "\n",
    "# find root directory path\n",
    "project_root_path = os.path.dirname(find_dotenv())"
   ]
  },
  {
   "cell_type": "code",
   "execution_count": 3,
   "metadata": {
    "collapsed": true
   },
   "outputs": [],
   "source": [
    "# creating a path for DATA directory\n",
    "data_dir = os.path.join(project_root_path, 'DATA')"
   ]
  },
  {
   "cell_type": "markdown",
   "metadata": {},
   "source": [
    "## Function to munge and filter country specific papers and authors"
   ]
  },
  {
   "cell_type": "code",
   "execution_count": 1,
   "metadata": {
    "collapsed": true
   },
   "outputs": [],
   "source": [
    "# function for filtering and transforming country specific papers and authors\n",
    "def nips_filter_country_specific(country_name):\n",
    "    '''\n",
    "    PURPOSE\n",
    "    *******\n",
    "    BLAH\n",
    "    \n",
    "    ARGUMENTS\n",
    "    *********\n",
    "    country_name: please enter specific string denoting the name of the country you want to filter your dataset\n",
    "                  ex: 'Australia'\n",
    "    \n",
    "    REQUIRES\n",
    "    ********\n",
    "    DATA TO BE DOWNLOADED AND STORED INTO AN SQLITE DATABASE USING BEN HAMNER'S SCRIPT. CHECK SCRIPTS FOLDER\n",
    "    pip install python-dotenv\n",
    "    import os\n",
    "    import pandas as pd\n",
    "    from pandas import ExcelWriter\n",
    "    \n",
    "    RETURNS\n",
    "    *******\n",
    "    1) blah\n",
    "    \n",
    "    TO DO\n",
    "    *****\n",
    "    need to do error checking\n",
    "    '''\n",
    "    \n",
    "    # create a database connection\n",
    "    database_path = os.path.join(data_dir, 'database.sqlite')\n",
    "    cnx = sqlite3.connect(database_path)\n",
    "    \n",
    "    # download the raw datasets for author, paper, relationship key\n",
    "    df_papers = pd.read_sql(\"Select * from papers;\", cnx)\n",
    "    df_authors = pd.read_sql(\"Select * from authors;\", cnx)\n",
    "    df_key = pd.read_sql(\"Select * from paper_authors;\", cnx)\n",
    "    \n",
    "    # create a feature for paper length\n",
    "    df_papers['paper_length'] = df_papers['paper_text'].str.split().apply(len)\n",
    "    \n",
    "    # get the first 500 words of the paper text and store it in a new variable \"paper_text_500_words\"\n",
    "    df_papers['paper_text_500_words'] = df_papers['paper_text'].apply(lambda x: ' '.join(x.split()[:500]))\n",
    "    \n",
    "    # mark the number of papers likely to be published by authors from the country specified by the user\n",
    "    df_papers['country_paper'] = np.where(df_papers['paper_text_500_words'].str.contains(country_name),1,0)\n",
    "    \n",
    "    # bring in authors by merging papers with authors using the key table\n",
    "    df_country = pd.merge(left=df_papers[df_papers.country_paper == 1], right=df_key, left_on='id', right_on='paper_id',suffixes=('_papers', '_key'))\n",
    "    df_country = pd.merge(left = df_country, right = df_authors, how='left',left_on='author_id', right_on='id',suffixes=('_country', '_author'))\n",
    "\n",
    "    df_country.drop(['id_papers','event_type','abstract','country_paper','id_key','paper_id','author_id','id'], axis = 1, inplace = True)\n",
    "\n",
    "    # close the connection\n",
    "    cnx.close()\n",
    "    \n",
    "    return df_papers, df_authors, df_country"
   ]
  },
  {
   "cell_type": "markdown",
   "metadata": {},
   "source": [
    "## Connect to database"
   ]
  },
  {
   "cell_type": "markdown",
   "metadata": {},
   "source": [
    "The github link above has a script for extracting nips papers data from the www. Thats like teaching us how to fish. This time however, I just want to eat the fish. Ben has also extracted the data in csv and sqlite db format here (https://www.kaggle.com/benhamner/nips-2015-papers). \n",
    "\n",
    "I tried playing around with the csvs and they were a bit sluggish due to size. So I'm going to be using the sqlite db that I've downloaded into my data directory."
   ]
  },
  {
   "cell_type": "code",
   "execution_count": 5,
   "metadata": {
    "collapsed": true
   },
   "outputs": [],
   "source": [
    "# create a pathway to the database\n",
    "database_path = os.path.join(data_dir, 'database.sqlite')"
   ]
  },
  {
   "cell_type": "code",
   "execution_count": 6,
   "metadata": {
    "collapsed": true
   },
   "outputs": [],
   "source": [
    "cnx = sqlite3.connect(database_path)"
   ]
  },
  {
   "cell_type": "markdown",
   "metadata": {},
   "source": [
    "## Query the database"
   ]
  },
  {
   "cell_type": "markdown",
   "metadata": {},
   "source": [
    "### Querying the Papers table"
   ]
  },
  {
   "cell_type": "code",
   "execution_count": 7,
   "metadata": {
    "collapsed": false
   },
   "outputs": [],
   "source": [
    "df_papers = pd.read_sql(\"Select * from papers;\", cnx)"
   ]
  },
  {
   "cell_type": "code",
   "execution_count": 8,
   "metadata": {
    "collapsed": false
   },
   "outputs": [
    {
     "data": {
      "text/html": [
       "<div>\n",
       "<table border=\"1\" class=\"dataframe\">\n",
       "  <thead>\n",
       "    <tr style=\"text-align: right;\">\n",
       "      <th></th>\n",
       "      <th>id</th>\n",
       "      <th>year</th>\n",
       "      <th>title</th>\n",
       "      <th>event_type</th>\n",
       "      <th>pdf_name</th>\n",
       "      <th>abstract</th>\n",
       "      <th>paper_text</th>\n",
       "    </tr>\n",
       "  </thead>\n",
       "  <tbody>\n",
       "    <tr>\n",
       "      <th>0</th>\n",
       "      <td>1</td>\n",
       "      <td>1987</td>\n",
       "      <td>Self-Organization of Associative Database and ...</td>\n",
       "      <td></td>\n",
       "      <td>1-self-organization-of-associative-database-an...</td>\n",
       "      <td>Abstract Missing</td>\n",
       "      <td>767\\n\\nSELF-ORGANIZATION OF ASSOCIATIVE DATABA...</td>\n",
       "    </tr>\n",
       "    <tr>\n",
       "      <th>1</th>\n",
       "      <td>2</td>\n",
       "      <td>1987</td>\n",
       "      <td>The Capacity of the Kanerva Associative Memory...</td>\n",
       "      <td></td>\n",
       "      <td>2-the-capacity-of-the-kanerva-associative-memo...</td>\n",
       "      <td>Abstract Missing</td>\n",
       "      <td>184\\n\\nTHE CAPACITY OF THE KANERVA ASSOCIATIVE...</td>\n",
       "    </tr>\n",
       "    <tr>\n",
       "      <th>2</th>\n",
       "      <td>3</td>\n",
       "      <td>1987</td>\n",
       "      <td>Supervised Learning of Probability Distributio...</td>\n",
       "      <td></td>\n",
       "      <td>3-supervised-learning-of-probability-distribut...</td>\n",
       "      <td>Abstract Missing</td>\n",
       "      <td>52\\n\\nSupervised Learning of Probability Distr...</td>\n",
       "    </tr>\n",
       "    <tr>\n",
       "      <th>3</th>\n",
       "      <td>4</td>\n",
       "      <td>1987</td>\n",
       "      <td>Constrained Differential Optimization</td>\n",
       "      <td></td>\n",
       "      <td>4-constrained-differential-optimization.pdf</td>\n",
       "      <td>Abstract Missing</td>\n",
       "      <td>612\\n\\nConstrained Differential Optimization\\n...</td>\n",
       "    </tr>\n",
       "    <tr>\n",
       "      <th>4</th>\n",
       "      <td>5</td>\n",
       "      <td>1987</td>\n",
       "      <td>Towards an Organizing Principle for a Layered ...</td>\n",
       "      <td></td>\n",
       "      <td>5-towards-an-organizing-principle-for-a-layere...</td>\n",
       "      <td>Abstract Missing</td>\n",
       "      <td>485\\n\\nTOWARDS AN ORGANIZING PRINCIPLE FOR\\nA ...</td>\n",
       "    </tr>\n",
       "  </tbody>\n",
       "</table>\n",
       "</div>"
      ],
      "text/plain": [
       "   id  year                                              title event_type  \\\n",
       "0   1  1987  Self-Organization of Associative Database and ...              \n",
       "1   2  1987  The Capacity of the Kanerva Associative Memory...              \n",
       "2   3  1987  Supervised Learning of Probability Distributio...              \n",
       "3   4  1987              Constrained Differential Optimization              \n",
       "4   5  1987  Towards an Organizing Principle for a Layered ...              \n",
       "\n",
       "                                            pdf_name          abstract  \\\n",
       "0  1-self-organization-of-associative-database-an...  Abstract Missing   \n",
       "1  2-the-capacity-of-the-kanerva-associative-memo...  Abstract Missing   \n",
       "2  3-supervised-learning-of-probability-distribut...  Abstract Missing   \n",
       "3        4-constrained-differential-optimization.pdf  Abstract Missing   \n",
       "4  5-towards-an-organizing-principle-for-a-layere...  Abstract Missing   \n",
       "\n",
       "                                          paper_text  \n",
       "0  767\\n\\nSELF-ORGANIZATION OF ASSOCIATIVE DATABA...  \n",
       "1  184\\n\\nTHE CAPACITY OF THE KANERVA ASSOCIATIVE...  \n",
       "2  52\\n\\nSupervised Learning of Probability Distr...  \n",
       "3  612\\n\\nConstrained Differential Optimization\\n...  \n",
       "4  485\\n\\nTOWARDS AN ORGANIZING PRINCIPLE FOR\\nA ...  "
      ]
     },
     "execution_count": 8,
     "metadata": {},
     "output_type": "execute_result"
    }
   ],
   "source": [
    "df_papers.head()"
   ]
  },
  {
   "cell_type": "code",
   "execution_count": 9,
   "metadata": {
    "collapsed": false
   },
   "outputs": [
    {
     "data": {
      "text/plain": [
       "(6560, 7)"
      ]
     },
     "execution_count": 9,
     "metadata": {},
     "output_type": "execute_result"
    }
   ],
   "source": [
    "df_papers.shape"
   ]
  },
  {
   "cell_type": "code",
   "execution_count": 10,
   "metadata": {
    "collapsed": false
   },
   "outputs": [
    {
     "name": "stdout",
     "output_type": "stream",
     "text": [
      "<class 'pandas.core.frame.DataFrame'>\n",
      "RangeIndex: 6560 entries, 0 to 6559\n",
      "Data columns (total 7 columns):\n",
      "id            6560 non-null int64\n",
      "year          6560 non-null int64\n",
      "title         6560 non-null object\n",
      "event_type    6560 non-null object\n",
      "pdf_name      6560 non-null object\n",
      "abstract      6560 non-null object\n",
      "paper_text    6560 non-null object\n",
      "dtypes: int64(2), object(5)\n",
      "memory usage: 177.2 MB\n"
     ]
    }
   ],
   "source": [
    "# note the memory usage argument in the function gives a more accurate estimate of memory usage. Otherwise it just says \n",
    "# something to the effect of 3.5+Kb\n",
    "df_papers.info(memory_usage='deep')"
   ]
  },
  {
   "cell_type": "markdown",
   "metadata": {},
   "source": [
    "csvs were struggling to open due to the size. That's why I used sqlite."
   ]
  },
  {
   "cell_type": "markdown",
   "metadata": {},
   "source": [
    "### Querying the authors table"
   ]
  },
  {
   "cell_type": "code",
   "execution_count": 11,
   "metadata": {
    "collapsed": true
   },
   "outputs": [],
   "source": [
    "df_authors = pd.read_sql(\"Select * from authors;\", cnx)"
   ]
  },
  {
   "cell_type": "code",
   "execution_count": 12,
   "metadata": {
    "collapsed": false
   },
   "outputs": [
    {
     "data": {
      "text/html": [
       "<div>\n",
       "<table border=\"1\" class=\"dataframe\">\n",
       "  <thead>\n",
       "    <tr style=\"text-align: right;\">\n",
       "      <th></th>\n",
       "      <th>id</th>\n",
       "      <th>name</th>\n",
       "    </tr>\n",
       "  </thead>\n",
       "  <tbody>\n",
       "    <tr>\n",
       "      <th>0</th>\n",
       "      <td>1</td>\n",
       "      <td>Hisashi Suzuki</td>\n",
       "    </tr>\n",
       "    <tr>\n",
       "      <th>1</th>\n",
       "      <td>2</td>\n",
       "      <td>Suguru Arimoto</td>\n",
       "    </tr>\n",
       "    <tr>\n",
       "      <th>2</th>\n",
       "      <td>3</td>\n",
       "      <td>Philip A. Chou</td>\n",
       "    </tr>\n",
       "    <tr>\n",
       "      <th>3</th>\n",
       "      <td>4</td>\n",
       "      <td>John C. Platt</td>\n",
       "    </tr>\n",
       "    <tr>\n",
       "      <th>4</th>\n",
       "      <td>5</td>\n",
       "      <td>Alan H. Barr</td>\n",
       "    </tr>\n",
       "  </tbody>\n",
       "</table>\n",
       "</div>"
      ],
      "text/plain": [
       "   id            name\n",
       "0   1  Hisashi Suzuki\n",
       "1   2  Suguru Arimoto\n",
       "2   3  Philip A. Chou\n",
       "3   4   John C. Platt\n",
       "4   5    Alan H. Barr"
      ]
     },
     "execution_count": 12,
     "metadata": {},
     "output_type": "execute_result"
    }
   ],
   "source": [
    "df_authors.head()"
   ]
  },
  {
   "cell_type": "code",
   "execution_count": 13,
   "metadata": {
    "collapsed": false
   },
   "outputs": [
    {
     "name": "stdout",
     "output_type": "stream",
     "text": [
      "<class 'pandas.core.frame.DataFrame'>\n",
      "RangeIndex: 8653 entries, 0 to 8652\n",
      "Data columns (total 2 columns):\n",
      "id      8653 non-null int64\n",
      "name    8653 non-null object\n",
      "dtypes: int64(1), object(1)\n",
      "memory usage: 665.9 KB\n"
     ]
    }
   ],
   "source": [
    "df_authors.info(memory_usage='deep')"
   ]
  },
  {
   "cell_type": "markdown",
   "metadata": {},
   "source": [
    "### Querying the paper author key table"
   ]
  },
  {
   "cell_type": "code",
   "execution_count": 14,
   "metadata": {
    "collapsed": true
   },
   "outputs": [],
   "source": [
    "df_key = pd.read_sql(\"Select * from paper_authors;\", cnx)"
   ]
  },
  {
   "cell_type": "code",
   "execution_count": 15,
   "metadata": {
    "collapsed": false
   },
   "outputs": [
    {
     "data": {
      "text/html": [
       "<div>\n",
       "<table border=\"1\" class=\"dataframe\">\n",
       "  <thead>\n",
       "    <tr style=\"text-align: right;\">\n",
       "      <th></th>\n",
       "      <th>id</th>\n",
       "      <th>paper_id</th>\n",
       "      <th>author_id</th>\n",
       "    </tr>\n",
       "  </thead>\n",
       "  <tbody>\n",
       "    <tr>\n",
       "      <th>0</th>\n",
       "      <td>1</td>\n",
       "      <td>63</td>\n",
       "      <td>94</td>\n",
       "    </tr>\n",
       "    <tr>\n",
       "      <th>1</th>\n",
       "      <td>2</td>\n",
       "      <td>80</td>\n",
       "      <td>124</td>\n",
       "    </tr>\n",
       "    <tr>\n",
       "      <th>2</th>\n",
       "      <td>3</td>\n",
       "      <td>80</td>\n",
       "      <td>125</td>\n",
       "    </tr>\n",
       "    <tr>\n",
       "      <th>3</th>\n",
       "      <td>4</td>\n",
       "      <td>80</td>\n",
       "      <td>126</td>\n",
       "    </tr>\n",
       "    <tr>\n",
       "      <th>4</th>\n",
       "      <td>5</td>\n",
       "      <td>80</td>\n",
       "      <td>127</td>\n",
       "    </tr>\n",
       "  </tbody>\n",
       "</table>\n",
       "</div>"
      ],
      "text/plain": [
       "   id  paper_id  author_id\n",
       "0   1        63         94\n",
       "1   2        80        124\n",
       "2   3        80        125\n",
       "3   4        80        126\n",
       "4   5        80        127"
      ]
     },
     "execution_count": 15,
     "metadata": {},
     "output_type": "execute_result"
    }
   ],
   "source": [
    "df_key.head()"
   ]
  },
  {
   "cell_type": "code",
   "execution_count": 16,
   "metadata": {
    "collapsed": false
   },
   "outputs": [
    {
     "name": "stdout",
     "output_type": "stream",
     "text": [
      "<class 'pandas.core.frame.DataFrame'>\n",
      "RangeIndex: 18321 entries, 0 to 18320\n",
      "Data columns (total 3 columns):\n",
      "id           18321 non-null int64\n",
      "paper_id     18321 non-null int64\n",
      "author_id    18321 non-null int64\n",
      "dtypes: int64(3)\n",
      "memory usage: 429.5 KB\n"
     ]
    }
   ],
   "source": [
    "df_key.info(memory_usage='deep')"
   ]
  },
  {
   "cell_type": "markdown",
   "metadata": {},
   "source": [
    "## Start analysing the hell out of it"
   ]
  },
  {
   "cell_type": "markdown",
   "metadata": {},
   "source": [
    "### How big are the papers?"
   ]
  },
  {
   "cell_type": "code",
   "execution_count": 17,
   "metadata": {
    "collapsed": false
   },
   "outputs": [],
   "source": [
    "df_papers['paper_length'] = df_papers['paper_text'].str.split().apply(len)"
   ]
  },
  {
   "cell_type": "markdown",
   "metadata": {},
   "source": [
    "### Simple test - How many papers have been submitted by UNSW?"
   ]
  },
  {
   "cell_type": "code",
   "execution_count": 18,
   "metadata": {
    "collapsed": false
   },
   "outputs": [
    {
     "data": {
      "text/plain": [
       "5"
      ]
     },
     "execution_count": 18,
     "metadata": {},
     "output_type": "execute_result"
    }
   ],
   "source": [
    "df_papers['paper_text'].str.contains('UNSW').sum()"
   ]
  },
  {
   "cell_type": "code",
   "execution_count": 19,
   "metadata": {
    "collapsed": false
   },
   "outputs": [
    {
     "data": {
      "text/plain": [
       "10"
      ]
     },
     "execution_count": 19,
     "metadata": {},
     "output_type": "execute_result"
    }
   ],
   "source": [
    "df_papers['paper_text'].str.contains('University of New South Wales').sum()"
   ]
  },
  {
   "cell_type": "code",
   "execution_count": 20,
   "metadata": {
    "collapsed": false
   },
   "outputs": [
    {
     "data": {
      "text/html": [
       "<div>\n",
       "<table border=\"1\" class=\"dataframe\">\n",
       "  <thead>\n",
       "    <tr style=\"text-align: right;\">\n",
       "      <th></th>\n",
       "      <th>id</th>\n",
       "      <th>year</th>\n",
       "      <th>title</th>\n",
       "      <th>event_type</th>\n",
       "      <th>pdf_name</th>\n",
       "      <th>abstract</th>\n",
       "      <th>paper_text</th>\n",
       "      <th>paper_length</th>\n",
       "    </tr>\n",
       "  </thead>\n",
       "  <tbody>\n",
       "    <tr>\n",
       "      <th>3580</th>\n",
       "      <td>3619</td>\n",
       "      <td>2008</td>\n",
       "      <td>A computational model of hippocampal function ...</td>\n",
       "      <td></td>\n",
       "      <td>3619-a-computational-model-of-hippocampal-func...</td>\n",
       "      <td>We present a new reinforcement-learning model ...</td>\n",
       "      <td>A computational model of hippocampal function ...</td>\n",
       "      <td>4392</td>\n",
       "    </tr>\n",
       "    <tr>\n",
       "      <th>4402</th>\n",
       "      <td>4441</td>\n",
       "      <td>2011</td>\n",
       "      <td>Generalized Lasso based Approximation of Spars...</td>\n",
       "      <td></td>\n",
       "      <td>4441-generalized-lasso-based-approximation-of-...</td>\n",
       "      <td>Sparse coding, a method of explaining sensory ...</td>\n",
       "      <td>Generalized Lasso based Approximation of Spars...</td>\n",
       "      <td>5549</td>\n",
       "    </tr>\n",
       "    <tr>\n",
       "      <th>4924</th>\n",
       "      <td>4964</td>\n",
       "      <td>2013</td>\n",
       "      <td>Projecting Ising Model Parameters for Fast Mixing</td>\n",
       "      <td>Poster</td>\n",
       "      <td>4964-projecting-ising-model-parameters-for-fas...</td>\n",
       "      <td>Inference in general Ising models is difficult...</td>\n",
       "      <td>Projecting Ising Model Parameters for Fast Mix...</td>\n",
       "      <td>5093</td>\n",
       "    </tr>\n",
       "    <tr>\n",
       "      <th>5131</th>\n",
       "      <td>5171</td>\n",
       "      <td>2013</td>\n",
       "      <td>Factorized Asymptotic Bayesian Inference for L...</td>\n",
       "      <td>Poster</td>\n",
       "      <td>5171-factorized-asymptotic-bayesian-inference-...</td>\n",
       "      <td>This paper extends factorized asymptotic Bayes...</td>\n",
       "      <td>Factorized Asymptotic Bayesian Inference\\nfor ...</td>\n",
       "      <td>5776</td>\n",
       "    </tr>\n",
       "    <tr>\n",
       "      <th>5272</th>\n",
       "      <td>5315</td>\n",
       "      <td>2014</td>\n",
       "      <td>Projecting Markov Random Field Parameters for ...</td>\n",
       "      <td>Poster</td>\n",
       "      <td>5315-projecting-markov-random-field-parameters...</td>\n",
       "      <td>Markov chain Monte Carlo (MCMC) algorithms are...</td>\n",
       "      <td>Projecting Markov Random Field Parameters for\\...</td>\n",
       "      <td>5122</td>\n",
       "    </tr>\n",
       "    <tr>\n",
       "      <th>5331</th>\n",
       "      <td>5374</td>\n",
       "      <td>2014</td>\n",
       "      <td>Automated Variational Inference for Gaussian P...</td>\n",
       "      <td>Poster</td>\n",
       "      <td>5374-automated-variational-inference-for-gauss...</td>\n",
       "      <td>We develop an automated variational method for...</td>\n",
       "      <td>Automated Variational Inference\\nfor Gaussian ...</td>\n",
       "      <td>5133</td>\n",
       "    </tr>\n",
       "    <tr>\n",
       "      <th>5410</th>\n",
       "      <td>5453</td>\n",
       "      <td>2014</td>\n",
       "      <td>(Almost) No Label No Cry</td>\n",
       "      <td>Spotlight</td>\n",
       "      <td>5453-almost-no-label-no-cry.pdf</td>\n",
       "      <td>In Learning with Label Proportions (LLP), the ...</td>\n",
       "      <td>(Almost) No Label No Cry\\n\\nGiorgio Patrini1,2...</td>\n",
       "      <td>6630</td>\n",
       "    </tr>\n",
       "    <tr>\n",
       "      <th>5412</th>\n",
       "      <td>5455</td>\n",
       "      <td>2014</td>\n",
       "      <td>Extended and Unscented Gaussian Processes</td>\n",
       "      <td>Spotlight</td>\n",
       "      <td>5455-extended-and-unscented-gaussian-processes...</td>\n",
       "      <td>We present two new methods for inference in Ga...</td>\n",
       "      <td>Extended and Unscented Gaussian Processes\\nDan...</td>\n",
       "      <td>5355</td>\n",
       "    </tr>\n",
       "    <tr>\n",
       "      <th>5622</th>\n",
       "      <td>5665</td>\n",
       "      <td>2015</td>\n",
       "      <td>Scalable Inference for Gaussian Process Models...</td>\n",
       "      <td>Poster</td>\n",
       "      <td>5665-scalable-inference-for-gaussian-process-m...</td>\n",
       "      <td>We propose a sparse method for scalable automa...</td>\n",
       "      <td>Scalable Inference for Gaussian Process Models...</td>\n",
       "      <td>5226</td>\n",
       "    </tr>\n",
       "    <tr>\n",
       "      <th>6200</th>\n",
       "      <td>6243</td>\n",
       "      <td>2016</td>\n",
       "      <td>Infinite Hidden Semi-Markov Modulated Interact...</td>\n",
       "      <td>Poster</td>\n",
       "      <td>6243-infinite-hidden-semi-markov-modulated-int...</td>\n",
       "      <td>The correlation between events is ubiquitous a...</td>\n",
       "      <td>Infinite Hidden Semi-Markov Modulated Interact...</td>\n",
       "      <td>5639</td>\n",
       "    </tr>\n",
       "  </tbody>\n",
       "</table>\n",
       "</div>"
      ],
      "text/plain": [
       "        id  year                                              title  \\\n",
       "3580  3619  2008  A computational model of hippocampal function ...   \n",
       "4402  4441  2011  Generalized Lasso based Approximation of Spars...   \n",
       "4924  4964  2013  Projecting Ising Model Parameters for Fast Mixing   \n",
       "5131  5171  2013  Factorized Asymptotic Bayesian Inference for L...   \n",
       "5272  5315  2014  Projecting Markov Random Field Parameters for ...   \n",
       "5331  5374  2014  Automated Variational Inference for Gaussian P...   \n",
       "5410  5453  2014                           (Almost) No Label No Cry   \n",
       "5412  5455  2014          Extended and Unscented Gaussian Processes   \n",
       "5622  5665  2015  Scalable Inference for Gaussian Process Models...   \n",
       "6200  6243  2016  Infinite Hidden Semi-Markov Modulated Interact...   \n",
       "\n",
       "     event_type                                           pdf_name  \\\n",
       "3580             3619-a-computational-model-of-hippocampal-func...   \n",
       "4402             4441-generalized-lasso-based-approximation-of-...   \n",
       "4924     Poster  4964-projecting-ising-model-parameters-for-fas...   \n",
       "5131     Poster  5171-factorized-asymptotic-bayesian-inference-...   \n",
       "5272     Poster  5315-projecting-markov-random-field-parameters...   \n",
       "5331     Poster  5374-automated-variational-inference-for-gauss...   \n",
       "5410  Spotlight                    5453-almost-no-label-no-cry.pdf   \n",
       "5412  Spotlight  5455-extended-and-unscented-gaussian-processes...   \n",
       "5622     Poster  5665-scalable-inference-for-gaussian-process-m...   \n",
       "6200     Poster  6243-infinite-hidden-semi-markov-modulated-int...   \n",
       "\n",
       "                                               abstract  \\\n",
       "3580  We present a new reinforcement-learning model ...   \n",
       "4402  Sparse coding, a method of explaining sensory ...   \n",
       "4924  Inference in general Ising models is difficult...   \n",
       "5131  This paper extends factorized asymptotic Bayes...   \n",
       "5272  Markov chain Monte Carlo (MCMC) algorithms are...   \n",
       "5331  We develop an automated variational method for...   \n",
       "5410  In Learning with Label Proportions (LLP), the ...   \n",
       "5412  We present two new methods for inference in Ga...   \n",
       "5622  We propose a sparse method for scalable automa...   \n",
       "6200  The correlation between events is ubiquitous a...   \n",
       "\n",
       "                                             paper_text  paper_length  \n",
       "3580  A computational model of hippocampal function ...          4392  \n",
       "4402  Generalized Lasso based Approximation of Spars...          5549  \n",
       "4924  Projecting Ising Model Parameters for Fast Mix...          5093  \n",
       "5131  Factorized Asymptotic Bayesian Inference\\nfor ...          5776  \n",
       "5272  Projecting Markov Random Field Parameters for\\...          5122  \n",
       "5331  Automated Variational Inference\\nfor Gaussian ...          5133  \n",
       "5410  (Almost) No Label No Cry\\n\\nGiorgio Patrini1,2...          6630  \n",
       "5412  Extended and Unscented Gaussian Processes\\nDan...          5355  \n",
       "5622  Scalable Inference for Gaussian Process Models...          5226  \n",
       "6200  Infinite Hidden Semi-Markov Modulated Interact...          5639  "
      ]
     },
     "execution_count": 20,
     "metadata": {},
     "output_type": "execute_result"
    }
   ],
   "source": [
    "df_papers[df_papers['paper_text'].str.contains('University of New South Wales')]"
   ]
  },
  {
   "cell_type": "markdown",
   "metadata": {},
   "source": [
    "### how about Australia as a whole?"
   ]
  },
  {
   "cell_type": "code",
   "execution_count": 21,
   "metadata": {
    "collapsed": false
   },
   "outputs": [
    {
     "data": {
      "text/plain": [
       "263"
      ]
     },
     "execution_count": 21,
     "metadata": {},
     "output_type": "execute_result"
    }
   ],
   "source": [
    "df_papers['paper_text'].str.contains('Australia').sum()"
   ]
  },
  {
   "cell_type": "code",
   "execution_count": 22,
   "metadata": {
    "collapsed": false
   },
   "outputs": [
    {
     "data": {
      "text/html": [
       "<div>\n",
       "<table border=\"1\" class=\"dataframe\">\n",
       "  <thead>\n",
       "    <tr style=\"text-align: right;\">\n",
       "      <th></th>\n",
       "      <th>id</th>\n",
       "      <th>year</th>\n",
       "      <th>title</th>\n",
       "      <th>event_type</th>\n",
       "      <th>pdf_name</th>\n",
       "      <th>abstract</th>\n",
       "      <th>paper_text</th>\n",
       "      <th>paper_length</th>\n",
       "    </tr>\n",
       "  </thead>\n",
       "  <tbody>\n",
       "    <tr>\n",
       "      <th>262</th>\n",
       "      <td>269</td>\n",
       "      <td>1989</td>\n",
       "      <td>Predicting Weather Using a Genetic Memory: A C...</td>\n",
       "      <td></td>\n",
       "      <td>269-predicting-weather-using-a-genetic-memory-...</td>\n",
       "      <td>Abstract Missing</td>\n",
       "      <td>Predicting Weather Using a Genetic Memory\\n\\nP...</td>\n",
       "      <td>3861</td>\n",
       "    </tr>\n",
       "    <tr>\n",
       "      <th>280</th>\n",
       "      <td>289</td>\n",
       "      <td>1989</td>\n",
       "      <td>Using Local Models to Control Movement</td>\n",
       "      <td></td>\n",
       "      <td>289-using-local-models-to-control-movement.pdf</td>\n",
       "      <td>Abstract Missing</td>\n",
       "      <td>316\\n\\nAtkeson\\n\\nUsing Local Models to Contro...</td>\n",
       "      <td>2926</td>\n",
       "    </tr>\n",
       "    <tr>\n",
       "      <th>375</th>\n",
       "      <td>386</td>\n",
       "      <td>1990</td>\n",
       "      <td>e-Entropy and the Complexity of Feedforward Ne...</td>\n",
       "      <td></td>\n",
       "      <td>386-e-entropy-and-the-complexity-of-feedforwar...</td>\n",
       "      <td>Abstract Missing</td>\n",
       "      <td>c-Entropy and the Complexity of\\nFeedforward N...</td>\n",
       "      <td>2341</td>\n",
       "    </tr>\n",
       "    <tr>\n",
       "      <th>398</th>\n",
       "      <td>410</td>\n",
       "      <td>1990</td>\n",
       "      <td>Comparison of three classification techniques:...</td>\n",
       "      <td></td>\n",
       "      <td>410-comparison-of-three-classification-techniq...</td>\n",
       "      <td>Abstract Missing</td>\n",
       "      <td>Comparison of three classification techniques,...</td>\n",
       "      <td>3114</td>\n",
       "    </tr>\n",
       "    <tr>\n",
       "      <th>422</th>\n",
       "      <td>434</td>\n",
       "      <td>1990</td>\n",
       "      <td>Direct memory access using two cues: Finding t...</td>\n",
       "      <td></td>\n",
       "      <td>434-direct-memory-access-using-two-cues-findin...</td>\n",
       "      <td>Abstract Missing</td>\n",
       "      <td>Direct memory access using two cues: Finding\\n...</td>\n",
       "      <td>3158</td>\n",
       "    </tr>\n",
       "  </tbody>\n",
       "</table>\n",
       "</div>"
      ],
      "text/plain": [
       "      id  year                                              title event_type  \\\n",
       "262  269  1989  Predicting Weather Using a Genetic Memory: A C...              \n",
       "280  289  1989             Using Local Models to Control Movement              \n",
       "375  386  1990  e-Entropy and the Complexity of Feedforward Ne...              \n",
       "398  410  1990  Comparison of three classification techniques:...              \n",
       "422  434  1990  Direct memory access using two cues: Finding t...              \n",
       "\n",
       "                                              pdf_name          abstract  \\\n",
       "262  269-predicting-weather-using-a-genetic-memory-...  Abstract Missing   \n",
       "280     289-using-local-models-to-control-movement.pdf  Abstract Missing   \n",
       "375  386-e-entropy-and-the-complexity-of-feedforwar...  Abstract Missing   \n",
       "398  410-comparison-of-three-classification-techniq...  Abstract Missing   \n",
       "422  434-direct-memory-access-using-two-cues-findin...  Abstract Missing   \n",
       "\n",
       "                                            paper_text  paper_length  \n",
       "262  Predicting Weather Using a Genetic Memory\\n\\nP...          3861  \n",
       "280  316\\n\\nAtkeson\\n\\nUsing Local Models to Contro...          2926  \n",
       "375  c-Entropy and the Complexity of\\nFeedforward N...          2341  \n",
       "398  Comparison of three classification techniques,...          3114  \n",
       "422  Direct memory access using two cues: Finding\\n...          3158  "
      ]
     },
     "execution_count": 22,
     "metadata": {},
     "output_type": "execute_result"
    }
   ],
   "source": [
    "df_papers[df_papers['paper_text'].str.contains('Australia')].head()"
   ]
  },
  {
   "cell_type": "markdown",
   "metadata": {},
   "source": [
    "This gives me all kinds of junk. dataframe id 262 \"predicting weather using genetic memory\" has the word Australia listed inside the body of the text while describing something near the Australian coast. One way of handling this is to search for the word Australia within the first 100 words of the paper_text."
   ]
  },
  {
   "cell_type": "code",
   "execution_count": 23,
   "metadata": {
    "collapsed": false
   },
   "outputs": [],
   "source": [
    "# get the first 500 words of the paper text and store it in a new variable \"paper_text_500_words\"\n",
    "df_papers['paper_text_500_words'] = df_papers['paper_text'].apply(lambda x: ' '.join(x.split()[:500]))"
   ]
  },
  {
   "cell_type": "code",
   "execution_count": 24,
   "metadata": {
    "collapsed": false
   },
   "outputs": [
    {
     "data": {
      "text/plain": [
       "154"
      ]
     },
     "execution_count": 24,
     "metadata": {},
     "output_type": "execute_result"
    }
   ],
   "source": [
    "df_papers['paper_text_500_words'].str.contains('Australia').sum()"
   ]
  },
  {
   "cell_type": "markdown",
   "metadata": {},
   "source": [
    "Its not bullet-proof. Some Australian authors may have published without university affiliations. In such cases, there's no reason why the word 'Australia' might figure in their papers. However, I cant think of a better way to approach the problem. So it will have to do!\n",
    "\n",
    "WOW. 154 papers from Australia out of the 6500 papers. Still, its not too shabby, and i have my playground at last."
   ]
  },
  {
   "cell_type": "code",
   "execution_count": 25,
   "metadata": {
    "collapsed": false
   },
   "outputs": [
    {
     "data": {
      "text/html": [
       "<div>\n",
       "<table border=\"1\" class=\"dataframe\">\n",
       "  <thead>\n",
       "    <tr style=\"text-align: right;\">\n",
       "      <th></th>\n",
       "      <th>id</th>\n",
       "      <th>year</th>\n",
       "      <th>title</th>\n",
       "      <th>event_type</th>\n",
       "      <th>pdf_name</th>\n",
       "      <th>abstract</th>\n",
       "      <th>paper_text</th>\n",
       "      <th>paper_length</th>\n",
       "      <th>paper_text_500_words</th>\n",
       "    </tr>\n",
       "  </thead>\n",
       "  <tbody>\n",
       "    <tr>\n",
       "      <th>375</th>\n",
       "      <td>386</td>\n",
       "      <td>1990</td>\n",
       "      <td>e-Entropy and the Complexity of Feedforward Ne...</td>\n",
       "      <td></td>\n",
       "      <td>386-e-entropy-and-the-complexity-of-feedforwar...</td>\n",
       "      <td>Abstract Missing</td>\n",
       "      <td>c-Entropy and the Complexity of\\nFeedforward N...</td>\n",
       "      <td>2341</td>\n",
       "      <td>c-Entropy and the Complexity of Feedforward Ne...</td>\n",
       "    </tr>\n",
       "    <tr>\n",
       "      <th>398</th>\n",
       "      <td>410</td>\n",
       "      <td>1990</td>\n",
       "      <td>Comparison of three classification techniques:...</td>\n",
       "      <td></td>\n",
       "      <td>410-comparison-of-three-classification-techniq...</td>\n",
       "      <td>Abstract Missing</td>\n",
       "      <td>Comparison of three classification techniques,...</td>\n",
       "      <td>3114</td>\n",
       "      <td>Comparison of three classification techniques,...</td>\n",
       "    </tr>\n",
       "    <tr>\n",
       "      <th>422</th>\n",
       "      <td>434</td>\n",
       "      <td>1990</td>\n",
       "      <td>Direct memory access using two cues: Finding t...</td>\n",
       "      <td></td>\n",
       "      <td>434-direct-memory-access-using-two-cues-findin...</td>\n",
       "      <td>Abstract Missing</td>\n",
       "      <td>Direct memory access using two cues: Finding\\n...</td>\n",
       "      <td>3158</td>\n",
       "      <td>Direct memory access using two cues: Finding t...</td>\n",
       "    </tr>\n",
       "    <tr>\n",
       "      <th>430</th>\n",
       "      <td>442</td>\n",
       "      <td>1991</td>\n",
       "      <td>Splines, Rational Functions and Neural Networks</td>\n",
       "      <td></td>\n",
       "      <td>442-splines-rational-functions-and-neural-netw...</td>\n",
       "      <td>Abstract Missing</td>\n",
       "      <td>Splines, Rational Functions and Neural Network...</td>\n",
       "      <td>2841</td>\n",
       "      <td>Splines, Rational Functions and Neural Network...</td>\n",
       "    </tr>\n",
       "    <tr>\n",
       "      <th>456</th>\n",
       "      <td>468</td>\n",
       "      <td>1991</td>\n",
       "      <td>Operators and curried functions: Training and ...</td>\n",
       "      <td></td>\n",
       "      <td>468-operators-and-curried-functions-training-a...</td>\n",
       "      <td>Abstract Missing</td>\n",
       "      <td>Operators and curried functions:\\nTraining and...</td>\n",
       "      <td>2674</td>\n",
       "      <td>Operators and curried functions: Training and ...</td>\n",
       "    </tr>\n",
       "  </tbody>\n",
       "</table>\n",
       "</div>"
      ],
      "text/plain": [
       "      id  year                                              title event_type  \\\n",
       "375  386  1990  e-Entropy and the Complexity of Feedforward Ne...              \n",
       "398  410  1990  Comparison of three classification techniques:...              \n",
       "422  434  1990  Direct memory access using two cues: Finding t...              \n",
       "430  442  1991    Splines, Rational Functions and Neural Networks              \n",
       "456  468  1991  Operators and curried functions: Training and ...              \n",
       "\n",
       "                                              pdf_name          abstract  \\\n",
       "375  386-e-entropy-and-the-complexity-of-feedforwar...  Abstract Missing   \n",
       "398  410-comparison-of-three-classification-techniq...  Abstract Missing   \n",
       "422  434-direct-memory-access-using-two-cues-findin...  Abstract Missing   \n",
       "430  442-splines-rational-functions-and-neural-netw...  Abstract Missing   \n",
       "456  468-operators-and-curried-functions-training-a...  Abstract Missing   \n",
       "\n",
       "                                            paper_text  paper_length  \\\n",
       "375  c-Entropy and the Complexity of\\nFeedforward N...          2341   \n",
       "398  Comparison of three classification techniques,...          3114   \n",
       "422  Direct memory access using two cues: Finding\\n...          3158   \n",
       "430  Splines, Rational Functions and Neural Network...          2841   \n",
       "456  Operators and curried functions:\\nTraining and...          2674   \n",
       "\n",
       "                                  paper_text_500_words  \n",
       "375  c-Entropy and the Complexity of Feedforward Ne...  \n",
       "398  Comparison of three classification techniques,...  \n",
       "422  Direct memory access using two cues: Finding t...  \n",
       "430  Splines, Rational Functions and Neural Network...  \n",
       "456  Operators and curried functions: Training and ...  "
      ]
     },
     "execution_count": 25,
     "metadata": {},
     "output_type": "execute_result"
    }
   ],
   "source": [
    "df_papers[df_papers['paper_text_500_words'].str.contains('Australia')].head()"
   ]
  },
  {
   "cell_type": "code",
   "execution_count": 26,
   "metadata": {
    "collapsed": false
   },
   "outputs": [],
   "source": [
    "df_papers['ozzie'] = np.where(df_papers['paper_text_500_words'].str.contains('Australia'),1,0)"
   ]
  },
  {
   "cell_type": "code",
   "execution_count": 27,
   "metadata": {
    "collapsed": false
   },
   "outputs": [
    {
     "data": {
      "text/plain": [
       "0    6406\n",
       "1     154\n",
       "Name: ozzie, dtype: int64"
      ]
     },
     "execution_count": 27,
     "metadata": {},
     "output_type": "execute_result"
    }
   ],
   "source": [
    "df_papers.ozzie.value_counts()"
   ]
  },
  {
   "cell_type": "markdown",
   "metadata": {},
   "source": [
    "## Lets get in authors into the mix"
   ]
  },
  {
   "cell_type": "code",
   "execution_count": 28,
   "metadata": {
    "collapsed": false
   },
   "outputs": [
    {
     "data": {
      "text/html": [
       "<div>\n",
       "<table border=\"1\" class=\"dataframe\">\n",
       "  <thead>\n",
       "    <tr style=\"text-align: right;\">\n",
       "      <th></th>\n",
       "      <th>id</th>\n",
       "      <th>name</th>\n",
       "    </tr>\n",
       "  </thead>\n",
       "  <tbody>\n",
       "    <tr>\n",
       "      <th>0</th>\n",
       "      <td>1</td>\n",
       "      <td>Hisashi Suzuki</td>\n",
       "    </tr>\n",
       "    <tr>\n",
       "      <th>1</th>\n",
       "      <td>2</td>\n",
       "      <td>Suguru Arimoto</td>\n",
       "    </tr>\n",
       "    <tr>\n",
       "      <th>2</th>\n",
       "      <td>3</td>\n",
       "      <td>Philip A. Chou</td>\n",
       "    </tr>\n",
       "    <tr>\n",
       "      <th>3</th>\n",
       "      <td>4</td>\n",
       "      <td>John C. Platt</td>\n",
       "    </tr>\n",
       "    <tr>\n",
       "      <th>4</th>\n",
       "      <td>5</td>\n",
       "      <td>Alan H. Barr</td>\n",
       "    </tr>\n",
       "  </tbody>\n",
       "</table>\n",
       "</div>"
      ],
      "text/plain": [
       "   id            name\n",
       "0   1  Hisashi Suzuki\n",
       "1   2  Suguru Arimoto\n",
       "2   3  Philip A. Chou\n",
       "3   4   John C. Platt\n",
       "4   5    Alan H. Barr"
      ]
     },
     "execution_count": 28,
     "metadata": {},
     "output_type": "execute_result"
    }
   ],
   "source": [
    "df_authors.head()"
   ]
  },
  {
   "cell_type": "markdown",
   "metadata": {},
   "source": [
    "#### Merge with the key and the author tables"
   ]
  },
  {
   "cell_type": "code",
   "execution_count": 29,
   "metadata": {
    "collapsed": false
   },
   "outputs": [],
   "source": [
    "df_ozzie = pd.merge(left=df_papers[df_papers.ozzie == 1], right=df_key, left_on='id', right_on='paper_id',\n",
    "                    suffixes=('_papers', '_key'))\n",
    "df_ozzie = pd.merge(left = df_ozzie, right = df_authors, how='left',left_on='author_id', right_on='id',\n",
    "                    suffixes=('_ozzie', '_author'))"
   ]
  },
  {
   "cell_type": "markdown",
   "metadata": {},
   "source": [
    "#### Remove the extraneous columns just to keep your sanity"
   ]
  },
  {
   "cell_type": "code",
   "execution_count": 30,
   "metadata": {
    "collapsed": false
   },
   "outputs": [
    {
     "data": {
      "text/html": [
       "<div>\n",
       "<table border=\"1\" class=\"dataframe\">\n",
       "  <thead>\n",
       "    <tr style=\"text-align: right;\">\n",
       "      <th></th>\n",
       "      <th>year</th>\n",
       "      <th>title</th>\n",
       "      <th>pdf_name</th>\n",
       "      <th>paper_text</th>\n",
       "      <th>paper_length</th>\n",
       "      <th>paper_text_500_words</th>\n",
       "      <th>name</th>\n",
       "    </tr>\n",
       "  </thead>\n",
       "  <tbody>\n",
       "    <tr>\n",
       "      <th>0</th>\n",
       "      <td>1990</td>\n",
       "      <td>e-Entropy and the Complexity of Feedforward Ne...</td>\n",
       "      <td>386-e-entropy-and-the-complexity-of-feedforwar...</td>\n",
       "      <td>c-Entropy and the Complexity of\\nFeedforward N...</td>\n",
       "      <td>2341</td>\n",
       "      <td>c-Entropy and the Complexity of Feedforward Ne...</td>\n",
       "      <td>Robert C. Williamson</td>\n",
       "    </tr>\n",
       "    <tr>\n",
       "      <th>1</th>\n",
       "      <td>1990</td>\n",
       "      <td>Comparison of three classification techniques:...</td>\n",
       "      <td>410-comparison-of-three-classification-techniq...</td>\n",
       "      <td>Comparison of three classification techniques,...</td>\n",
       "      <td>3114</td>\n",
       "      <td>Comparison of three classification techniques,...</td>\n",
       "      <td>A. C. Tsoi</td>\n",
       "    </tr>\n",
       "    <tr>\n",
       "      <th>2</th>\n",
       "      <td>1990</td>\n",
       "      <td>Comparison of three classification techniques:...</td>\n",
       "      <td>410-comparison-of-three-classification-techniq...</td>\n",
       "      <td>Comparison of three classification techniques,...</td>\n",
       "      <td>3114</td>\n",
       "      <td>Comparison of three classification techniques,...</td>\n",
       "      <td>R. A. Pearson</td>\n",
       "    </tr>\n",
       "    <tr>\n",
       "      <th>3</th>\n",
       "      <td>1990</td>\n",
       "      <td>Direct memory access using two cues: Finding t...</td>\n",
       "      <td>434-direct-memory-access-using-two-cues-findin...</td>\n",
       "      <td>Direct memory access using two cues: Finding\\n...</td>\n",
       "      <td>3158</td>\n",
       "      <td>Direct memory access using two cues: Finding t...</td>\n",
       "      <td>Janet Wiles</td>\n",
       "    </tr>\n",
       "    <tr>\n",
       "      <th>4</th>\n",
       "      <td>1990</td>\n",
       "      <td>Direct memory access using two cues: Finding t...</td>\n",
       "      <td>434-direct-memory-access-using-two-cues-findin...</td>\n",
       "      <td>Direct memory access using two cues: Finding\\n...</td>\n",
       "      <td>3158</td>\n",
       "      <td>Direct memory access using two cues: Finding t...</td>\n",
       "      <td>Michael S. Humphreys</td>\n",
       "    </tr>\n",
       "  </tbody>\n",
       "</table>\n",
       "</div>"
      ],
      "text/plain": [
       "   year                                              title  \\\n",
       "0  1990  e-Entropy and the Complexity of Feedforward Ne...   \n",
       "1  1990  Comparison of three classification techniques:...   \n",
       "2  1990  Comparison of three classification techniques:...   \n",
       "3  1990  Direct memory access using two cues: Finding t...   \n",
       "4  1990  Direct memory access using two cues: Finding t...   \n",
       "\n",
       "                                            pdf_name  \\\n",
       "0  386-e-entropy-and-the-complexity-of-feedforwar...   \n",
       "1  410-comparison-of-three-classification-techniq...   \n",
       "2  410-comparison-of-three-classification-techniq...   \n",
       "3  434-direct-memory-access-using-two-cues-findin...   \n",
       "4  434-direct-memory-access-using-two-cues-findin...   \n",
       "\n",
       "                                          paper_text  paper_length  \\\n",
       "0  c-Entropy and the Complexity of\\nFeedforward N...          2341   \n",
       "1  Comparison of three classification techniques,...          3114   \n",
       "2  Comparison of three classification techniques,...          3114   \n",
       "3  Direct memory access using two cues: Finding\\n...          3158   \n",
       "4  Direct memory access using two cues: Finding\\n...          3158   \n",
       "\n",
       "                                paper_text_500_words                  name  \n",
       "0  c-Entropy and the Complexity of Feedforward Ne...  Robert C. Williamson  \n",
       "1  Comparison of three classification techniques,...            A. C. Tsoi  \n",
       "2  Comparison of three classification techniques,...         R. A. Pearson  \n",
       "3  Direct memory access using two cues: Finding t...           Janet Wiles  \n",
       "4  Direct memory access using two cues: Finding t...  Michael S. Humphreys  "
      ]
     },
     "execution_count": 30,
     "metadata": {},
     "output_type": "execute_result"
    }
   ],
   "source": [
    "df_ozzie.drop(['id_papers','event_type','abstract','ozzie','id_key',\n",
    "               'paper_id','author_id','id'], axis = 1, inplace = True)\n",
    "df_ozzie.head()"
   ]
  },
  {
   "cell_type": "markdown",
   "metadata": {},
   "source": [
    "## Close the connection"
   ]
  },
  {
   "cell_type": "code",
   "execution_count": 31,
   "metadata": {
    "collapsed": true
   },
   "outputs": [],
   "source": [
    "cnx.close()"
   ]
  },
  {
   "cell_type": "markdown",
   "metadata": {},
   "source": [
    "## Test the function"
   ]
  },
  {
   "cell_type": "code",
   "execution_count": 32,
   "metadata": {
    "collapsed": false
   },
   "outputs": [
    {
     "name": "stdout",
     "output_type": "stream",
     "text": [
      "<class 'pandas.core.frame.DataFrame'>\n",
      "Int64Index: 448 entries, 0 to 447\n",
      "Data columns (total 7 columns):\n",
      "year                    448 non-null int64\n",
      "title                   448 non-null object\n",
      "pdf_name                448 non-null object\n",
      "paper_text              448 non-null object\n",
      "paper_length            448 non-null int64\n",
      "paper_text_500_words    448 non-null object\n",
      "name                    448 non-null object\n",
      "dtypes: int64(2), object(5)\n",
      "memory usage: 28.0+ KB\n"
     ]
    }
   ],
   "source": [
    "df_ozzie.info()"
   ]
  },
  {
   "cell_type": "code",
   "execution_count": 33,
   "metadata": {
    "collapsed": false
   },
   "outputs": [],
   "source": [
    "df_papers, df_authors, df_ozzie_fxn = nips_filter_country_specific('Australia')"
   ]
  },
  {
   "cell_type": "code",
   "execution_count": 34,
   "metadata": {
    "collapsed": false
   },
   "outputs": [
    {
     "name": "stdout",
     "output_type": "stream",
     "text": [
      "<class 'pandas.core.frame.DataFrame'>\n",
      "Int64Index: 448 entries, 0 to 447\n",
      "Data columns (total 7 columns):\n",
      "year                    448 non-null int64\n",
      "title                   448 non-null object\n",
      "pdf_name                448 non-null object\n",
      "paper_text              448 non-null object\n",
      "paper_length            448 non-null int64\n",
      "paper_text_500_words    448 non-null object\n",
      "name                    448 non-null object\n",
      "dtypes: int64(2), object(5)\n",
      "memory usage: 28.0+ KB\n"
     ]
    }
   ],
   "source": [
    "df_ozzie_fxn.info()"
   ]
  },
  {
   "cell_type": "markdown",
   "metadata": {},
   "source": [
    "### Check whether the 2 dataframes are equal"
   ]
  },
  {
   "cell_type": "code",
   "execution_count": 35,
   "metadata": {
    "collapsed": false
   },
   "outputs": [],
   "source": [
    "from pandas.util.testing import assert_frame_equal\n",
    "assert_frame_equal(df_ozzie_fxn.reset_index(drop=True), df_ozzie.reset_index(drop=True))"
   ]
  },
  {
   "cell_type": "markdown",
   "metadata": {},
   "source": [
    "FIN."
   ]
  }
 ],
 "metadata": {
  "kernelspec": {
   "display_name": "Python3.5_nips_papers_analysis",
   "language": "python",
   "name": "nips_papers_analysis"
  },
  "language_info": {
   "codemirror_mode": {
    "name": "ipython",
    "version": 3
   },
   "file_extension": ".py",
   "mimetype": "text/x-python",
   "name": "python",
   "nbconvert_exporter": "python",
   "pygments_lexer": "ipython3",
   "version": "3.5.2"
  }
 },
 "nbformat": 4,
 "nbformat_minor": 2
}
